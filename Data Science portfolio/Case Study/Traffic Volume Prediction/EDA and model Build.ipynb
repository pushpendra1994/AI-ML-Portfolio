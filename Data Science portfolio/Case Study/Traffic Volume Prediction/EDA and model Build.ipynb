{
 "cells": [
  {
   "cell_type": "markdown",
   "metadata": {},
   "source": [
    "# Exploratory Data Analysis\n"
   ]
  },
  {
   "cell_type": "markdown",
   "metadata": {},
   "source": [
    "# Objective :- \n",
    "### With the help of past data we will try Find how volume of Traffic is effected.\n",
    "### Which features are  Important in predicting traffic volume\n"
   ]
  },
  {
   "cell_type": "markdown",
   "metadata": {},
   "source": [
    "If any feature engineering performed in train then same will be performed in test <br>\n",
    "We will use train data for making inferences"
   ]
  },
  {
   "cell_type": "code",
   "execution_count": 1,
   "metadata": {},
   "outputs": [],
   "source": [
    "import warnings\n",
    "warnings.filterwarnings(\"ignore\")\n",
    "import numpy as np\n",
    "import pandas as pd\n",
    "import matplotlib.pyplot as plt\n",
    "import seaborn as sns\n",
    "import datetime as dt\n",
    "sns.set()"
   ]
  },
  {
   "cell_type": "code",
   "execution_count": 2,
   "metadata": {},
   "outputs": [],
   "source": [
    "df_train=pd.read_csv(\"train.csv\")\n",
    "df_test=pd.read_csv(\"test.csv\")"
   ]
  },
  {
   "cell_type": "code",
   "execution_count": 3,
   "metadata": {},
   "outputs": [
    {
     "data": {
      "text/html": [
       "<div>\n",
       "<style scoped>\n",
       "    .dataframe tbody tr th:only-of-type {\n",
       "        vertical-align: middle;\n",
       "    }\n",
       "\n",
       "    .dataframe tbody tr th {\n",
       "        vertical-align: top;\n",
       "    }\n",
       "\n",
       "    .dataframe thead th {\n",
       "        text-align: right;\n",
       "    }\n",
       "</style>\n",
       "<table border=\"1\" class=\"dataframe\">\n",
       "  <thead>\n",
       "    <tr style=\"text-align: right;\">\n",
       "      <th></th>\n",
       "      <th>date_time</th>\n",
       "      <th>holiday</th>\n",
       "      <th>temp</th>\n",
       "      <th>rain_1h</th>\n",
       "      <th>snow_1h</th>\n",
       "      <th>clouds_all</th>\n",
       "      <th>weather_main</th>\n",
       "      <th>weather_description</th>\n",
       "      <th>traffic_volume</th>\n",
       "    </tr>\n",
       "  </thead>\n",
       "  <tbody>\n",
       "    <tr>\n",
       "      <th>0</th>\n",
       "      <td>2012-10-02 09:00:00</td>\n",
       "      <td>None</td>\n",
       "      <td>288.28</td>\n",
       "      <td>0.0</td>\n",
       "      <td>0.0</td>\n",
       "      <td>40</td>\n",
       "      <td>Clouds</td>\n",
       "      <td>scattered clouds</td>\n",
       "      <td>5545</td>\n",
       "    </tr>\n",
       "    <tr>\n",
       "      <th>1</th>\n",
       "      <td>2012-10-02 10:00:00</td>\n",
       "      <td>None</td>\n",
       "      <td>289.36</td>\n",
       "      <td>0.0</td>\n",
       "      <td>0.0</td>\n",
       "      <td>75</td>\n",
       "      <td>Clouds</td>\n",
       "      <td>broken clouds</td>\n",
       "      <td>4516</td>\n",
       "    </tr>\n",
       "    <tr>\n",
       "      <th>2</th>\n",
       "      <td>2012-10-02 11:00:00</td>\n",
       "      <td>None</td>\n",
       "      <td>289.58</td>\n",
       "      <td>0.0</td>\n",
       "      <td>0.0</td>\n",
       "      <td>90</td>\n",
       "      <td>Clouds</td>\n",
       "      <td>overcast clouds</td>\n",
       "      <td>4767</td>\n",
       "    </tr>\n",
       "    <tr>\n",
       "      <th>3</th>\n",
       "      <td>2012-10-02 12:00:00</td>\n",
       "      <td>None</td>\n",
       "      <td>290.13</td>\n",
       "      <td>0.0</td>\n",
       "      <td>0.0</td>\n",
       "      <td>90</td>\n",
       "      <td>Clouds</td>\n",
       "      <td>overcast clouds</td>\n",
       "      <td>5026</td>\n",
       "    </tr>\n",
       "    <tr>\n",
       "      <th>4</th>\n",
       "      <td>2012-10-02 13:00:00</td>\n",
       "      <td>None</td>\n",
       "      <td>291.14</td>\n",
       "      <td>0.0</td>\n",
       "      <td>0.0</td>\n",
       "      <td>75</td>\n",
       "      <td>Clouds</td>\n",
       "      <td>broken clouds</td>\n",
       "      <td>4918</td>\n",
       "    </tr>\n",
       "  </tbody>\n",
       "</table>\n",
       "</div>"
      ],
      "text/plain": [
       "             date_time holiday    temp  rain_1h  snow_1h  clouds_all  \\\n",
       "0  2012-10-02 09:00:00    None  288.28      0.0      0.0          40   \n",
       "1  2012-10-02 10:00:00    None  289.36      0.0      0.0          75   \n",
       "2  2012-10-02 11:00:00    None  289.58      0.0      0.0          90   \n",
       "3  2012-10-02 12:00:00    None  290.13      0.0      0.0          90   \n",
       "4  2012-10-02 13:00:00    None  291.14      0.0      0.0          75   \n",
       "\n",
       "  weather_main weather_description  traffic_volume  \n",
       "0       Clouds    scattered clouds            5545  \n",
       "1       Clouds       broken clouds            4516  \n",
       "2       Clouds     overcast clouds            4767  \n",
       "3       Clouds     overcast clouds            5026  \n",
       "4       Clouds       broken clouds            4918  "
      ]
     },
     "execution_count": 3,
     "metadata": {},
     "output_type": "execute_result"
    }
   ],
   "source": [
    "df_train.head()"
   ]
  },
  {
   "cell_type": "code",
   "execution_count": 4,
   "metadata": {},
   "outputs": [
    {
     "data": {
      "text/html": [
       "<div>\n",
       "<style scoped>\n",
       "    .dataframe tbody tr th:only-of-type {\n",
       "        vertical-align: middle;\n",
       "    }\n",
       "\n",
       "    .dataframe tbody tr th {\n",
       "        vertical-align: top;\n",
       "    }\n",
       "\n",
       "    .dataframe thead th {\n",
       "        text-align: right;\n",
       "    }\n",
       "</style>\n",
       "<table border=\"1\" class=\"dataframe\">\n",
       "  <thead>\n",
       "    <tr style=\"text-align: right;\">\n",
       "      <th></th>\n",
       "      <th>date_time</th>\n",
       "      <th>holiday</th>\n",
       "      <th>temp</th>\n",
       "      <th>rain_1h</th>\n",
       "      <th>snow_1h</th>\n",
       "      <th>clouds_all</th>\n",
       "      <th>weather_main</th>\n",
       "      <th>weather_description</th>\n",
       "    </tr>\n",
       "  </thead>\n",
       "  <tbody>\n",
       "    <tr>\n",
       "      <th>0</th>\n",
       "      <td>2017-11-01 20:00:00</td>\n",
       "      <td>None</td>\n",
       "      <td>274.75</td>\n",
       "      <td>0.0</td>\n",
       "      <td>0.0</td>\n",
       "      <td>90</td>\n",
       "      <td>Mist</td>\n",
       "      <td>mist</td>\n",
       "    </tr>\n",
       "    <tr>\n",
       "      <th>1</th>\n",
       "      <td>2017-11-01 20:00:00</td>\n",
       "      <td>None</td>\n",
       "      <td>274.75</td>\n",
       "      <td>0.0</td>\n",
       "      <td>0.0</td>\n",
       "      <td>90</td>\n",
       "      <td>Rain</td>\n",
       "      <td>light rain</td>\n",
       "    </tr>\n",
       "    <tr>\n",
       "      <th>2</th>\n",
       "      <td>2017-11-01 21:00:00</td>\n",
       "      <td>None</td>\n",
       "      <td>274.79</td>\n",
       "      <td>0.0</td>\n",
       "      <td>0.0</td>\n",
       "      <td>90</td>\n",
       "      <td>Mist</td>\n",
       "      <td>mist</td>\n",
       "    </tr>\n",
       "    <tr>\n",
       "      <th>3</th>\n",
       "      <td>2017-11-01 21:00:00</td>\n",
       "      <td>None</td>\n",
       "      <td>274.79</td>\n",
       "      <td>0.0</td>\n",
       "      <td>0.0</td>\n",
       "      <td>90</td>\n",
       "      <td>Drizzle</td>\n",
       "      <td>drizzle</td>\n",
       "    </tr>\n",
       "    <tr>\n",
       "      <th>4</th>\n",
       "      <td>2017-11-01 22:00:00</td>\n",
       "      <td>None</td>\n",
       "      <td>275.08</td>\n",
       "      <td>0.0</td>\n",
       "      <td>0.0</td>\n",
       "      <td>90</td>\n",
       "      <td>Mist</td>\n",
       "      <td>mist</td>\n",
       "    </tr>\n",
       "  </tbody>\n",
       "</table>\n",
       "</div>"
      ],
      "text/plain": [
       "             date_time holiday    temp  rain_1h  snow_1h  clouds_all  \\\n",
       "0  2017-11-01 20:00:00    None  274.75      0.0      0.0          90   \n",
       "1  2017-11-01 20:00:00    None  274.75      0.0      0.0          90   \n",
       "2  2017-11-01 21:00:00    None  274.79      0.0      0.0          90   \n",
       "3  2017-11-01 21:00:00    None  274.79      0.0      0.0          90   \n",
       "4  2017-11-01 22:00:00    None  275.08      0.0      0.0          90   \n",
       "\n",
       "  weather_main weather_description  \n",
       "0         Mist                mist  \n",
       "1         Rain          light rain  \n",
       "2         Mist                mist  \n",
       "3      Drizzle             drizzle  \n",
       "4         Mist                mist  "
      ]
     },
     "execution_count": 4,
     "metadata": {},
     "output_type": "execute_result"
    }
   ],
   "source": [
    "df_test.head()"
   ]
  },
  {
   "cell_type": "code",
   "execution_count": 5,
   "metadata": {},
   "outputs": [
    {
     "name": "stdout",
     "output_type": "stream",
     "text": [
      "<class 'pandas.core.frame.DataFrame'>\n",
      "RangeIndex: 38563 entries, 0 to 38562\n",
      "Data columns (total 9 columns):\n",
      " #   Column               Non-Null Count  Dtype  \n",
      "---  ------               --------------  -----  \n",
      " 0   date_time            38563 non-null  object \n",
      " 1   holiday              38563 non-null  object \n",
      " 2   temp                 38563 non-null  float64\n",
      " 3   rain_1h              38563 non-null  float64\n",
      " 4   snow_1h              38563 non-null  float64\n",
      " 5   clouds_all           38563 non-null  int64  \n",
      " 6   weather_main         38563 non-null  object \n",
      " 7   weather_description  38563 non-null  object \n",
      " 8   traffic_volume       38563 non-null  int64  \n",
      "dtypes: float64(3), int64(2), object(4)\n",
      "memory usage: 2.6+ MB\n"
     ]
    }
   ],
   "source": [
    "df_train.info()"
   ]
  },
  {
   "cell_type": "code",
   "execution_count": 6,
   "metadata": {},
   "outputs": [
    {
     "name": "stdout",
     "output_type": "stream",
     "text": [
      "<class 'pandas.core.frame.DataFrame'>\n",
      "RangeIndex: 9641 entries, 0 to 9640\n",
      "Data columns (total 8 columns):\n",
      " #   Column               Non-Null Count  Dtype  \n",
      "---  ------               --------------  -----  \n",
      " 0   date_time            9641 non-null   object \n",
      " 1   holiday              9641 non-null   object \n",
      " 2   temp                 9641 non-null   float64\n",
      " 3   rain_1h              9641 non-null   float64\n",
      " 4   snow_1h              9641 non-null   float64\n",
      " 5   clouds_all           9641 non-null   int64  \n",
      " 6   weather_main         9641 non-null   object \n",
      " 7   weather_description  9641 non-null   object \n",
      "dtypes: float64(3), int64(1), object(4)\n",
      "memory usage: 602.7+ KB\n"
     ]
    }
   ],
   "source": [
    "df_test.info()"
   ]
  },
  {
   "cell_type": "markdown",
   "metadata": {},
   "source": [
    "We can see that date_time columns is date-time nature but treated as object we will convert it dtype to datetime"
   ]
  },
  {
   "cell_type": "code",
   "execution_count": 7,
   "metadata": {},
   "outputs": [
    {
     "name": "stdout",
     "output_type": "stream",
     "text": [
      "Data type of date_time datetime64[ns] in train,Data type of date_time datetime64[ns] in test\n"
     ]
    }
   ],
   "source": [
    "df_train[\"date_time\"]=pd.to_datetime(df_train[\"date_time\"])\n",
    "df_test[\"date_time\"]=pd.to_datetime(df_test[\"date_time\"])\n",
    "\n",
    "print(\"Data type of date_time {} in train,Data type of date_time {} in test\"\\\n",
    "      .format(df_train[\"date_time\"].dtype,df_test[\"date_time\"].dtype))"
   ]
  },
  {
   "cell_type": "markdown",
   "metadata": {},
   "source": [
    "**Based on train data** <br>\n",
    "shape - 38563x9 <br>\n",
    "No null value is found. <br>\n",
    "1 Column is Date-Time <br>\n",
    "3 Columns are of Object Data type <br>\n",
    "5 Columns are of numerical Data type. <br>\n",
    "Traffic volume is our dependent column.<br>\n",
    "_____________\n",
    "**Based on test data** <br>\n",
    "shape - 9641x8 <br>\n",
    "No null value is found. <br>\n",
    "1 Column is Date-Time <br>\n",
    "3 Columns are of Object Data type <br>\n",
    "4 Columns are of numerical Data type. <br>\n",
    "Dependent feature is not present.<br>\n"
   ]
  },
  {
   "cell_type": "code",
   "execution_count": 8,
   "metadata": {},
   "outputs": [
    {
     "data": {
      "text/html": [
       "<div>\n",
       "<style scoped>\n",
       "    .dataframe tbody tr th:only-of-type {\n",
       "        vertical-align: middle;\n",
       "    }\n",
       "\n",
       "    .dataframe tbody tr th {\n",
       "        vertical-align: top;\n",
       "    }\n",
       "\n",
       "    .dataframe thead th {\n",
       "        text-align: right;\n",
       "    }\n",
       "</style>\n",
       "<table border=\"1\" class=\"dataframe\">\n",
       "  <thead>\n",
       "    <tr style=\"text-align: right;\">\n",
       "      <th></th>\n",
       "      <th>date_time</th>\n",
       "      <th>holiday</th>\n",
       "      <th>temp</th>\n",
       "      <th>rain_1h</th>\n",
       "      <th>snow_1h</th>\n",
       "      <th>clouds_all</th>\n",
       "      <th>weather_main</th>\n",
       "      <th>weather_description</th>\n",
       "      <th>traffic_volume</th>\n",
       "      <th>Month</th>\n",
       "      <th>Year</th>\n",
       "      <th>Hour</th>\n",
       "      <th>Weekday</th>\n",
       "    </tr>\n",
       "  </thead>\n",
       "  <tbody>\n",
       "    <tr>\n",
       "      <th>0</th>\n",
       "      <td>2012-10-02 09:00:00</td>\n",
       "      <td>None</td>\n",
       "      <td>288.28</td>\n",
       "      <td>0.0</td>\n",
       "      <td>0.0</td>\n",
       "      <td>40</td>\n",
       "      <td>Clouds</td>\n",
       "      <td>scattered clouds</td>\n",
       "      <td>5545</td>\n",
       "      <td>10</td>\n",
       "      <td>2012</td>\n",
       "      <td>9</td>\n",
       "      <td>1</td>\n",
       "    </tr>\n",
       "    <tr>\n",
       "      <th>1</th>\n",
       "      <td>2012-10-02 10:00:00</td>\n",
       "      <td>None</td>\n",
       "      <td>289.36</td>\n",
       "      <td>0.0</td>\n",
       "      <td>0.0</td>\n",
       "      <td>75</td>\n",
       "      <td>Clouds</td>\n",
       "      <td>broken clouds</td>\n",
       "      <td>4516</td>\n",
       "      <td>10</td>\n",
       "      <td>2012</td>\n",
       "      <td>10</td>\n",
       "      <td>1</td>\n",
       "    </tr>\n",
       "    <tr>\n",
       "      <th>2</th>\n",
       "      <td>2012-10-02 11:00:00</td>\n",
       "      <td>None</td>\n",
       "      <td>289.58</td>\n",
       "      <td>0.0</td>\n",
       "      <td>0.0</td>\n",
       "      <td>90</td>\n",
       "      <td>Clouds</td>\n",
       "      <td>overcast clouds</td>\n",
       "      <td>4767</td>\n",
       "      <td>10</td>\n",
       "      <td>2012</td>\n",
       "      <td>11</td>\n",
       "      <td>1</td>\n",
       "    </tr>\n",
       "    <tr>\n",
       "      <th>3</th>\n",
       "      <td>2012-10-02 12:00:00</td>\n",
       "      <td>None</td>\n",
       "      <td>290.13</td>\n",
       "      <td>0.0</td>\n",
       "      <td>0.0</td>\n",
       "      <td>90</td>\n",
       "      <td>Clouds</td>\n",
       "      <td>overcast clouds</td>\n",
       "      <td>5026</td>\n",
       "      <td>10</td>\n",
       "      <td>2012</td>\n",
       "      <td>12</td>\n",
       "      <td>1</td>\n",
       "    </tr>\n",
       "    <tr>\n",
       "      <th>4</th>\n",
       "      <td>2012-10-02 13:00:00</td>\n",
       "      <td>None</td>\n",
       "      <td>291.14</td>\n",
       "      <td>0.0</td>\n",
       "      <td>0.0</td>\n",
       "      <td>75</td>\n",
       "      <td>Clouds</td>\n",
       "      <td>broken clouds</td>\n",
       "      <td>4918</td>\n",
       "      <td>10</td>\n",
       "      <td>2012</td>\n",
       "      <td>13</td>\n",
       "      <td>1</td>\n",
       "    </tr>\n",
       "  </tbody>\n",
       "</table>\n",
       "</div>"
      ],
      "text/plain": [
       "            date_time holiday    temp  rain_1h  snow_1h  clouds_all  \\\n",
       "0 2012-10-02 09:00:00    None  288.28      0.0      0.0          40   \n",
       "1 2012-10-02 10:00:00    None  289.36      0.0      0.0          75   \n",
       "2 2012-10-02 11:00:00    None  289.58      0.0      0.0          90   \n",
       "3 2012-10-02 12:00:00    None  290.13      0.0      0.0          90   \n",
       "4 2012-10-02 13:00:00    None  291.14      0.0      0.0          75   \n",
       "\n",
       "  weather_main weather_description  traffic_volume  Month  Year  Hour  Weekday  \n",
       "0       Clouds    scattered clouds            5545     10  2012     9        1  \n",
       "1       Clouds       broken clouds            4516     10  2012    10        1  \n",
       "2       Clouds     overcast clouds            4767     10  2012    11        1  \n",
       "3       Clouds     overcast clouds            5026     10  2012    12        1  \n",
       "4       Clouds       broken clouds            4918     10  2012    13        1  "
      ]
     },
     "execution_count": 8,
     "metadata": {},
     "output_type": "execute_result"
    }
   ],
   "source": [
    "# We can use date_time column to extract year,month,day of month\n",
    "df_train[\"Month\"]=df_train[\"date_time\"].dt.month\n",
    "df_test[\"Month\"]=df_test[\"date_time\"].dt.month\n",
    "\n",
    "\n",
    "df_train[\"Year\"]=df_train[\"date_time\"].dt.year\n",
    "df_test[\"Year\"]=df_test[\"date_time\"].dt.year\n",
    "\n",
    "df_train[\"Hour\"]=df_train[\"date_time\"].dt.hour\n",
    "df_test[\"Hour\"]=df_test[\"date_time\"].dt.hour\n",
    "\n",
    "df_train[\"Weekday\"]=df_train[\"date_time\"].dt.weekday\n",
    "df_test[\"Weekday\"]=df_test[\"date_time\"].dt.weekday\n",
    "df_train.head()"
   ]
  },
  {
   "cell_type": "code",
   "execution_count": 9,
   "metadata": {},
   "outputs": [
    {
     "data": {
      "text/html": [
       "<div>\n",
       "<style scoped>\n",
       "    .dataframe tbody tr th:only-of-type {\n",
       "        vertical-align: middle;\n",
       "    }\n",
       "\n",
       "    .dataframe tbody tr th {\n",
       "        vertical-align: top;\n",
       "    }\n",
       "\n",
       "    .dataframe thead th {\n",
       "        text-align: right;\n",
       "    }\n",
       "</style>\n",
       "<table border=\"1\" class=\"dataframe\">\n",
       "  <thead>\n",
       "    <tr style=\"text-align: right;\">\n",
       "      <th></th>\n",
       "      <th>date_time</th>\n",
       "      <th>holiday</th>\n",
       "      <th>temp</th>\n",
       "      <th>rain_1h</th>\n",
       "      <th>snow_1h</th>\n",
       "      <th>clouds_all</th>\n",
       "      <th>weather_main</th>\n",
       "      <th>weather_description</th>\n",
       "      <th>Month</th>\n",
       "      <th>Year</th>\n",
       "      <th>Hour</th>\n",
       "      <th>Weekday</th>\n",
       "    </tr>\n",
       "  </thead>\n",
       "  <tbody>\n",
       "    <tr>\n",
       "      <th>0</th>\n",
       "      <td>2017-11-01 20:00:00</td>\n",
       "      <td>None</td>\n",
       "      <td>274.75</td>\n",
       "      <td>0.0</td>\n",
       "      <td>0.0</td>\n",
       "      <td>90</td>\n",
       "      <td>Mist</td>\n",
       "      <td>mist</td>\n",
       "      <td>11</td>\n",
       "      <td>2017</td>\n",
       "      <td>20</td>\n",
       "      <td>2</td>\n",
       "    </tr>\n",
       "    <tr>\n",
       "      <th>1</th>\n",
       "      <td>2017-11-01 20:00:00</td>\n",
       "      <td>None</td>\n",
       "      <td>274.75</td>\n",
       "      <td>0.0</td>\n",
       "      <td>0.0</td>\n",
       "      <td>90</td>\n",
       "      <td>Rain</td>\n",
       "      <td>light rain</td>\n",
       "      <td>11</td>\n",
       "      <td>2017</td>\n",
       "      <td>20</td>\n",
       "      <td>2</td>\n",
       "    </tr>\n",
       "    <tr>\n",
       "      <th>2</th>\n",
       "      <td>2017-11-01 21:00:00</td>\n",
       "      <td>None</td>\n",
       "      <td>274.79</td>\n",
       "      <td>0.0</td>\n",
       "      <td>0.0</td>\n",
       "      <td>90</td>\n",
       "      <td>Mist</td>\n",
       "      <td>mist</td>\n",
       "      <td>11</td>\n",
       "      <td>2017</td>\n",
       "      <td>21</td>\n",
       "      <td>2</td>\n",
       "    </tr>\n",
       "    <tr>\n",
       "      <th>3</th>\n",
       "      <td>2017-11-01 21:00:00</td>\n",
       "      <td>None</td>\n",
       "      <td>274.79</td>\n",
       "      <td>0.0</td>\n",
       "      <td>0.0</td>\n",
       "      <td>90</td>\n",
       "      <td>Drizzle</td>\n",
       "      <td>drizzle</td>\n",
       "      <td>11</td>\n",
       "      <td>2017</td>\n",
       "      <td>21</td>\n",
       "      <td>2</td>\n",
       "    </tr>\n",
       "    <tr>\n",
       "      <th>4</th>\n",
       "      <td>2017-11-01 22:00:00</td>\n",
       "      <td>None</td>\n",
       "      <td>275.08</td>\n",
       "      <td>0.0</td>\n",
       "      <td>0.0</td>\n",
       "      <td>90</td>\n",
       "      <td>Mist</td>\n",
       "      <td>mist</td>\n",
       "      <td>11</td>\n",
       "      <td>2017</td>\n",
       "      <td>22</td>\n",
       "      <td>2</td>\n",
       "    </tr>\n",
       "  </tbody>\n",
       "</table>\n",
       "</div>"
      ],
      "text/plain": [
       "            date_time holiday    temp  rain_1h  snow_1h  clouds_all  \\\n",
       "0 2017-11-01 20:00:00    None  274.75      0.0      0.0          90   \n",
       "1 2017-11-01 20:00:00    None  274.75      0.0      0.0          90   \n",
       "2 2017-11-01 21:00:00    None  274.79      0.0      0.0          90   \n",
       "3 2017-11-01 21:00:00    None  274.79      0.0      0.0          90   \n",
       "4 2017-11-01 22:00:00    None  275.08      0.0      0.0          90   \n",
       "\n",
       "  weather_main weather_description  Month  Year  Hour  Weekday  \n",
       "0         Mist                mist     11  2017    20        2  \n",
       "1         Rain          light rain     11  2017    20        2  \n",
       "2         Mist                mist     11  2017    21        2  \n",
       "3      Drizzle             drizzle     11  2017    21        2  \n",
       "4         Mist                mist     11  2017    22        2  "
      ]
     },
     "execution_count": 9,
     "metadata": {},
     "output_type": "execute_result"
    }
   ],
   "source": [
    "df_test.head()"
   ]
  },
  {
   "cell_type": "code",
   "execution_count": 10,
   "metadata": {},
   "outputs": [
    {
     "data": {
      "text/plain": [
       "date_time              32607\n",
       "holiday                   12\n",
       "temp                    5670\n",
       "rain_1h                  353\n",
       "snow_1h                   12\n",
       "clouds_all                60\n",
       "weather_main              11\n",
       "weather_description       38\n",
       "traffic_volume          6568\n",
       "Month                     12\n",
       "Year                       6\n",
       "Hour                      24\n",
       "Weekday                    7\n",
       "dtype: int64"
      ]
     },
     "execution_count": 10,
     "metadata": {},
     "output_type": "execute_result"
    }
   ],
   "source": [
    "df_train.nunique()"
   ]
  },
  {
   "cell_type": "code",
   "execution_count": 11,
   "metadata": {},
   "outputs": [],
   "source": [
    "# dropping original date time columns\n",
    "df_train=df_train.drop(\"date_time\",1)\n",
    "df_test=df_test.drop(\"date_time\",1)"
   ]
  },
  {
   "cell_type": "code",
   "execution_count": 12,
   "metadata": {},
   "outputs": [
    {
     "name": "stdout",
     "output_type": "stream",
     "text": [
      "['temp', 'rain_1h', 'snow_1h', 'clouds_all', 'traffic_volume']\n",
      "['holiday', 'weather_main', 'weather_description', 'Month', 'Year', 'Hour', 'Weekday']\n"
     ]
    }
   ],
   "source": [
    "# extracting differemt type columns on different list so we can Analyse them accordingly\n",
    "# col_conti means numerical contious columns\n",
    "col_conti=[\"temp\",\"rain_1h\",\"snow_1h\",\"clouds_all\",\"traffic_volume\"]\n",
    "\n",
    "# col_cat means categorical columns ordinal and nominal \n",
    "col_cat=[\"holiday\",\"weather_main\",\"weather_description\",\"Month\",\"Year\",\"Hour\",\"Weekday\"]\n",
    "print(col_conti)\n",
    "print(col_cat)"
   ]
  },
  {
   "cell_type": "code",
   "execution_count": 13,
   "metadata": {},
   "outputs": [
    {
     "data": {
      "text/html": [
       "<div>\n",
       "<style scoped>\n",
       "    .dataframe tbody tr th:only-of-type {\n",
       "        vertical-align: middle;\n",
       "    }\n",
       "\n",
       "    .dataframe tbody tr th {\n",
       "        vertical-align: top;\n",
       "    }\n",
       "\n",
       "    .dataframe thead th {\n",
       "        text-align: right;\n",
       "    }\n",
       "</style>\n",
       "<table border=\"1\" class=\"dataframe\">\n",
       "  <thead>\n",
       "    <tr style=\"text-align: right;\">\n",
       "      <th></th>\n",
       "      <th>temp</th>\n",
       "      <th>rain_1h</th>\n",
       "      <th>snow_1h</th>\n",
       "      <th>clouds_all</th>\n",
       "      <th>traffic_volume</th>\n",
       "      <th>Month</th>\n",
       "      <th>Year</th>\n",
       "      <th>Hour</th>\n",
       "      <th>Weekday</th>\n",
       "    </tr>\n",
       "  </thead>\n",
       "  <tbody>\n",
       "    <tr>\n",
       "      <th>count</th>\n",
       "      <td>38563.000000</td>\n",
       "      <td>38563.000000</td>\n",
       "      <td>38563.000000</td>\n",
       "      <td>38563.000000</td>\n",
       "      <td>38563.000000</td>\n",
       "      <td>38563.000000</td>\n",
       "      <td>38563.000000</td>\n",
       "      <td>38563.000000</td>\n",
       "      <td>38563.000000</td>\n",
       "    </tr>\n",
       "    <tr>\n",
       "      <th>mean</th>\n",
       "      <td>281.351757</td>\n",
       "      <td>0.392733</td>\n",
       "      <td>0.000278</td>\n",
       "      <td>49.920364</td>\n",
       "      <td>3260.940409</td>\n",
       "      <td>6.580894</td>\n",
       "      <td>2014.934393</td>\n",
       "      <td>11.397635</td>\n",
       "      <td>2.985712</td>\n",
       "    </tr>\n",
       "    <tr>\n",
       "      <th>std</th>\n",
       "      <td>13.216927</td>\n",
       "      <td>50.075055</td>\n",
       "      <td>0.009131</td>\n",
       "      <td>38.849106</td>\n",
       "      <td>1991.628329</td>\n",
       "      <td>3.394472</td>\n",
       "      <td>1.665401</td>\n",
       "      <td>6.949958</td>\n",
       "      <td>2.004087</td>\n",
       "    </tr>\n",
       "    <tr>\n",
       "      <th>min</th>\n",
       "      <td>0.000000</td>\n",
       "      <td>0.000000</td>\n",
       "      <td>0.000000</td>\n",
       "      <td>0.000000</td>\n",
       "      <td>0.000000</td>\n",
       "      <td>1.000000</td>\n",
       "      <td>2012.000000</td>\n",
       "      <td>0.000000</td>\n",
       "      <td>0.000000</td>\n",
       "    </tr>\n",
       "    <tr>\n",
       "      <th>25%</th>\n",
       "      <td>272.858000</td>\n",
       "      <td>0.000000</td>\n",
       "      <td>0.000000</td>\n",
       "      <td>1.000000</td>\n",
       "      <td>1186.500000</td>\n",
       "      <td>4.000000</td>\n",
       "      <td>2013.000000</td>\n",
       "      <td>5.000000</td>\n",
       "      <td>1.000000</td>\n",
       "    </tr>\n",
       "    <tr>\n",
       "      <th>50%</th>\n",
       "      <td>282.750000</td>\n",
       "      <td>0.000000</td>\n",
       "      <td>0.000000</td>\n",
       "      <td>64.000000</td>\n",
       "      <td>3378.000000</td>\n",
       "      <td>7.000000</td>\n",
       "      <td>2015.000000</td>\n",
       "      <td>11.000000</td>\n",
       "      <td>3.000000</td>\n",
       "    </tr>\n",
       "    <tr>\n",
       "      <th>75%</th>\n",
       "      <td>291.540000</td>\n",
       "      <td>0.000000</td>\n",
       "      <td>0.000000</td>\n",
       "      <td>90.000000</td>\n",
       "      <td>4939.000000</td>\n",
       "      <td>10.000000</td>\n",
       "      <td>2016.000000</td>\n",
       "      <td>17.000000</td>\n",
       "      <td>5.000000</td>\n",
       "    </tr>\n",
       "    <tr>\n",
       "      <th>max</th>\n",
       "      <td>308.240000</td>\n",
       "      <td>9831.300000</td>\n",
       "      <td>0.510000</td>\n",
       "      <td>100.000000</td>\n",
       "      <td>7280.000000</td>\n",
       "      <td>12.000000</td>\n",
       "      <td>2017.000000</td>\n",
       "      <td>23.000000</td>\n",
       "      <td>6.000000</td>\n",
       "    </tr>\n",
       "  </tbody>\n",
       "</table>\n",
       "</div>"
      ],
      "text/plain": [
       "               temp       rain_1h       snow_1h    clouds_all  traffic_volume  \\\n",
       "count  38563.000000  38563.000000  38563.000000  38563.000000    38563.000000   \n",
       "mean     281.351757      0.392733      0.000278     49.920364     3260.940409   \n",
       "std       13.216927     50.075055      0.009131     38.849106     1991.628329   \n",
       "min        0.000000      0.000000      0.000000      0.000000        0.000000   \n",
       "25%      272.858000      0.000000      0.000000      1.000000     1186.500000   \n",
       "50%      282.750000      0.000000      0.000000     64.000000     3378.000000   \n",
       "75%      291.540000      0.000000      0.000000     90.000000     4939.000000   \n",
       "max      308.240000   9831.300000      0.510000    100.000000     7280.000000   \n",
       "\n",
       "              Month          Year          Hour       Weekday  \n",
       "count  38563.000000  38563.000000  38563.000000  38563.000000  \n",
       "mean       6.580894   2014.934393     11.397635      2.985712  \n",
       "std        3.394472      1.665401      6.949958      2.004087  \n",
       "min        1.000000   2012.000000      0.000000      0.000000  \n",
       "25%        4.000000   2013.000000      5.000000      1.000000  \n",
       "50%        7.000000   2015.000000     11.000000      3.000000  \n",
       "75%       10.000000   2016.000000     17.000000      5.000000  \n",
       "max       12.000000   2017.000000     23.000000      6.000000  "
      ]
     },
     "execution_count": 13,
     "metadata": {},
     "output_type": "execute_result"
    }
   ],
   "source": [
    "df_train.describe()"
   ]
  },
  {
   "cell_type": "code",
   "execution_count": 14,
   "metadata": {},
   "outputs": [],
   "source": [
    "# We can see overall view of data \n",
    "# We can see rain_1h may have outliers as there is huge difference in 99 th percetile and max\n"
   ]
  },
  {
   "cell_type": "code",
   "execution_count": 15,
   "metadata": {},
   "outputs": [
    {
     "data": {
      "image/png": "[encoded data removed]",
      "text/plain": [
       "<Figure size 1080x720 with 5 Axes>"
      ]
     },
     "metadata": {},
     "output_type": "display_data"
    }
   ],
   "source": [
    "plt.figure(figsize=(15,10))\n",
    "# Checking for outliers\n",
    "for col in enumerate(col_conti):\n",
    "    plt.subplot(2,3,col[0]+1)\n",
    "    sns.boxplot(df_train[col[1]])\n",
    "    plt.tight_layout()\n",
    "plt.show()"
   ]
  },
  {
   "cell_type": "code",
   "execution_count": 16,
   "metadata": {},
   "outputs": [],
   "source": [
    "for col in col_conti:\n",
    "    \n",
    "    Q1 = df_train[col].quantile(0.01)\n",
    "    Q3 = df_train[col].quantile(0.99)\n",
    "    IQR = Q3 - Q1\n",
    "    df_train = df_train[~((df_train[col] < (Q1 - 1.5 * IQR)) |(df_train[col] > (Q3 + 1.5 * IQR)))]\n",
    "    "
   ]
  },
  {
   "cell_type": "code",
   "execution_count": 17,
   "metadata": {},
   "outputs": [
    {
     "data": {
      "text/plain": [
       "(38390, 12)"
      ]
     },
     "execution_count": 17,
     "metadata": {},
     "output_type": "execute_result"
    }
   ],
   "source": [
    "\n",
    "df_train.shape"
   ]
  },
  {
   "cell_type": "code",
   "execution_count": 18,
   "metadata": {},
   "outputs": [
    {
     "data": {
      "image/png": "[encoded data removed]",
      "text/plain": [
       "<Figure size 1080x720 with 5 Axes>"
      ]
     },
     "metadata": {},
     "output_type": "display_data"
    }
   ],
   "source": [
    "plt.figure(figsize=(15,10))\n",
    "for col in enumerate(col_conti):\n",
    "    plt.subplot(3,2,col[0]+1)\n",
    "    sns.boxplot(df_train[col[1]])\n",
    "    plt.tight_layout()\n",
    "plt.show()"
   ]
  },
  {
   "cell_type": "code",
   "execution_count": 19,
   "metadata": {},
   "outputs": [
    {
     "data": {
      "text/plain": [
       "0.0    38390\n",
       "Name: snow_1h, dtype: int64"
      ]
     },
     "execution_count": 19,
     "metadata": {},
     "output_type": "execute_result"
    }
   ],
   "source": [
    "df_train[\"snow_1h\"].value_counts()"
   ]
  },
  {
   "cell_type": "code",
   "execution_count": 20,
   "metadata": {},
   "outputs": [],
   "source": [
    "# dropping snow_1h and rain_1h as they are highly skewed \n",
    "df_train.drop([\"snow_1h\"],1,inplace=True)\n",
    "df_test.drop([\"snow_1h\"],1,inplace=True)\n",
    "col_conti=[\"temp\",\"clouds_all\",\"rain_1h\",\"traffic_volume\"]"
   ]
  },
  {
   "cell_type": "code",
   "execution_count": 21,
   "metadata": {},
   "outputs": [
    {
     "data": {
      "image/png": "[encoded data removed]",
      "text/plain": [
       "<Figure size 1080x1440 with 7 Axes>"
      ]
     },
     "metadata": {},
     "output_type": "display_data"
    }
   ],
   "source": [
    "plt.figure(figsize=(15,20))\n",
    "for col in enumerate(col_cat):\n",
    "    plt.subplot(4,2,col[0]+1)\n",
    "    sns.countplot(df_train[col[1]])\n",
    "    plt.tight_layout()\n",
    "    plt.xticks(rotation=90)\n",
    "plt.show()"
   ]
  },
  {
   "cell_type": "markdown",
   "metadata": {},
   "source": [
    "We can see that in holiday we have almost same value . We will convert holiday as binary columns If no holiday 1 else 0 <br>\n",
    "We cannot see any skewness in categorical columns <br>\n",
    "We can use one-hot encoding or other way to treat categorical columns in time of model building <br>"
   ]
  },
  {
   "cell_type": "code",
   "execution_count": 22,
   "metadata": {},
   "outputs": [
    {
     "name": "stdout",
     "output_type": "stream",
     "text": [
      "None                         38342\n",
      "Labor Day                        5\n",
      "Thanksgiving Day                 5\n",
      "New Years Day                    5\n",
      "Columbus Day                     5\n",
      "Christmas Day                    5\n",
      "Independence Day                 4\n",
      "State Fair                       4\n",
      "Washingtons Birthday             4\n",
      "Memorial Day                     4\n",
      "Veterans Day                     4\n",
      "Martin Luther King Jr Day        3\n",
      "Name: holiday, dtype: int64\n"
     ]
    }
   ],
   "source": [
    "# creating columns holiday \n",
    "print(df_train[\"holiday\"].value_counts())\n",
    "df_train[\"holiday\"]=df_train[\"holiday\"].apply(lambda x: 0 if x == \"None\" else 1)\n",
    "df_test[\"holiday\"]=df_test[\"holiday\"].apply(lambda x: 0 if x == \"None\" else 1)"
   ]
  },
  {
   "cell_type": "code",
   "execution_count": 23,
   "metadata": {},
   "outputs": [],
   "source": [
    "# Wrt to Traffic Volumne"
   ]
  },
  {
   "cell_type": "code",
   "execution_count": 24,
   "metadata": {},
   "outputs": [
    {
     "data": {
      "image/png": "[encoded data removed]",
      "text/plain": [
       "<Figure size 1080x1440 with 7 Axes>"
      ]
     },
     "metadata": {},
     "output_type": "display_data"
    }
   ],
   "source": [
    "plt.figure(figsize=(15,20))\n",
    "for col in enumerate(col_cat):\n",
    "    plt.subplot(4,2,col[0]+1)\n",
    "    sns.barplot(x=df_train[col[1]],y=df_train[\"traffic_volume\"])\n",
    "    plt.tight_layout()\n",
    "    plt.xticks(rotation=90)\n",
    "plt.show()"
   ]
  },
  {
   "cell_type": "markdown",
   "metadata": {},
   "source": [
    "1. If we see plot between traffic volume and holiday, we can see that traffic is less on holiday. But we cannot rely on this as above we have found(count plot) that there is only 47 holiday and 37144 value in non-holiday which can be reason. <br>\n",
    "2. weather main and weather description we cannot say it effect trafic much. We need to further analyse to make inferences <br>\n",
    "3. If we hour vs traffic volume traffic is less between(0-4) i.e midnight. \n",
    "4. Traffic volume start increasing from 5 in morning reach peak at 16 and again start decreasing\n",
    "5. If We see weekday vs traffic, traffic is high in normal days compare to weekend\n",
    "\n"
   ]
  },
  {
   "cell_type": "code",
   "execution_count": 25,
   "metadata": {},
   "outputs": [
    {
     "data": {
      "text/plain": [
       "<AxesSubplot:>"
      ]
     },
     "execution_count": 25,
     "metadata": {},
     "output_type": "execute_result"
    },
    {
     "data": {
      "image/png": "[encoded data removed]",
      "text/plain": [
       "<Figure size 720x720 with 2 Axes>"
      ]
     },
     "metadata": {},
     "output_type": "display_data"
    }
   ],
   "source": [
    "plt.figure(figsize=(10,10))\n",
    "sns.heatmap(df_train[col_conti].corr(),vmin=-1,annot=True)"
   ]
  },
  {
   "cell_type": "markdown",
   "metadata": {},
   "source": [
    "We can see rain1h has negative impact on traffic volume but not so much <br>\n",
    "Apart from that we can see that there is no so much correlation betwwen features"
   ]
  },
  {
   "cell_type": "markdown",
   "metadata": {},
   "source": [
    "Generally hours, weekday ,days are cyclic in nature and they are need to treated as cyclic.<br>\n",
    "A common method for encoding cyclical data is to transform the data into two dimensions using a sine and consine transformation"
   ]
  },
  {
   "cell_type": "code",
   "execution_count": 26,
   "metadata": {},
   "outputs": [],
   "source": [
    "df_train['hour_sin'] = np.sin(2 * np.pi * df_train['Hour']/23.0)\n",
    "df_train['hour_cos'] = np.cos(2 * np.pi * df_train['Hour']/23.0)\n",
    "\n",
    "\n",
    "df_test['hour_sin'] = np.sin(2 * np.pi * df_test['Hour']/23.0)\n",
    "df_test['hour_cos'] = np.cos(2 * np.pi * df_test['Hour']/23.0)"
   ]
  },
  {
   "cell_type": "code",
   "execution_count": 27,
   "metadata": {},
   "outputs": [],
   "source": [
    "df_train['wd_sin'] = np.sin(2 * np.pi * df_train['Weekday']/6)\n",
    "df_train['wd_cos'] = np.cos(2 * np.pi * df_train['Weekday']/6)\n",
    "\n",
    "\n",
    "df_test['wd_sin'] = np.sin(2 * np.pi * df_test['Weekday']/6)\n",
    "df_test['wd_cos'] = np.cos(2 * np.pi * df_test['Weekday']/6)"
   ]
  },
  {
   "cell_type": "code",
   "execution_count": 28,
   "metadata": {},
   "outputs": [],
   "source": [
    "df_train['month_sin'] = np.sin(2 * np.pi * df_train['Month']/12)\n",
    "df_train['month_cos'] = np.cos(2 * np.pi * df_train['Month']/12)\n",
    "\n",
    "\n",
    "df_test['month_sin'] = np.sin(2 * np.pi * df_test['Month']/12)\n",
    "df_test['month_cos'] = np.cos(2 * np.pi * df_test['Month']/12)"
   ]
  },
  {
   "cell_type": "code",
   "execution_count": 29,
   "metadata": {},
   "outputs": [],
   "source": [
    "# dropping \n",
    "# hour and weekday month\n",
    "df_train.drop([\"Month\",\"Weekday\",\"Hour\"],1,inplace=True)\n",
    "df_test.drop([\"Month\",\"Weekday\",\"Hour\"],1,inplace=True)"
   ]
  },
  {
   "cell_type": "code",
   "execution_count": 30,
   "metadata": {},
   "outputs": [
    {
     "data": {
      "text/html": [
       "<div>\n",
       "<style scoped>\n",
       "    .dataframe tbody tr th:only-of-type {\n",
       "        vertical-align: middle;\n",
       "    }\n",
       "\n",
       "    .dataframe tbody tr th {\n",
       "        vertical-align: top;\n",
       "    }\n",
       "\n",
       "    .dataframe thead th {\n",
       "        text-align: right;\n",
       "    }\n",
       "</style>\n",
       "<table border=\"1\" class=\"dataframe\">\n",
       "  <thead>\n",
       "    <tr style=\"text-align: right;\">\n",
       "      <th></th>\n",
       "      <th>holiday</th>\n",
       "      <th>temp</th>\n",
       "      <th>rain_1h</th>\n",
       "      <th>clouds_all</th>\n",
       "      <th>weather_main</th>\n",
       "      <th>weather_description</th>\n",
       "      <th>traffic_volume</th>\n",
       "      <th>Year</th>\n",
       "      <th>hour_sin</th>\n",
       "      <th>hour_cos</th>\n",
       "      <th>wd_sin</th>\n",
       "      <th>wd_cos</th>\n",
       "      <th>month_sin</th>\n",
       "      <th>month_cos</th>\n",
       "    </tr>\n",
       "  </thead>\n",
       "  <tbody>\n",
       "    <tr>\n",
       "      <th>0</th>\n",
       "      <td>0</td>\n",
       "      <td>288.28</td>\n",
       "      <td>0.0</td>\n",
       "      <td>40</td>\n",
       "      <td>Clouds</td>\n",
       "      <td>scattered clouds</td>\n",
       "      <td>5545</td>\n",
       "      <td>2012</td>\n",
       "      <td>0.631088</td>\n",
       "      <td>-0.775711</td>\n",
       "      <td>0.866025</td>\n",
       "      <td>0.5</td>\n",
       "      <td>-0.866025</td>\n",
       "      <td>0.5</td>\n",
       "    </tr>\n",
       "    <tr>\n",
       "      <th>1</th>\n",
       "      <td>0</td>\n",
       "      <td>289.36</td>\n",
       "      <td>0.0</td>\n",
       "      <td>75</td>\n",
       "      <td>Clouds</td>\n",
       "      <td>broken clouds</td>\n",
       "      <td>4516</td>\n",
       "      <td>2012</td>\n",
       "      <td>0.398401</td>\n",
       "      <td>-0.917211</td>\n",
       "      <td>0.866025</td>\n",
       "      <td>0.5</td>\n",
       "      <td>-0.866025</td>\n",
       "      <td>0.5</td>\n",
       "    </tr>\n",
       "    <tr>\n",
       "      <th>2</th>\n",
       "      <td>0</td>\n",
       "      <td>289.58</td>\n",
       "      <td>0.0</td>\n",
       "      <td>90</td>\n",
       "      <td>Clouds</td>\n",
       "      <td>overcast clouds</td>\n",
       "      <td>4767</td>\n",
       "      <td>2012</td>\n",
       "      <td>0.136167</td>\n",
       "      <td>-0.990686</td>\n",
       "      <td>0.866025</td>\n",
       "      <td>0.5</td>\n",
       "      <td>-0.866025</td>\n",
       "      <td>0.5</td>\n",
       "    </tr>\n",
       "    <tr>\n",
       "      <th>3</th>\n",
       "      <td>0</td>\n",
       "      <td>290.13</td>\n",
       "      <td>0.0</td>\n",
       "      <td>90</td>\n",
       "      <td>Clouds</td>\n",
       "      <td>overcast clouds</td>\n",
       "      <td>5026</td>\n",
       "      <td>2012</td>\n",
       "      <td>-0.136167</td>\n",
       "      <td>-0.990686</td>\n",
       "      <td>0.866025</td>\n",
       "      <td>0.5</td>\n",
       "      <td>-0.866025</td>\n",
       "      <td>0.5</td>\n",
       "    </tr>\n",
       "    <tr>\n",
       "      <th>4</th>\n",
       "      <td>0</td>\n",
       "      <td>291.14</td>\n",
       "      <td>0.0</td>\n",
       "      <td>75</td>\n",
       "      <td>Clouds</td>\n",
       "      <td>broken clouds</td>\n",
       "      <td>4918</td>\n",
       "      <td>2012</td>\n",
       "      <td>-0.398401</td>\n",
       "      <td>-0.917211</td>\n",
       "      <td>0.866025</td>\n",
       "      <td>0.5</td>\n",
       "      <td>-0.866025</td>\n",
       "      <td>0.5</td>\n",
       "    </tr>\n",
       "  </tbody>\n",
       "</table>\n",
       "</div>"
      ],
      "text/plain": [
       "   holiday    temp  rain_1h  clouds_all weather_main weather_description  \\\n",
       "0        0  288.28      0.0          40       Clouds    scattered clouds   \n",
       "1        0  289.36      0.0          75       Clouds       broken clouds   \n",
       "2        0  289.58      0.0          90       Clouds     overcast clouds   \n",
       "3        0  290.13      0.0          90       Clouds     overcast clouds   \n",
       "4        0  291.14      0.0          75       Clouds       broken clouds   \n",
       "\n",
       "   traffic_volume  Year  hour_sin  hour_cos    wd_sin  wd_cos  month_sin  \\\n",
       "0            5545  2012  0.631088 -0.775711  0.866025     0.5  -0.866025   \n",
       "1            4516  2012  0.398401 -0.917211  0.866025     0.5  -0.866025   \n",
       "2            4767  2012  0.136167 -0.990686  0.866025     0.5  -0.866025   \n",
       "3            5026  2012 -0.136167 -0.990686  0.866025     0.5  -0.866025   \n",
       "4            4918  2012 -0.398401 -0.917211  0.866025     0.5  -0.866025   \n",
       "\n",
       "   month_cos  \n",
       "0        0.5  \n",
       "1        0.5  \n",
       "2        0.5  \n",
       "3        0.5  \n",
       "4        0.5  "
      ]
     },
     "execution_count": 30,
     "metadata": {},
     "output_type": "execute_result"
    }
   ],
   "source": [
    "df_train.head()\n"
   ]
  },
  {
   "cell_type": "code",
   "execution_count": 31,
   "metadata": {},
   "outputs": [
    {
     "data": {
      "text/plain": [
       "{'Clear': 3087.541421800948,\n",
       " 'Clouds': 3564.107097791798,\n",
       " 'Drizzle': 3234.8089128966913,\n",
       " 'Fog': 2834.822931785196,\n",
       " 'Haze': 3574.3504531722056,\n",
       " 'Mist': 2957.509980258829,\n",
       " 'Rain': 3308.490200348432,\n",
       " 'Smoke': 3103.722222222222,\n",
       " 'Snow': 3046.159309021113,\n",
       " 'Squall': 2061.75,\n",
       " 'Thunderstorm': 2936.083783783784}"
      ]
     },
     "execution_count": 31,
     "metadata": {},
     "output_type": "execute_result"
    }
   ],
   "source": [
    "#mean encoding weather_main, weather_description\n",
    "\n",
    "\n",
    "mean_encoded_weath_main = df_train.groupby(['weather_main'])['traffic_volume'].mean().to_dict()\n",
    "mean_encoded_weath_main"
   ]
  },
  {
   "cell_type": "code",
   "execution_count": 32,
   "metadata": {},
   "outputs": [],
   "source": [
    "df_train[\"weather_main_encoded\"]=df_train['weather_main'].map(mean_encoded_weath_main)\n",
    "df_test[\"weather_main_encoded\"]=df_test['weather_main'].map(mean_encoded_weath_main)"
   ]
  },
  {
   "cell_type": "code",
   "execution_count": 33,
   "metadata": {},
   "outputs": [
    {
     "data": {
      "text/plain": [
       "{'SQUALLS': 2061.75,\n",
       " 'Sky is Clear': 3420.036214953271,\n",
       " 'broken clouds': 3564.46403712297,\n",
       " 'drizzle': 3073.5180505415165,\n",
       " 'few clouds': 3619.433255269321,\n",
       " 'fog': 2834.822931785196,\n",
       " 'freezing rain': 4314.0,\n",
       " 'haze': 3574.3504531722056,\n",
       " 'heavy intensity drizzle': 3206.375,\n",
       " 'heavy intensity rain': 3067.8891966759,\n",
       " 'heavy snow': 3085.862010221465,\n",
       " 'light intensity drizzle': 3340.7540229885058,\n",
       " 'light intensity shower rain': 4351.545454545455,\n",
       " 'light rain': 3361.3021840315073,\n",
       " 'light rain and snow': 3961.1666666666665,\n",
       " 'light shower snow': 4570.75,\n",
       " 'light snow': 3049.236434108527,\n",
       " 'mist': 2957.509980258829,\n",
       " 'moderate rain': 3168.560480841473,\n",
       " 'overcast clouds': 3339.694560669456,\n",
       " 'proximity shower rain': 4501.202127659574,\n",
       " 'proximity thunderstorm': 3023.021141649049,\n",
       " 'proximity thunderstorm with drizzle': 3131.5,\n",
       " 'proximity thunderstorm with rain': 2507.0263157894738,\n",
       " 'scattered clouds': 3875.6589036187747,\n",
       " 'shower drizzle': 2010.0,\n",
       " 'shower snow': 5664.0,\n",
       " 'sky is clear': 3023.134193256393,\n",
       " 'sleet': 3882.0,\n",
       " 'smoke': 3103.722222222222,\n",
       " 'snow': 2823.721649484536,\n",
       " 'thunderstorm': 2729.7906976744184,\n",
       " 'thunderstorm with drizzle': 2297.0,\n",
       " 'thunderstorm with heavy rain': 2787.06,\n",
       " 'thunderstorm with light drizzle': 2463.375,\n",
       " 'thunderstorm with light rain': 2610.15,\n",
       " 'thunderstorm with rain': 3456.3225806451615}"
      ]
     },
     "execution_count": 33,
     "metadata": {},
     "output_type": "execute_result"
    }
   ],
   "source": [
    "mean_encoded_weath_desc = df_train.groupby(['weather_description'])['traffic_volume'].mean().to_dict()\n",
    "mean_encoded_weath_desc"
   ]
  },
  {
   "cell_type": "code",
   "execution_count": 34,
   "metadata": {},
   "outputs": [],
   "source": [
    "df_train[\"weather_desc_encoded\"]=df_train['weather_description'].map(mean_encoded_weath_desc)\n",
    "df_test[\"weather_desc_encoded\"]=df_test['weather_description'].map(mean_encoded_weath_desc)"
   ]
  },
  {
   "cell_type": "code",
   "execution_count": 35,
   "metadata": {},
   "outputs": [],
   "source": [
    "df_train.drop([\"weather_main\", \"weather_description\"],1,inplace=True)\n",
    "df_test.drop([\"weather_main\", \"weather_description\"],1,inplace=True)"
   ]
  },
  {
   "cell_type": "code",
   "execution_count": 36,
   "metadata": {},
   "outputs": [
    {
     "data": {
      "text/html": [
       "<div>\n",
       "<style scoped>\n",
       "    .dataframe tbody tr th:only-of-type {\n",
       "        vertical-align: middle;\n",
       "    }\n",
       "\n",
       "    .dataframe tbody tr th {\n",
       "        vertical-align: top;\n",
       "    }\n",
       "\n",
       "    .dataframe thead th {\n",
       "        text-align: right;\n",
       "    }\n",
       "</style>\n",
       "<table border=\"1\" class=\"dataframe\">\n",
       "  <thead>\n",
       "    <tr style=\"text-align: right;\">\n",
       "      <th></th>\n",
       "      <th>holiday</th>\n",
       "      <th>temp</th>\n",
       "      <th>rain_1h</th>\n",
       "      <th>clouds_all</th>\n",
       "      <th>traffic_volume</th>\n",
       "      <th>Year</th>\n",
       "      <th>hour_sin</th>\n",
       "      <th>hour_cos</th>\n",
       "      <th>wd_sin</th>\n",
       "      <th>wd_cos</th>\n",
       "      <th>month_sin</th>\n",
       "      <th>month_cos</th>\n",
       "      <th>weather_main_encoded</th>\n",
       "      <th>weather_desc_encoded</th>\n",
       "    </tr>\n",
       "  </thead>\n",
       "  <tbody>\n",
       "    <tr>\n",
       "      <th>0</th>\n",
       "      <td>0</td>\n",
       "      <td>288.28</td>\n",
       "      <td>0.0</td>\n",
       "      <td>40</td>\n",
       "      <td>5545</td>\n",
       "      <td>2012</td>\n",
       "      <td>0.631088</td>\n",
       "      <td>-0.775711</td>\n",
       "      <td>0.866025</td>\n",
       "      <td>0.5</td>\n",
       "      <td>-0.866025</td>\n",
       "      <td>0.5</td>\n",
       "      <td>3564.107098</td>\n",
       "      <td>3875.658904</td>\n",
       "    </tr>\n",
       "    <tr>\n",
       "      <th>1</th>\n",
       "      <td>0</td>\n",
       "      <td>289.36</td>\n",
       "      <td>0.0</td>\n",
       "      <td>75</td>\n",
       "      <td>4516</td>\n",
       "      <td>2012</td>\n",
       "      <td>0.398401</td>\n",
       "      <td>-0.917211</td>\n",
       "      <td>0.866025</td>\n",
       "      <td>0.5</td>\n",
       "      <td>-0.866025</td>\n",
       "      <td>0.5</td>\n",
       "      <td>3564.107098</td>\n",
       "      <td>3564.464037</td>\n",
       "    </tr>\n",
       "    <tr>\n",
       "      <th>2</th>\n",
       "      <td>0</td>\n",
       "      <td>289.58</td>\n",
       "      <td>0.0</td>\n",
       "      <td>90</td>\n",
       "      <td>4767</td>\n",
       "      <td>2012</td>\n",
       "      <td>0.136167</td>\n",
       "      <td>-0.990686</td>\n",
       "      <td>0.866025</td>\n",
       "      <td>0.5</td>\n",
       "      <td>-0.866025</td>\n",
       "      <td>0.5</td>\n",
       "      <td>3564.107098</td>\n",
       "      <td>3339.694561</td>\n",
       "    </tr>\n",
       "    <tr>\n",
       "      <th>3</th>\n",
       "      <td>0</td>\n",
       "      <td>290.13</td>\n",
       "      <td>0.0</td>\n",
       "      <td>90</td>\n",
       "      <td>5026</td>\n",
       "      <td>2012</td>\n",
       "      <td>-0.136167</td>\n",
       "      <td>-0.990686</td>\n",
       "      <td>0.866025</td>\n",
       "      <td>0.5</td>\n",
       "      <td>-0.866025</td>\n",
       "      <td>0.5</td>\n",
       "      <td>3564.107098</td>\n",
       "      <td>3339.694561</td>\n",
       "    </tr>\n",
       "    <tr>\n",
       "      <th>4</th>\n",
       "      <td>0</td>\n",
       "      <td>291.14</td>\n",
       "      <td>0.0</td>\n",
       "      <td>75</td>\n",
       "      <td>4918</td>\n",
       "      <td>2012</td>\n",
       "      <td>-0.398401</td>\n",
       "      <td>-0.917211</td>\n",
       "      <td>0.866025</td>\n",
       "      <td>0.5</td>\n",
       "      <td>-0.866025</td>\n",
       "      <td>0.5</td>\n",
       "      <td>3564.107098</td>\n",
       "      <td>3564.464037</td>\n",
       "    </tr>\n",
       "  </tbody>\n",
       "</table>\n",
       "</div>"
      ],
      "text/plain": [
       "   holiday    temp  rain_1h  clouds_all  traffic_volume  Year  hour_sin  \\\n",
       "0        0  288.28      0.0          40            5545  2012  0.631088   \n",
       "1        0  289.36      0.0          75            4516  2012  0.398401   \n",
       "2        0  289.58      0.0          90            4767  2012  0.136167   \n",
       "3        0  290.13      0.0          90            5026  2012 -0.136167   \n",
       "4        0  291.14      0.0          75            4918  2012 -0.398401   \n",
       "\n",
       "   hour_cos    wd_sin  wd_cos  month_sin  month_cos  weather_main_encoded  \\\n",
       "0 -0.775711  0.866025     0.5  -0.866025        0.5           3564.107098   \n",
       "1 -0.917211  0.866025     0.5  -0.866025        0.5           3564.107098   \n",
       "2 -0.990686  0.866025     0.5  -0.866025        0.5           3564.107098   \n",
       "3 -0.990686  0.866025     0.5  -0.866025        0.5           3564.107098   \n",
       "4 -0.917211  0.866025     0.5  -0.866025        0.5           3564.107098   \n",
       "\n",
       "   weather_desc_encoded  \n",
       "0           3875.658904  \n",
       "1           3564.464037  \n",
       "2           3339.694561  \n",
       "3           3339.694561  \n",
       "4           3564.464037  "
      ]
     },
     "execution_count": 36,
     "metadata": {},
     "output_type": "execute_result"
    }
   ],
   "source": [
    "df_train.head()"
   ]
  },
  {
   "cell_type": "code",
   "execution_count": 37,
   "metadata": {},
   "outputs": [],
   "source": [
    "# handling year columns\n",
    "df_train[\"Year\"]=df_train[\"Year\"].astype(\"O\")\n",
    "df_test[\"Year\"]=df_test[\"Year\"].astype(\"O\")"
   ]
  },
  {
   "cell_type": "code",
   "execution_count": 38,
   "metadata": {},
   "outputs": [],
   "source": [
    "df_train=pd.get_dummies(df_train)\n",
    "df_test=pd.get_dummies(df_test)"
   ]
  },
  {
   "cell_type": "code",
   "execution_count": 39,
   "metadata": {},
   "outputs": [],
   "source": [
    "df_train.drop('Year_2012',1,inplace=True)"
   ]
  },
  {
   "cell_type": "code",
   "execution_count": 40,
   "metadata": {},
   "outputs": [
    {
     "name": "stdout",
     "output_type": "stream",
     "text": [
      "<class 'pandas.core.frame.DataFrame'>\n",
      "Int64Index: 38390 entries, 0 to 38562\n",
      "Data columns (total 18 columns):\n",
      " #   Column                Non-Null Count  Dtype  \n",
      "---  ------                --------------  -----  \n",
      " 0   holiday               38390 non-null  int64  \n",
      " 1   temp                  38390 non-null  float64\n",
      " 2   rain_1h               38390 non-null  float64\n",
      " 3   clouds_all            38390 non-null  int64  \n",
      " 4   traffic_volume        38390 non-null  int64  \n",
      " 5   hour_sin              38390 non-null  float64\n",
      " 6   hour_cos              38390 non-null  float64\n",
      " 7   wd_sin                38390 non-null  float64\n",
      " 8   wd_cos                38390 non-null  float64\n",
      " 9   month_sin             38390 non-null  float64\n",
      " 10  month_cos             38390 non-null  float64\n",
      " 11  weather_main_encoded  38390 non-null  float64\n",
      " 12  weather_desc_encoded  38390 non-null  float64\n",
      " 13  Year_2013             38390 non-null  uint8  \n",
      " 14  Year_2014             38390 non-null  uint8  \n",
      " 15  Year_2015             38390 non-null  uint8  \n",
      " 16  Year_2016             38390 non-null  uint8  \n",
      " 17  Year_2017             38390 non-null  uint8  \n",
      "dtypes: float64(10), int64(3), uint8(5)\n",
      "memory usage: 5.5 MB\n"
     ]
    }
   ],
   "source": [
    "df_train.info()"
   ]
  },
  {
   "cell_type": "code",
   "execution_count": 41,
   "metadata": {},
   "outputs": [
    {
     "name": "stdout",
     "output_type": "stream",
     "text": [
      "<class 'pandas.core.frame.DataFrame'>\n",
      "RangeIndex: 9641 entries, 0 to 9640\n",
      "Data columns (total 14 columns):\n",
      " #   Column                Non-Null Count  Dtype  \n",
      "---  ------                --------------  -----  \n",
      " 0   holiday               9641 non-null   int64  \n",
      " 1   temp                  9641 non-null   float64\n",
      " 2   rain_1h               9641 non-null   float64\n",
      " 3   clouds_all            9641 non-null   int64  \n",
      " 4   hour_sin              9641 non-null   float64\n",
      " 5   hour_cos              9641 non-null   float64\n",
      " 6   wd_sin                9641 non-null   float64\n",
      " 7   wd_cos                9641 non-null   float64\n",
      " 8   month_sin             9641 non-null   float64\n",
      " 9   month_cos             9641 non-null   float64\n",
      " 10  weather_main_encoded  9641 non-null   float64\n",
      " 11  weather_desc_encoded  9641 non-null   float64\n",
      " 12  Year_2017             9641 non-null   uint8  \n",
      " 13  Year_2018             9641 non-null   uint8  \n",
      "dtypes: float64(10), int64(2), uint8(2)\n",
      "memory usage: 922.8 KB\n"
     ]
    }
   ],
   "source": [
    "df_test.info()"
   ]
  },
  {
   "cell_type": "code",
   "execution_count": 42,
   "metadata": {},
   "outputs": [],
   "source": [
    "# We need to add 2018 in train data as =0 and\n",
    "# Year_2013, Year_2014, Year_2015,Year_2016 as =0 in test data\n",
    "df_train[\"Year_2018\"]=0\n",
    "\n",
    "df_test[\"Year_2013\"]=0\n",
    "df_test[\"Year_2014\"]=0\n",
    "df_test[\"Year_2015\"]=0\n",
    "df_test[\"Year_2016\"]=0\n",
    "df_test[\"Year_2017\"]=0"
   ]
  },
  {
   "cell_type": "code",
   "execution_count": 43,
   "metadata": {},
   "outputs": [
    {
     "name": "stdout",
     "output_type": "stream",
     "text": [
      "<class 'pandas.core.frame.DataFrame'>\n",
      "RangeIndex: 9641 entries, 0 to 9640\n",
      "Data columns (total 18 columns):\n",
      " #   Column                Non-Null Count  Dtype  \n",
      "---  ------                --------------  -----  \n",
      " 0   holiday               9641 non-null   int64  \n",
      " 1   temp                  9641 non-null   float64\n",
      " 2   rain_1h               9641 non-null   float64\n",
      " 3   clouds_all            9641 non-null   int64  \n",
      " 4   hour_sin              9641 non-null   float64\n",
      " 5   hour_cos              9641 non-null   float64\n",
      " 6   wd_sin                9641 non-null   float64\n",
      " 7   wd_cos                9641 non-null   float64\n",
      " 8   month_sin             9641 non-null   float64\n",
      " 9   month_cos             9641 non-null   float64\n",
      " 10  weather_main_encoded  9641 non-null   float64\n",
      " 11  weather_desc_encoded  9641 non-null   float64\n",
      " 12  Year_2017             9641 non-null   int64  \n",
      " 13  Year_2018             9641 non-null   uint8  \n",
      " 14  Year_2013             9641 non-null   int64  \n",
      " 15  Year_2014             9641 non-null   int64  \n",
      " 16  Year_2015             9641 non-null   int64  \n",
      " 17  Year_2016             9641 non-null   int64  \n",
      "dtypes: float64(10), int64(7), uint8(1)\n",
      "memory usage: 1.3 MB\n"
     ]
    }
   ],
   "source": [
    "df_test.info()"
   ]
  },
  {
   "cell_type": "code",
   "execution_count": 44,
   "metadata": {},
   "outputs": [
    {
     "name": "stdout",
     "output_type": "stream",
     "text": [
      "<class 'pandas.core.frame.DataFrame'>\n",
      "Int64Index: 38390 entries, 0 to 38562\n",
      "Data columns (total 19 columns):\n",
      " #   Column                Non-Null Count  Dtype  \n",
      "---  ------                --------------  -----  \n",
      " 0   holiday               38390 non-null  int64  \n",
      " 1   temp                  38390 non-null  float64\n",
      " 2   rain_1h               38390 non-null  float64\n",
      " 3   clouds_all            38390 non-null  int64  \n",
      " 4   traffic_volume        38390 non-null  int64  \n",
      " 5   hour_sin              38390 non-null  float64\n",
      " 6   hour_cos              38390 non-null  float64\n",
      " 7   wd_sin                38390 non-null  float64\n",
      " 8   wd_cos                38390 non-null  float64\n",
      " 9   month_sin             38390 non-null  float64\n",
      " 10  month_cos             38390 non-null  float64\n",
      " 11  weather_main_encoded  38390 non-null  float64\n",
      " 12  weather_desc_encoded  38390 non-null  float64\n",
      " 13  Year_2013             38390 non-null  uint8  \n",
      " 14  Year_2014             38390 non-null  uint8  \n",
      " 15  Year_2015             38390 non-null  uint8  \n",
      " 16  Year_2016             38390 non-null  uint8  \n",
      " 17  Year_2017             38390 non-null  uint8  \n",
      " 18  Year_2018             38390 non-null  int64  \n",
      "dtypes: float64(10), int64(4), uint8(5)\n",
      "memory usage: 5.8 MB\n"
     ]
    }
   ],
   "source": [
    "df_train.info()"
   ]
  },
  {
   "cell_type": "code",
   "execution_count": 45,
   "metadata": {},
   "outputs": [
    {
     "data": {
      "text/plain": [
       "Index(['holiday', 'temp', 'rain_1h', 'clouds_all', 'traffic_volume',\n",
       "       'hour_sin', 'hour_cos', 'wd_sin', 'wd_cos', 'month_sin', 'month_cos',\n",
       "       'weather_main_encoded', 'weather_desc_encoded', 'Year_2013',\n",
       "       'Year_2014', 'Year_2015', 'Year_2016', 'Year_2017', 'Year_2018'],\n",
       "      dtype='object')"
      ]
     },
     "execution_count": 45,
     "metadata": {},
     "output_type": "execute_result"
    }
   ],
   "source": [
    "df_train.columns"
   ]
  },
  {
   "cell_type": "code",
   "execution_count": 46,
   "metadata": {},
   "outputs": [],
   "source": [
    "# positioning columns as  train_df in test_df\n",
    "df_test_final=df_test[['holiday', 'temp', 'rain_1h', 'clouds_all',\n",
    "       'hour_sin', 'hour_cos', 'wd_sin', 'wd_cos', 'month_sin', 'month_cos',\n",
    "       'weather_main_encoded', 'weather_desc_encoded', 'Year_2013',\n",
    "       'Year_2014', 'Year_2015', 'Year_2016', 'Year_2017', 'Year_2018']]"
   ]
  },
  {
   "cell_type": "code",
   "execution_count": 47,
   "metadata": {},
   "outputs": [
    {
     "name": "stdout",
     "output_type": "stream",
     "text": [
      "<class 'pandas.core.frame.DataFrame'>\n",
      "RangeIndex: 9641 entries, 0 to 9640\n",
      "Data columns (total 18 columns):\n",
      " #   Column                Non-Null Count  Dtype  \n",
      "---  ------                --------------  -----  \n",
      " 0   holiday               9641 non-null   int64  \n",
      " 1   temp                  9641 non-null   float64\n",
      " 2   rain_1h               9641 non-null   float64\n",
      " 3   clouds_all            9641 non-null   int64  \n",
      " 4   hour_sin              9641 non-null   float64\n",
      " 5   hour_cos              9641 non-null   float64\n",
      " 6   wd_sin                9641 non-null   float64\n",
      " 7   wd_cos                9641 non-null   float64\n",
      " 8   month_sin             9641 non-null   float64\n",
      " 9   month_cos             9641 non-null   float64\n",
      " 10  weather_main_encoded  9641 non-null   float64\n",
      " 11  weather_desc_encoded  9641 non-null   float64\n",
      " 12  Year_2013             9641 non-null   int64  \n",
      " 13  Year_2014             9641 non-null   int64  \n",
      " 14  Year_2015             9641 non-null   int64  \n",
      " 15  Year_2016             9641 non-null   int64  \n",
      " 16  Year_2017             9641 non-null   int64  \n",
      " 17  Year_2018             9641 non-null   uint8  \n",
      "dtypes: float64(10), int64(7), uint8(1)\n",
      "memory usage: 1.3 MB\n"
     ]
    }
   ],
   "source": [
    "df_test_final.info()"
   ]
  },
  {
   "cell_type": "code",
   "execution_count": 48,
   "metadata": {},
   "outputs": [
    {
     "data": {
      "text/plain": [
       "<AxesSubplot:>"
      ]
     },
     "execution_count": 48,
     "metadata": {},
     "output_type": "execute_result"
    },
    {
     "data": {
      "image/png": "[encoded data removed]",
      "text/plain": [
       "<Figure size 1080x1080 with 2 Axes>"
      ]
     },
     "metadata": {},
     "output_type": "display_data"
    }
   ],
   "source": [
    "plt.figure(figsize=(15,15))\n",
    "sns.heatmap(df_train.corr(),vmin=-1,annot=True)"
   ]
  },
  {
   "cell_type": "markdown",
   "metadata": {},
   "source": [
    "# Model Building and Evaluation"
   ]
  },
  {
   "cell_type": "code",
   "execution_count": 49,
   "metadata": {},
   "outputs": [],
   "source": [
    "# Loading Various Library\n",
    "import pandas as pd\n",
    "import numpy as np\n",
    "import sklearn\n",
    "from sklearn.model_selection import train_test_split\n",
    "from sklearn.preprocessing import StandardScaler\n",
    "from sklearn.ensemble import RandomForestRegressor\n",
    "from sklearn.model_selection import GridSearchCV\n",
    "from sklearn.model_selection import KFold\n",
    "import xgboost\n",
    "from xgboost import XGBRegressor\n",
    "from sklearn.metrics import mean_squared_error,r2_score\n",
    "import matplotlib.pyplot as plt\n",
    "import seaborn as sns\n",
    "from sklearn.linear_model import Lasso, Ridge,LinearRegression\n",
    "pd.set_option('display.max_columns',None)"
   ]
  },
  {
   "cell_type": "code",
   "execution_count": 50,
   "metadata": {},
   "outputs": [],
   "source": [
    "train=pd.read_csv(\"train_fe\")"
   ]
  },
  {
   "cell_type": "code",
   "execution_count": 51,
   "metadata": {},
   "outputs": [
    {
     "data": {
      "text/html": [
       "<div>\n",
       "<style scoped>\n",
       "    .dataframe tbody tr th:only-of-type {\n",
       "        vertical-align: middle;\n",
       "    }\n",
       "\n",
       "    .dataframe tbody tr th {\n",
       "        vertical-align: top;\n",
       "    }\n",
       "\n",
       "    .dataframe thead th {\n",
       "        text-align: right;\n",
       "    }\n",
       "</style>\n",
       "<table border=\"1\" class=\"dataframe\">\n",
       "  <thead>\n",
       "    <tr style=\"text-align: right;\">\n",
       "      <th></th>\n",
       "      <th>Unnamed: 0</th>\n",
       "      <th>holiday</th>\n",
       "      <th>temp</th>\n",
       "      <th>rain_1h</th>\n",
       "      <th>clouds_all</th>\n",
       "      <th>traffic_volume</th>\n",
       "      <th>hour_sin</th>\n",
       "      <th>hour_cos</th>\n",
       "      <th>wd_sin</th>\n",
       "      <th>wd_cos</th>\n",
       "      <th>month_sin</th>\n",
       "      <th>month_cos</th>\n",
       "      <th>weather_main_encoded</th>\n",
       "      <th>weather_desc_encoded</th>\n",
       "      <th>Year_2013</th>\n",
       "      <th>Year_2014</th>\n",
       "      <th>Year_2015</th>\n",
       "      <th>Year_2016</th>\n",
       "      <th>Year_2017</th>\n",
       "      <th>Year_2018</th>\n",
       "    </tr>\n",
       "  </thead>\n",
       "  <tbody>\n",
       "    <tr>\n",
       "      <th>0</th>\n",
       "      <td>0</td>\n",
       "      <td>0</td>\n",
       "      <td>288.28</td>\n",
       "      <td>0.0</td>\n",
       "      <td>40</td>\n",
       "      <td>5545</td>\n",
       "      <td>0.631088</td>\n",
       "      <td>-0.775711</td>\n",
       "      <td>0.866025</td>\n",
       "      <td>0.5</td>\n",
       "      <td>-0.866025</td>\n",
       "      <td>0.5</td>\n",
       "      <td>3564.107098</td>\n",
       "      <td>3875.658904</td>\n",
       "      <td>0</td>\n",
       "      <td>0</td>\n",
       "      <td>0</td>\n",
       "      <td>0</td>\n",
       "      <td>0</td>\n",
       "      <td>0</td>\n",
       "    </tr>\n",
       "    <tr>\n",
       "      <th>1</th>\n",
       "      <td>1</td>\n",
       "      <td>0</td>\n",
       "      <td>289.36</td>\n",
       "      <td>0.0</td>\n",
       "      <td>75</td>\n",
       "      <td>4516</td>\n",
       "      <td>0.398401</td>\n",
       "      <td>-0.917211</td>\n",
       "      <td>0.866025</td>\n",
       "      <td>0.5</td>\n",
       "      <td>-0.866025</td>\n",
       "      <td>0.5</td>\n",
       "      <td>3564.107098</td>\n",
       "      <td>3564.464037</td>\n",
       "      <td>0</td>\n",
       "      <td>0</td>\n",
       "      <td>0</td>\n",
       "      <td>0</td>\n",
       "      <td>0</td>\n",
       "      <td>0</td>\n",
       "    </tr>\n",
       "    <tr>\n",
       "      <th>2</th>\n",
       "      <td>2</td>\n",
       "      <td>0</td>\n",
       "      <td>289.58</td>\n",
       "      <td>0.0</td>\n",
       "      <td>90</td>\n",
       "      <td>4767</td>\n",
       "      <td>0.136167</td>\n",
       "      <td>-0.990686</td>\n",
       "      <td>0.866025</td>\n",
       "      <td>0.5</td>\n",
       "      <td>-0.866025</td>\n",
       "      <td>0.5</td>\n",
       "      <td>3564.107098</td>\n",
       "      <td>3339.694561</td>\n",
       "      <td>0</td>\n",
       "      <td>0</td>\n",
       "      <td>0</td>\n",
       "      <td>0</td>\n",
       "      <td>0</td>\n",
       "      <td>0</td>\n",
       "    </tr>\n",
       "    <tr>\n",
       "      <th>3</th>\n",
       "      <td>3</td>\n",
       "      <td>0</td>\n",
       "      <td>290.13</td>\n",
       "      <td>0.0</td>\n",
       "      <td>90</td>\n",
       "      <td>5026</td>\n",
       "      <td>-0.136167</td>\n",
       "      <td>-0.990686</td>\n",
       "      <td>0.866025</td>\n",
       "      <td>0.5</td>\n",
       "      <td>-0.866025</td>\n",
       "      <td>0.5</td>\n",
       "      <td>3564.107098</td>\n",
       "      <td>3339.694561</td>\n",
       "      <td>0</td>\n",
       "      <td>0</td>\n",
       "      <td>0</td>\n",
       "      <td>0</td>\n",
       "      <td>0</td>\n",
       "      <td>0</td>\n",
       "    </tr>\n",
       "    <tr>\n",
       "      <th>4</th>\n",
       "      <td>4</td>\n",
       "      <td>0</td>\n",
       "      <td>291.14</td>\n",
       "      <td>0.0</td>\n",
       "      <td>75</td>\n",
       "      <td>4918</td>\n",
       "      <td>-0.398401</td>\n",
       "      <td>-0.917211</td>\n",
       "      <td>0.866025</td>\n",
       "      <td>0.5</td>\n",
       "      <td>-0.866025</td>\n",
       "      <td>0.5</td>\n",
       "      <td>3564.107098</td>\n",
       "      <td>3564.464037</td>\n",
       "      <td>0</td>\n",
       "      <td>0</td>\n",
       "      <td>0</td>\n",
       "      <td>0</td>\n",
       "      <td>0</td>\n",
       "      <td>0</td>\n",
       "    </tr>\n",
       "  </tbody>\n",
       "</table>\n",
       "</div>"
      ],
      "text/plain": [
       "   Unnamed: 0  holiday    temp  rain_1h  clouds_all  traffic_volume  hour_sin  \\\n",
       "0           0        0  288.28      0.0          40            5545  0.631088   \n",
       "1           1        0  289.36      0.0          75            4516  0.398401   \n",
       "2           2        0  289.58      0.0          90            4767  0.136167   \n",
       "3           3        0  290.13      0.0          90            5026 -0.136167   \n",
       "4           4        0  291.14      0.0          75            4918 -0.398401   \n",
       "\n",
       "   hour_cos    wd_sin  wd_cos  month_sin  month_cos  weather_main_encoded  \\\n",
       "0 -0.775711  0.866025     0.5  -0.866025        0.5           3564.107098   \n",
       "1 -0.917211  0.866025     0.5  -0.866025        0.5           3564.107098   \n",
       "2 -0.990686  0.866025     0.5  -0.866025        0.5           3564.107098   \n",
       "3 -0.990686  0.866025     0.5  -0.866025        0.5           3564.107098   \n",
       "4 -0.917211  0.866025     0.5  -0.866025        0.5           3564.107098   \n",
       "\n",
       "   weather_desc_encoded  Year_2013  Year_2014  Year_2015  Year_2016  \\\n",
       "0           3875.658904          0          0          0          0   \n",
       "1           3564.464037          0          0          0          0   \n",
       "2           3339.694561          0          0          0          0   \n",
       "3           3339.694561          0          0          0          0   \n",
       "4           3564.464037          0          0          0          0   \n",
       "\n",
       "   Year_2017  Year_2018  \n",
       "0          0          0  \n",
       "1          0          0  \n",
       "2          0          0  \n",
       "3          0          0  \n",
       "4          0          0  "
      ]
     },
     "execution_count": 51,
     "metadata": {},
     "output_type": "execute_result"
    }
   ],
   "source": [
    "train.head()"
   ]
  },
  {
   "cell_type": "code",
   "execution_count": 52,
   "metadata": {},
   "outputs": [
    {
     "data": {
      "text/html": [
       "<div>\n",
       "<style scoped>\n",
       "    .dataframe tbody tr th:only-of-type {\n",
       "        vertical-align: middle;\n",
       "    }\n",
       "\n",
       "    .dataframe tbody tr th {\n",
       "        vertical-align: top;\n",
       "    }\n",
       "\n",
       "    .dataframe thead th {\n",
       "        text-align: right;\n",
       "    }\n",
       "</style>\n",
       "<table border=\"1\" class=\"dataframe\">\n",
       "  <thead>\n",
       "    <tr style=\"text-align: right;\">\n",
       "      <th></th>\n",
       "      <th>Unnamed: 0</th>\n",
       "      <th>holiday</th>\n",
       "      <th>temp</th>\n",
       "      <th>rain_1h</th>\n",
       "      <th>clouds_all</th>\n",
       "      <th>hour_sin</th>\n",
       "      <th>hour_cos</th>\n",
       "      <th>wd_sin</th>\n",
       "      <th>wd_cos</th>\n",
       "      <th>month_sin</th>\n",
       "      <th>month_cos</th>\n",
       "      <th>weather_main_encoded</th>\n",
       "      <th>weather_desc_encoded</th>\n",
       "      <th>Year_2013</th>\n",
       "      <th>Year_2014</th>\n",
       "      <th>Year_2015</th>\n",
       "      <th>Year_2016</th>\n",
       "      <th>Year_2017</th>\n",
       "      <th>Year_2018</th>\n",
       "    </tr>\n",
       "  </thead>\n",
       "  <tbody>\n",
       "    <tr>\n",
       "      <th>0</th>\n",
       "      <td>0</td>\n",
       "      <td>0</td>\n",
       "      <td>274.75</td>\n",
       "      <td>0.0</td>\n",
       "      <td>90</td>\n",
       "      <td>-0.730836</td>\n",
       "      <td>0.682553</td>\n",
       "      <td>0.866025</td>\n",
       "      <td>-0.5</td>\n",
       "      <td>-0.5</td>\n",
       "      <td>0.866025</td>\n",
       "      <td>2957.509980</td>\n",
       "      <td>2957.509980</td>\n",
       "      <td>0</td>\n",
       "      <td>0</td>\n",
       "      <td>0</td>\n",
       "      <td>0</td>\n",
       "      <td>0</td>\n",
       "      <td>0</td>\n",
       "    </tr>\n",
       "    <tr>\n",
       "      <th>1</th>\n",
       "      <td>1</td>\n",
       "      <td>0</td>\n",
       "      <td>274.75</td>\n",
       "      <td>0.0</td>\n",
       "      <td>90</td>\n",
       "      <td>-0.730836</td>\n",
       "      <td>0.682553</td>\n",
       "      <td>0.866025</td>\n",
       "      <td>-0.5</td>\n",
       "      <td>-0.5</td>\n",
       "      <td>0.866025</td>\n",
       "      <td>3308.490200</td>\n",
       "      <td>3361.302184</td>\n",
       "      <td>0</td>\n",
       "      <td>0</td>\n",
       "      <td>0</td>\n",
       "      <td>0</td>\n",
       "      <td>0</td>\n",
       "      <td>0</td>\n",
       "    </tr>\n",
       "    <tr>\n",
       "      <th>2</th>\n",
       "      <td>2</td>\n",
       "      <td>0</td>\n",
       "      <td>274.79</td>\n",
       "      <td>0.0</td>\n",
       "      <td>90</td>\n",
       "      <td>-0.519584</td>\n",
       "      <td>0.854419</td>\n",
       "      <td>0.866025</td>\n",
       "      <td>-0.5</td>\n",
       "      <td>-0.5</td>\n",
       "      <td>0.866025</td>\n",
       "      <td>2957.509980</td>\n",
       "      <td>2957.509980</td>\n",
       "      <td>0</td>\n",
       "      <td>0</td>\n",
       "      <td>0</td>\n",
       "      <td>0</td>\n",
       "      <td>0</td>\n",
       "      <td>0</td>\n",
       "    </tr>\n",
       "    <tr>\n",
       "      <th>3</th>\n",
       "      <td>3</td>\n",
       "      <td>0</td>\n",
       "      <td>274.79</td>\n",
       "      <td>0.0</td>\n",
       "      <td>90</td>\n",
       "      <td>-0.519584</td>\n",
       "      <td>0.854419</td>\n",
       "      <td>0.866025</td>\n",
       "      <td>-0.5</td>\n",
       "      <td>-0.5</td>\n",
       "      <td>0.866025</td>\n",
       "      <td>3234.808913</td>\n",
       "      <td>3073.518051</td>\n",
       "      <td>0</td>\n",
       "      <td>0</td>\n",
       "      <td>0</td>\n",
       "      <td>0</td>\n",
       "      <td>0</td>\n",
       "      <td>0</td>\n",
       "    </tr>\n",
       "    <tr>\n",
       "      <th>4</th>\n",
       "      <td>4</td>\n",
       "      <td>0</td>\n",
       "      <td>275.08</td>\n",
       "      <td>0.0</td>\n",
       "      <td>90</td>\n",
       "      <td>-0.269797</td>\n",
       "      <td>0.962917</td>\n",
       "      <td>0.866025</td>\n",
       "      <td>-0.5</td>\n",
       "      <td>-0.5</td>\n",
       "      <td>0.866025</td>\n",
       "      <td>2957.509980</td>\n",
       "      <td>2957.509980</td>\n",
       "      <td>0</td>\n",
       "      <td>0</td>\n",
       "      <td>0</td>\n",
       "      <td>0</td>\n",
       "      <td>0</td>\n",
       "      <td>0</td>\n",
       "    </tr>\n",
       "  </tbody>\n",
       "</table>\n",
       "</div>"
      ],
      "text/plain": [
       "   Unnamed: 0  holiday    temp  rain_1h  clouds_all  hour_sin  hour_cos  \\\n",
       "0           0        0  274.75      0.0          90 -0.730836  0.682553   \n",
       "1           1        0  274.75      0.0          90 -0.730836  0.682553   \n",
       "2           2        0  274.79      0.0          90 -0.519584  0.854419   \n",
       "3           3        0  274.79      0.0          90 -0.519584  0.854419   \n",
       "4           4        0  275.08      0.0          90 -0.269797  0.962917   \n",
       "\n",
       "     wd_sin  wd_cos  month_sin  month_cos  weather_main_encoded  \\\n",
       "0  0.866025    -0.5       -0.5   0.866025           2957.509980   \n",
       "1  0.866025    -0.5       -0.5   0.866025           3308.490200   \n",
       "2  0.866025    -0.5       -0.5   0.866025           2957.509980   \n",
       "3  0.866025    -0.5       -0.5   0.866025           3234.808913   \n",
       "4  0.866025    -0.5       -0.5   0.866025           2957.509980   \n",
       "\n",
       "   weather_desc_encoded  Year_2013  Year_2014  Year_2015  Year_2016  \\\n",
       "0           2957.509980          0          0          0          0   \n",
       "1           3361.302184          0          0          0          0   \n",
       "2           2957.509980          0          0          0          0   \n",
       "3           3073.518051          0          0          0          0   \n",
       "4           2957.509980          0          0          0          0   \n",
       "\n",
       "   Year_2017  Year_2018  \n",
       "0          0          0  \n",
       "1          0          0  \n",
       "2          0          0  \n",
       "3          0          0  \n",
       "4          0          0  "
      ]
     },
     "execution_count": 52,
     "metadata": {},
     "output_type": "execute_result"
    }
   ],
   "source": [
    "test=pd.read_csv(\"test_fe\")\n",
    "test.head()"
   ]
  },
  {
   "cell_type": "code",
   "execution_count": 53,
   "metadata": {},
   "outputs": [],
   "source": [
    "train=train.set_index(\"Unnamed: 0\")\n",
    "test=test.set_index(\"Unnamed: 0\")"
   ]
  },
  {
   "cell_type": "code",
   "execution_count": 54,
   "metadata": {},
   "outputs": [],
   "source": [
    "#splitting train data\n",
    "X=train.drop(\"traffic_volume\",1)\n",
    "y=train[\"traffic_volume\"]"
   ]
  },
  {
   "cell_type": "code",
   "execution_count": 55,
   "metadata": {},
   "outputs": [
    {
     "data": {
      "text/plain": [
       "['holiday',\n",
       " 'temp',\n",
       " 'rain_1h',\n",
       " 'clouds_all',\n",
       " 'hour_sin',\n",
       " 'hour_cos',\n",
       " 'wd_sin',\n",
       " 'wd_cos',\n",
       " 'month_sin',\n",
       " 'month_cos',\n",
       " 'weather_main_encoded',\n",
       " 'weather_desc_encoded',\n",
       " 'Year_2013',\n",
       " 'Year_2014',\n",
       " 'Year_2015',\n",
       " 'Year_2016',\n",
       " 'Year_2017',\n",
       " 'Year_2018']"
      ]
     },
     "execution_count": 55,
     "metadata": {},
     "output_type": "execute_result"
    }
   ],
   "source": [
    "# Storing Columns name in \n",
    "train_columns=X.columns.to_list()\n",
    "train_columns"
   ]
  },
  {
   "cell_type": "code",
   "execution_count": 56,
   "metadata": {},
   "outputs": [],
   "source": [
    "X_train,X_test,y_train,y_test=train_test_split(X,y,train_size=0.8,random_state=100)"
   ]
  },
  {
   "cell_type": "code",
   "execution_count": 57,
   "metadata": {},
   "outputs": [
    {
     "name": "stdout",
     "output_type": "stream",
     "text": [
      "(30712, 18)\n",
      "(7678, 18)\n",
      "(30712,)\n",
      "(7678,)\n"
     ]
    }
   ],
   "source": [
    "print(X_train.shape)\n",
    "print(X_test.shape)\n",
    "print(y_train.shape)\n",
    "print(y_test.shape)"
   ]
  },
  {
   "cell_type": "code",
   "execution_count": 58,
   "metadata": {},
   "outputs": [],
   "source": [
    "# Initialising scaler\n",
    "scaler=StandardScaler()\n",
    "X_train=scaler.fit_transform(X_train)"
   ]
  },
  {
   "cell_type": "markdown",
   "metadata": {},
   "source": [
    "# Lasso And Ridge Regularization"
   ]
  },
  {
   "cell_type": "code",
   "execution_count": 59,
   "metadata": {},
   "outputs": [],
   "source": [
    "folds=KFold(n_splits=5, shuffle=True, random_state=100)"
   ]
  },
  {
   "cell_type": "code",
   "execution_count": 60,
   "metadata": {},
   "outputs": [],
   "source": [
    "# defining parameter Range\n",
    "params = {'alpha': [0.0001, 0.001, 0.01, 0.05, 0.1,0.2, 0.3, 0.4, 0.5, 0.6, 0.7, 0.8,\\\n",
    "                                    0.9, 1.0, 2.0, 3.0, 4.0, 5.0, 6.0, 7.0, 8.0, 9.0, 10.0, 20, 50,80, 100, 500, 1000]}\n",
    "\n",
    "# Initialising Lasso\n",
    "l1=Lasso()"
   ]
  },
  {
   "cell_type": "code",
   "execution_count": 61,
   "metadata": {},
   "outputs": [],
   "source": [
    "cv_l1 = GridSearchCV(estimator = l1, param_grid = params, \n",
    "                            scoring='r2', \n",
    "                            cv = folds, n_jobs=-1,\n",
    "                            return_train_score=True, verbose = 1)"
   ]
  },
  {
   "cell_type": "code",
   "execution_count": 62,
   "metadata": {},
   "outputs": [
    {
     "name": "stdout",
     "output_type": "stream",
     "text": [
      "Fitting 5 folds for each of 29 candidates, totalling 145 fits\n"
     ]
    },
    {
     "name": "stderr",
     "output_type": "stream",
     "text": [
      "[Parallel(n_jobs=-1)]: Using backend LokyBackend with 4 concurrent workers.\n",
      "[Parallel(n_jobs=-1)]: Done  42 tasks      | elapsed:    6.9s\n",
      "[Parallel(n_jobs=-1)]: Done 145 out of 145 | elapsed:   10.6s finished\n"
     ]
    },
    {
     "data": {
      "text/plain": [
       "GridSearchCV(cv=KFold(n_splits=5, random_state=100, shuffle=True),\n",
       "             estimator=Lasso(), n_jobs=-1,\n",
       "             param_grid={'alpha': [0.0001, 0.001, 0.01, 0.05, 0.1, 0.2, 0.3,\n",
       "                                   0.4, 0.5, 0.6, 0.7, 0.8, 0.9, 1.0, 2.0, 3.0,\n",
       "                                   4.0, 5.0, 6.0, 7.0, 8.0, 9.0, 10.0, 20, 50,\n",
       "                                   80, 100, 500, 1000]},\n",
       "             return_train_score=True, scoring='r2', verbose=1)"
      ]
     },
     "execution_count": 62,
     "metadata": {},
     "output_type": "execute_result"
    }
   ],
   "source": [
    "cv_l1.fit(X_train, y_train)"
   ]
  },
  {
   "cell_type": "code",
   "execution_count": 63,
   "metadata": {},
   "outputs": [
    {
     "data": {
      "text/plain": [
       "0.6666317846531487"
      ]
     },
     "execution_count": 63,
     "metadata": {},
     "output_type": "execute_result"
    }
   ],
   "source": [
    "cv_l1.best_score_"
   ]
  },
  {
   "cell_type": "code",
   "execution_count": 64,
   "metadata": {},
   "outputs": [],
   "source": [
    "# transforming hold out dataset\n",
    "X_test=scaler.transform(X_test)"
   ]
  },
  {
   "cell_type": "code",
   "execution_count": 65,
   "metadata": {},
   "outputs": [
    {
     "data": {
      "text/plain": [
       "1147.7351297051205"
      ]
     },
     "execution_count": 65,
     "metadata": {},
     "output_type": "execute_result"
    }
   ],
   "source": [
    "np.sqrt(mean_squared_error(y_train,cv_l1.predict(X_train)))\n"
   ]
  },
  {
   "cell_type": "code",
   "execution_count": 66,
   "metadata": {},
   "outputs": [
    {
     "data": {
      "text/plain": [
       "1161.6418977472183"
      ]
     },
     "execution_count": 66,
     "metadata": {},
     "output_type": "execute_result"
    }
   ],
   "source": [
    "np.sqrt(mean_squared_error(y_test,cv_l1.predict(X_test)))\n"
   ]
  },
  {
   "cell_type": "code",
   "execution_count": 67,
   "metadata": {},
   "outputs": [
    {
     "data": {
      "text/plain": [
       "0.6620503150984611"
      ]
     },
     "execution_count": 67,
     "metadata": {},
     "output_type": "execute_result"
    }
   ],
   "source": [
    "r2_score(y_test,cv_l1.predict(X_test))"
   ]
  },
  {
   "cell_type": "markdown",
   "metadata": {},
   "source": [
    "In terms of Performance we are getting 66 r2 Score"
   ]
  },
  {
   "cell_type": "code",
   "execution_count": 68,
   "metadata": {},
   "outputs": [
    {
     "data": {
      "text/html": [
       "<div>\n",
       "<style scoped>\n",
       "    .dataframe tbody tr th:only-of-type {\n",
       "        vertical-align: middle;\n",
       "    }\n",
       "\n",
       "    .dataframe tbody tr th {\n",
       "        vertical-align: top;\n",
       "    }\n",
       "\n",
       "    .dataframe thead th {\n",
       "        text-align: right;\n",
       "    }\n",
       "</style>\n",
       "<table border=\"1\" class=\"dataframe\">\n",
       "  <thead>\n",
       "    <tr style=\"text-align: right;\">\n",
       "      <th></th>\n",
       "      <th>mean_fit_time</th>\n",
       "      <th>std_fit_time</th>\n",
       "      <th>mean_score_time</th>\n",
       "      <th>std_score_time</th>\n",
       "      <th>param_alpha</th>\n",
       "      <th>params</th>\n",
       "      <th>split0_test_score</th>\n",
       "      <th>split1_test_score</th>\n",
       "      <th>split2_test_score</th>\n",
       "      <th>split3_test_score</th>\n",
       "      <th>split4_test_score</th>\n",
       "      <th>mean_test_score</th>\n",
       "      <th>std_test_score</th>\n",
       "      <th>rank_test_score</th>\n",
       "      <th>split0_train_score</th>\n",
       "      <th>split1_train_score</th>\n",
       "      <th>split2_train_score</th>\n",
       "      <th>split3_train_score</th>\n",
       "      <th>split4_train_score</th>\n",
       "      <th>mean_train_score</th>\n",
       "      <th>std_train_score</th>\n",
       "    </tr>\n",
       "  </thead>\n",
       "  <tbody>\n",
       "    <tr>\n",
       "      <th>0</th>\n",
       "      <td>0.458141</td>\n",
       "      <td>0.045587</td>\n",
       "      <td>0.003598</td>\n",
       "      <td>0.000800</td>\n",
       "      <td>0.0001</td>\n",
       "      <td>{'alpha': 0.0001}</td>\n",
       "      <td>0.662795</td>\n",
       "      <td>0.667298</td>\n",
       "      <td>0.671493</td>\n",
       "      <td>0.656344</td>\n",
       "      <td>0.675127</td>\n",
       "      <td>0.666611</td>\n",
       "      <td>0.006585</td>\n",
       "      <td>16</td>\n",
       "      <td>0.668066</td>\n",
       "      <td>0.666972</td>\n",
       "      <td>0.665906</td>\n",
       "      <td>0.669702</td>\n",
       "      <td>0.664927</td>\n",
       "      <td>0.667115</td>\n",
       "      <td>0.001665</td>\n",
       "    </tr>\n",
       "    <tr>\n",
       "      <th>1</th>\n",
       "      <td>0.364992</td>\n",
       "      <td>0.027221</td>\n",
       "      <td>0.003202</td>\n",
       "      <td>0.000752</td>\n",
       "      <td>0.001</td>\n",
       "      <td>{'alpha': 0.001}</td>\n",
       "      <td>0.662795</td>\n",
       "      <td>0.667298</td>\n",
       "      <td>0.671493</td>\n",
       "      <td>0.656344</td>\n",
       "      <td>0.675127</td>\n",
       "      <td>0.666612</td>\n",
       "      <td>0.006585</td>\n",
       "      <td>15</td>\n",
       "      <td>0.668066</td>\n",
       "      <td>0.666972</td>\n",
       "      <td>0.665906</td>\n",
       "      <td>0.669702</td>\n",
       "      <td>0.664927</td>\n",
       "      <td>0.667115</td>\n",
       "      <td>0.001665</td>\n",
       "    </tr>\n",
       "    <tr>\n",
       "      <th>2</th>\n",
       "      <td>0.294235</td>\n",
       "      <td>0.018066</td>\n",
       "      <td>0.003797</td>\n",
       "      <td>0.000403</td>\n",
       "      <td>0.01</td>\n",
       "      <td>{'alpha': 0.01}</td>\n",
       "      <td>0.662795</td>\n",
       "      <td>0.667299</td>\n",
       "      <td>0.671493</td>\n",
       "      <td>0.656344</td>\n",
       "      <td>0.675128</td>\n",
       "      <td>0.666612</td>\n",
       "      <td>0.006585</td>\n",
       "      <td>14</td>\n",
       "      <td>0.668066</td>\n",
       "      <td>0.666972</td>\n",
       "      <td>0.665906</td>\n",
       "      <td>0.669702</td>\n",
       "      <td>0.664927</td>\n",
       "      <td>0.667115</td>\n",
       "      <td>0.001665</td>\n",
       "    </tr>\n",
       "    <tr>\n",
       "      <th>3</th>\n",
       "      <td>0.257452</td>\n",
       "      <td>0.016587</td>\n",
       "      <td>0.003600</td>\n",
       "      <td>0.000803</td>\n",
       "      <td>0.05</td>\n",
       "      <td>{'alpha': 0.05}</td>\n",
       "      <td>0.662794</td>\n",
       "      <td>0.667300</td>\n",
       "      <td>0.671493</td>\n",
       "      <td>0.656346</td>\n",
       "      <td>0.675130</td>\n",
       "      <td>0.666613</td>\n",
       "      <td>0.006585</td>\n",
       "      <td>13</td>\n",
       "      <td>0.668066</td>\n",
       "      <td>0.666972</td>\n",
       "      <td>0.665906</td>\n",
       "      <td>0.669702</td>\n",
       "      <td>0.664926</td>\n",
       "      <td>0.667115</td>\n",
       "      <td>0.001665</td>\n",
       "    </tr>\n",
       "    <tr>\n",
       "      <th>4</th>\n",
       "      <td>0.237465</td>\n",
       "      <td>0.012542</td>\n",
       "      <td>0.003397</td>\n",
       "      <td>0.000798</td>\n",
       "      <td>0.1</td>\n",
       "      <td>{'alpha': 0.1}</td>\n",
       "      <td>0.662794</td>\n",
       "      <td>0.667301</td>\n",
       "      <td>0.671494</td>\n",
       "      <td>0.656347</td>\n",
       "      <td>0.675133</td>\n",
       "      <td>0.666614</td>\n",
       "      <td>0.006586</td>\n",
       "      <td>12</td>\n",
       "      <td>0.668066</td>\n",
       "      <td>0.666972</td>\n",
       "      <td>0.665906</td>\n",
       "      <td>0.669702</td>\n",
       "      <td>0.664926</td>\n",
       "      <td>0.667114</td>\n",
       "      <td>0.001665</td>\n",
       "    </tr>\n",
       "  </tbody>\n",
       "</table>\n",
       "</div>"
      ],
      "text/plain": [
       "   mean_fit_time  std_fit_time  mean_score_time  std_score_time param_alpha  \\\n",
       "0       0.458141      0.045587         0.003598        0.000800      0.0001   \n",
       "1       0.364992      0.027221         0.003202        0.000752       0.001   \n",
       "2       0.294235      0.018066         0.003797        0.000403        0.01   \n",
       "3       0.257452      0.016587         0.003600        0.000803        0.05   \n",
       "4       0.237465      0.012542         0.003397        0.000798         0.1   \n",
       "\n",
       "              params  split0_test_score  split1_test_score  split2_test_score  \\\n",
       "0  {'alpha': 0.0001}           0.662795           0.667298           0.671493   \n",
       "1   {'alpha': 0.001}           0.662795           0.667298           0.671493   \n",
       "2    {'alpha': 0.01}           0.662795           0.667299           0.671493   \n",
       "3    {'alpha': 0.05}           0.662794           0.667300           0.671493   \n",
       "4     {'alpha': 0.1}           0.662794           0.667301           0.671494   \n",
       "\n",
       "   split3_test_score  split4_test_score  mean_test_score  std_test_score  \\\n",
       "0           0.656344           0.675127         0.666611        0.006585   \n",
       "1           0.656344           0.675127         0.666612        0.006585   \n",
       "2           0.656344           0.675128         0.666612        0.006585   \n",
       "3           0.656346           0.675130         0.666613        0.006585   \n",
       "4           0.656347           0.675133         0.666614        0.006586   \n",
       "\n",
       "   rank_test_score  split0_train_score  split1_train_score  \\\n",
       "0               16            0.668066            0.666972   \n",
       "1               15            0.668066            0.666972   \n",
       "2               14            0.668066            0.666972   \n",
       "3               13            0.668066            0.666972   \n",
       "4               12            0.668066            0.666972   \n",
       "\n",
       "   split2_train_score  split3_train_score  split4_train_score  \\\n",
       "0            0.665906            0.669702            0.664927   \n",
       "1            0.665906            0.669702            0.664927   \n",
       "2            0.665906            0.669702            0.664927   \n",
       "3            0.665906            0.669702            0.664926   \n",
       "4            0.665906            0.669702            0.664926   \n",
       "\n",
       "   mean_train_score  std_train_score  \n",
       "0          0.667115         0.001665  \n",
       "1          0.667115         0.001665  \n",
       "2          0.667115         0.001665  \n",
       "3          0.667115         0.001665  \n",
       "4          0.667114         0.001665  "
      ]
     },
     "execution_count": 68,
     "metadata": {},
     "output_type": "execute_result"
    }
   ],
   "source": [
    "result_l1=pd.DataFrame(cv_l1.cv_results_)\n",
    "result_l1.head()"
   ]
  },
  {
   "cell_type": "code",
   "execution_count": 69,
   "metadata": {},
   "outputs": [
    {
     "data": {
      "image/png": "[encoded data removed]",
      "text/plain": [
       "<Figure size 432x288 with 1 Axes>"
      ]
     },
     "metadata": {},
     "output_type": "display_data"
    }
   ],
   "source": [
    "plt.plot(result_l1.groupby(result_l1[\"param_alpha\"])[\"mean_test_score\"].mean(),label=\"Test\")\n",
    "plt.plot(result_l1.groupby(result_l1[\"param_alpha\"])[\"mean_train_score\"].mean(),label=\"Train\")\n",
    "plt.xscale('log')\n",
    "plt.legend()\n",
    "plt.title(\"alpha\")\n",
    "plt.show()"
   ]
  },
  {
   "cell_type": "markdown",
   "metadata": {},
   "source": [
    "We can see after alpha increases model start underfitting\n"
   ]
  },
  {
   "cell_type": "code",
   "execution_count": 70,
   "metadata": {},
   "outputs": [],
   "source": [
    "# Let's See Coefficient and intercept or Constant "
   ]
  },
  {
   "cell_type": "code",
   "execution_count": 71,
   "metadata": {},
   "outputs": [
    {
     "data": {
      "text/plain": [
       "array([  -11.49724956,    24.59979622,   -14.81493874,    -4.08366399,\n",
       "        -648.92388847, -1441.25005862,   116.67081801,  -314.39887446,\n",
       "          -0.        ,   -74.02328997,   -14.08072919,    25.47413002,\n",
       "          17.09388338,    -6.57554757,    -3.19110424,   -24.26785833,\n",
       "          48.62857027,     0.        ])"
      ]
     },
     "execution_count": 71,
     "metadata": {},
     "output_type": "execute_result"
    }
   ],
   "source": [
    "cv_l1.best_estimator_.coef_"
   ]
  },
  {
   "cell_type": "code",
   "execution_count": 72,
   "metadata": {},
   "outputs": [
    {
     "data": {
      "text/plain": [
       "3260.5501758270384"
      ]
     },
     "execution_count": 72,
     "metadata": {},
     "output_type": "execute_result"
    }
   ],
   "source": [
    "cv_l1.best_estimator_.intercept_"
   ]
  },
  {
   "cell_type": "code",
   "execution_count": 73,
   "metadata": {},
   "outputs": [
    {
     "data": {
      "text/plain": [
       "[('holiday', -11.497249563999684),\n",
       " ('temp', 24.599796215296642),\n",
       " ('rain_1h', -14.814938735138469),\n",
       " ('clouds_all', -4.083663991185618),\n",
       " ('hour_sin', -648.9238884694869),\n",
       " ('hour_cos', -1441.250058615643),\n",
       " ('wd_sin', 116.6708180094608),\n",
       " ('wd_cos', -314.3988744616348),\n",
       " ('month_sin', -0.0),\n",
       " ('month_cos', -74.02328996963419),\n",
       " ('weather_main_encoded', -14.080729186145605),\n",
       " ('weather_desc_encoded', 25.474130015968036),\n",
       " ('Year_2013', 17.09388338432688),\n",
       " ('Year_2014', -6.575547571409038),\n",
       " ('Year_2015', -3.191104243520358),\n",
       " ('Year_2016', -24.267858331633597),\n",
       " ('Year_2017', 48.628570270276455),\n",
       " ('Year_2018', 0.0)]"
      ]
     },
     "execution_count": 73,
     "metadata": {},
     "output_type": "execute_result"
    }
   ],
   "source": [
    "list(zip(train_columns,cv_l1.best_estimator_.coef_))"
   ]
  },
  {
   "cell_type": "markdown",
   "metadata": {},
   "source": [
    "#### Possible Regression Line Can be\n",
    "\n",
    "#### traiff_volume = 3260.6 + (- 11.5 * holiday)+ (24.59 * temp)+ (-14.9 * rain_1h)+(-4.1 * clouds_all)+(-649 * hour_sin)+(-1441.3* hour_cos)+( 116.68 * wd_sin)+(-314.39 * wd_cos)+(0 * month_sin )+(-74.02 * month_cos )+(-14.1 * weather_main_encoded)+(25.47 * weather_desc_encoded)+ (17.1 * Year_2013)+ (-6.58 * Year_2014)+ (-3.19 * Year_2015) + (-24.27 * Year_2016)+(48.62 * Year_2017)+(0* Year_2018) **"
   ]
  },
  {
   "cell_type": "code",
   "execution_count": 74,
   "metadata": {},
   "outputs": [],
   "source": [
    "l2=Ridge()\n",
    "cv_l2 = GridSearchCV(estimator = l2, param_grid = params, \n",
    "                            scoring='r2', \n",
    "                            cv = folds, n_jobs=-1,\n",
    "                            return_train_score=True, verbose = 1)"
   ]
  },
  {
   "cell_type": "code",
   "execution_count": 75,
   "metadata": {},
   "outputs": [
    {
     "name": "stdout",
     "output_type": "stream",
     "text": [
      "Fitting 5 folds for each of 29 candidates, totalling 145 fits\n"
     ]
    },
    {
     "name": "stderr",
     "output_type": "stream",
     "text": [
      "[Parallel(n_jobs=-1)]: Using backend LokyBackend with 4 concurrent workers.\n",
      "[Parallel(n_jobs=-1)]: Done  92 tasks      | elapsed:    1.5s\n",
      "[Parallel(n_jobs=-1)]: Done 145 out of 145 | elapsed:    2.2s finished\n"
     ]
    },
    {
     "data": {
      "text/plain": [
       "GridSearchCV(cv=KFold(n_splits=5, random_state=100, shuffle=True),\n",
       "             estimator=Ridge(), n_jobs=-1,\n",
       "             param_grid={'alpha': [0.0001, 0.001, 0.01, 0.05, 0.1, 0.2, 0.3,\n",
       "                                   0.4, 0.5, 0.6, 0.7, 0.8, 0.9, 1.0, 2.0, 3.0,\n",
       "                                   4.0, 5.0, 6.0, 7.0, 8.0, 9.0, 10.0, 20, 50,\n",
       "                                   80, 100, 500, 1000]},\n",
       "             return_train_score=True, scoring='r2', verbose=1)"
      ]
     },
     "execution_count": 75,
     "metadata": {},
     "output_type": "execute_result"
    }
   ],
   "source": [
    "cv_l2.fit(X_train,y_train)"
   ]
  },
  {
   "cell_type": "code",
   "execution_count": 76,
   "metadata": {},
   "outputs": [
    {
     "data": {
      "text/plain": [
       "0.6666116445123188"
      ]
     },
     "execution_count": 76,
     "metadata": {},
     "output_type": "execute_result"
    }
   ],
   "source": [
    "cv_l2.best_score_"
   ]
  },
  {
   "cell_type": "code",
   "execution_count": 77,
   "metadata": {},
   "outputs": [
    {
     "data": {
      "text/plain": [
       "1147.6945560017198"
      ]
     },
     "execution_count": 77,
     "metadata": {},
     "output_type": "execute_result"
    }
   ],
   "source": [
    "np.sqrt(mean_squared_error(y_train,cv_l2.predict(X_train)))\n"
   ]
  },
  {
   "cell_type": "code",
   "execution_count": 78,
   "metadata": {},
   "outputs": [
    {
     "data": {
      "text/plain": [
       "1161.4837655433225"
      ]
     },
     "execution_count": 78,
     "metadata": {},
     "output_type": "execute_result"
    }
   ],
   "source": [
    "np.sqrt(mean_squared_error(y_test,cv_l2.predict(X_test)))\n"
   ]
  },
  {
   "cell_type": "code",
   "execution_count": 79,
   "metadata": {},
   "outputs": [
    {
     "data": {
      "text/plain": [
       "0.662142317790837"
      ]
     },
     "execution_count": 79,
     "metadata": {},
     "output_type": "execute_result"
    }
   ],
   "source": [
    "r2_score(y_test,cv_l2.predict(X_test))"
   ]
  },
  {
   "cell_type": "markdown",
   "metadata": {},
   "source": [
    "We again getting low r2 score and high RMSE in Ridge Regression\n"
   ]
  },
  {
   "cell_type": "code",
   "execution_count": 80,
   "metadata": {
    "scrolled": true
   },
   "outputs": [
    {
     "data": {
      "text/html": [
       "<div>\n",
       "<style scoped>\n",
       "    .dataframe tbody tr th:only-of-type {\n",
       "        vertical-align: middle;\n",
       "    }\n",
       "\n",
       "    .dataframe tbody tr th {\n",
       "        vertical-align: top;\n",
       "    }\n",
       "\n",
       "    .dataframe thead th {\n",
       "        text-align: right;\n",
       "    }\n",
       "</style>\n",
       "<table border=\"1\" class=\"dataframe\">\n",
       "  <thead>\n",
       "    <tr style=\"text-align: right;\">\n",
       "      <th></th>\n",
       "      <th>mean_fit_time</th>\n",
       "      <th>std_fit_time</th>\n",
       "      <th>mean_score_time</th>\n",
       "      <th>std_score_time</th>\n",
       "      <th>param_alpha</th>\n",
       "      <th>params</th>\n",
       "      <th>split0_test_score</th>\n",
       "      <th>split1_test_score</th>\n",
       "      <th>split2_test_score</th>\n",
       "      <th>split3_test_score</th>\n",
       "      <th>split4_test_score</th>\n",
       "      <th>mean_test_score</th>\n",
       "      <th>std_test_score</th>\n",
       "      <th>rank_test_score</th>\n",
       "      <th>split0_train_score</th>\n",
       "      <th>split1_train_score</th>\n",
       "      <th>split2_train_score</th>\n",
       "      <th>split3_train_score</th>\n",
       "      <th>split4_train_score</th>\n",
       "      <th>mean_train_score</th>\n",
       "      <th>std_train_score</th>\n",
       "    </tr>\n",
       "  </thead>\n",
       "  <tbody>\n",
       "    <tr>\n",
       "      <th>0</th>\n",
       "      <td>0.153117</td>\n",
       "      <td>0.055367</td>\n",
       "      <td>0.000000</td>\n",
       "      <td>0.000000</td>\n",
       "      <td>0.0001</td>\n",
       "      <td>{'alpha': 0.0001}</td>\n",
       "      <td>0.662795</td>\n",
       "      <td>0.667298</td>\n",
       "      <td>0.671493</td>\n",
       "      <td>0.656344</td>\n",
       "      <td>0.675127</td>\n",
       "      <td>0.666611</td>\n",
       "      <td>0.006585</td>\n",
       "      <td>24</td>\n",
       "      <td>0.668066</td>\n",
       "      <td>0.666972</td>\n",
       "      <td>0.665906</td>\n",
       "      <td>0.669702</td>\n",
       "      <td>0.664927</td>\n",
       "      <td>0.667115</td>\n",
       "      <td>0.001665</td>\n",
       "    </tr>\n",
       "    <tr>\n",
       "      <th>1</th>\n",
       "      <td>0.040625</td>\n",
       "      <td>0.007652</td>\n",
       "      <td>0.000000</td>\n",
       "      <td>0.000000</td>\n",
       "      <td>0.001</td>\n",
       "      <td>{'alpha': 0.001}</td>\n",
       "      <td>0.662795</td>\n",
       "      <td>0.667298</td>\n",
       "      <td>0.671493</td>\n",
       "      <td>0.656344</td>\n",
       "      <td>0.675127</td>\n",
       "      <td>0.666611</td>\n",
       "      <td>0.006585</td>\n",
       "      <td>23</td>\n",
       "      <td>0.668066</td>\n",
       "      <td>0.666972</td>\n",
       "      <td>0.665906</td>\n",
       "      <td>0.669702</td>\n",
       "      <td>0.664927</td>\n",
       "      <td>0.667115</td>\n",
       "      <td>0.001665</td>\n",
       "    </tr>\n",
       "    <tr>\n",
       "      <th>2</th>\n",
       "      <td>0.040624</td>\n",
       "      <td>0.007654</td>\n",
       "      <td>0.006249</td>\n",
       "      <td>0.007654</td>\n",
       "      <td>0.01</td>\n",
       "      <td>{'alpha': 0.01}</td>\n",
       "      <td>0.662795</td>\n",
       "      <td>0.667298</td>\n",
       "      <td>0.671493</td>\n",
       "      <td>0.656344</td>\n",
       "      <td>0.675127</td>\n",
       "      <td>0.666611</td>\n",
       "      <td>0.006585</td>\n",
       "      <td>22</td>\n",
       "      <td>0.668066</td>\n",
       "      <td>0.666972</td>\n",
       "      <td>0.665906</td>\n",
       "      <td>0.669702</td>\n",
       "      <td>0.664927</td>\n",
       "      <td>0.667115</td>\n",
       "      <td>0.001665</td>\n",
       "    </tr>\n",
       "    <tr>\n",
       "      <th>3</th>\n",
       "      <td>0.040625</td>\n",
       "      <td>0.012499</td>\n",
       "      <td>0.003124</td>\n",
       "      <td>0.006248</td>\n",
       "      <td>0.05</td>\n",
       "      <td>{'alpha': 0.05}</td>\n",
       "      <td>0.662795</td>\n",
       "      <td>0.667298</td>\n",
       "      <td>0.671493</td>\n",
       "      <td>0.656344</td>\n",
       "      <td>0.675127</td>\n",
       "      <td>0.666611</td>\n",
       "      <td>0.006585</td>\n",
       "      <td>21</td>\n",
       "      <td>0.668066</td>\n",
       "      <td>0.666972</td>\n",
       "      <td>0.665906</td>\n",
       "      <td>0.669702</td>\n",
       "      <td>0.664927</td>\n",
       "      <td>0.667115</td>\n",
       "      <td>0.001665</td>\n",
       "    </tr>\n",
       "    <tr>\n",
       "      <th>4</th>\n",
       "      <td>0.034373</td>\n",
       "      <td>0.006250</td>\n",
       "      <td>0.000000</td>\n",
       "      <td>0.000000</td>\n",
       "      <td>0.1</td>\n",
       "      <td>{'alpha': 0.1}</td>\n",
       "      <td>0.662795</td>\n",
       "      <td>0.667298</td>\n",
       "      <td>0.671493</td>\n",
       "      <td>0.656344</td>\n",
       "      <td>0.675127</td>\n",
       "      <td>0.666611</td>\n",
       "      <td>0.006585</td>\n",
       "      <td>20</td>\n",
       "      <td>0.668066</td>\n",
       "      <td>0.666972</td>\n",
       "      <td>0.665906</td>\n",
       "      <td>0.669702</td>\n",
       "      <td>0.664927</td>\n",
       "      <td>0.667115</td>\n",
       "      <td>0.001665</td>\n",
       "    </tr>\n",
       "  </tbody>\n",
       "</table>\n",
       "</div>"
      ],
      "text/plain": [
       "   mean_fit_time  std_fit_time  mean_score_time  std_score_time param_alpha  \\\n",
       "0       0.153117      0.055367         0.000000        0.000000      0.0001   \n",
       "1       0.040625      0.007652         0.000000        0.000000       0.001   \n",
       "2       0.040624      0.007654         0.006249        0.007654        0.01   \n",
       "3       0.040625      0.012499         0.003124        0.006248        0.05   \n",
       "4       0.034373      0.006250         0.000000        0.000000         0.1   \n",
       "\n",
       "              params  split0_test_score  split1_test_score  split2_test_score  \\\n",
       "0  {'alpha': 0.0001}           0.662795           0.667298           0.671493   \n",
       "1   {'alpha': 0.001}           0.662795           0.667298           0.671493   \n",
       "2    {'alpha': 0.01}           0.662795           0.667298           0.671493   \n",
       "3    {'alpha': 0.05}           0.662795           0.667298           0.671493   \n",
       "4     {'alpha': 0.1}           0.662795           0.667298           0.671493   \n",
       "\n",
       "   split3_test_score  split4_test_score  mean_test_score  std_test_score  \\\n",
       "0           0.656344           0.675127         0.666611        0.006585   \n",
       "1           0.656344           0.675127         0.666611        0.006585   \n",
       "2           0.656344           0.675127         0.666611        0.006585   \n",
       "3           0.656344           0.675127         0.666611        0.006585   \n",
       "4           0.656344           0.675127         0.666611        0.006585   \n",
       "\n",
       "   rank_test_score  split0_train_score  split1_train_score  \\\n",
       "0               24            0.668066            0.666972   \n",
       "1               23            0.668066            0.666972   \n",
       "2               22            0.668066            0.666972   \n",
       "3               21            0.668066            0.666972   \n",
       "4               20            0.668066            0.666972   \n",
       "\n",
       "   split2_train_score  split3_train_score  split4_train_score  \\\n",
       "0            0.665906            0.669702            0.664927   \n",
       "1            0.665906            0.669702            0.664927   \n",
       "2            0.665906            0.669702            0.664927   \n",
       "3            0.665906            0.669702            0.664927   \n",
       "4            0.665906            0.669702            0.664927   \n",
       "\n",
       "   mean_train_score  std_train_score  \n",
       "0          0.667115         0.001665  \n",
       "1          0.667115         0.001665  \n",
       "2          0.667115         0.001665  \n",
       "3          0.667115         0.001665  \n",
       "4          0.667115         0.001665  "
      ]
     },
     "execution_count": 80,
     "metadata": {},
     "output_type": "execute_result"
    }
   ],
   "source": [
    "result_l2=pd.DataFrame(cv_l2.cv_results_)\n",
    "result_l2.head()"
   ]
  },
  {
   "cell_type": "code",
   "execution_count": 81,
   "metadata": {},
   "outputs": [
    {
     "data": {
      "image/png": "[encoded data removed]",
      "text/plain": [
       "<Figure size 432x288 with 1 Axes>"
      ]
     },
     "metadata": {},
     "output_type": "display_data"
    }
   ],
   "source": [
    "plt.plot(result_l2.groupby(result_l2[\"param_alpha\"])[\"mean_test_score\"].mean(),label=\"Test\")\n",
    "plt.plot(result_l2.groupby(result_l2[\"param_alpha\"])[\"mean_train_score\"].mean(),label=\"Train\")\n",
    "plt.xscale('log')\n",
    "plt.legend()\n",
    "plt.title(\"alpha\")\n",
    "plt.show()"
   ]
  },
  {
   "cell_type": "markdown",
   "metadata": {},
   "source": [
    "We can see same behaviour as we saw in Lasso model start underfitting"
   ]
  },
  {
   "cell_type": "markdown",
   "metadata": {},
   "source": [
    "### Now Question arise Can we do better than this \n",
    "##### For that we try some enemble,boosting based model"
   ]
  },
  {
   "cell_type": "markdown",
   "metadata": {},
   "source": [
    "### Making  Random Forest with Hyper Parameter tuning"
   ]
  },
  {
   "cell_type": "code",
   "execution_count": 82,
   "metadata": {},
   "outputs": [],
   "source": [
    "rf=RandomForestRegressor()\n",
    "# Initializing Different Hyper Parameter\n",
    "param={\n",
    "    \"max_depth\":[2,3,5,8,10,12],\n",
    "    \"min_samples_split\":[2,3,4,6,8],\n",
    "    \"n_estimators\":[50,80,100,150],\n",
    "    \"max_samples\":[50,100,200,500,1000],\n",
    "    \"max_features\":[3,7,10,17],   \n",
    "}"
   ]
  },
  {
   "cell_type": "code",
   "execution_count": 83,
   "metadata": {},
   "outputs": [],
   "source": [
    "folds=KFold(n_splits=5, shuffle=True, random_state=100)"
   ]
  },
  {
   "cell_type": "code",
   "execution_count": 84,
   "metadata": {},
   "outputs": [],
   "source": [
    "# Initialising Model and cross validation\n",
    "cv_rf= GridSearchCV(estimator=rf,param_grid=param,cv=folds,scoring=\"r2\",return_train_score=True,refit=True,n_jobs=-1,verbose=1)"
   ]
  },
  {
   "cell_type": "code",
   "execution_count": 85,
   "metadata": {},
   "outputs": [
    {
     "name": "stdout",
     "output_type": "stream",
     "text": [
      "Fitting 5 folds for each of 2400 candidates, totalling 12000 fits\n"
     ]
    },
    {
     "name": "stderr",
     "output_type": "stream",
     "text": [
      "[Parallel(n_jobs=-1)]: Using backend LokyBackend with 4 concurrent workers.\n",
      "[Parallel(n_jobs=-1)]: Done  42 tasks      | elapsed:    6.5s\n",
      "[Parallel(n_jobs=-1)]: Done 192 tasks      | elapsed:   30.0s\n",
      "[Parallel(n_jobs=-1)]: Done 442 tasks      | elapsed:  1.2min\n",
      "[Parallel(n_jobs=-1)]: Done 792 tasks      | elapsed:  2.2min\n",
      "[Parallel(n_jobs=-1)]: Done 1242 tasks      | elapsed:  3.5min\n",
      "[Parallel(n_jobs=-1)]: Done 1792 tasks      | elapsed:  5.9min\n",
      "[Parallel(n_jobs=-1)]: Done 2442 tasks      | elapsed:  9.4min\n",
      "[Parallel(n_jobs=-1)]: Done 3192 tasks      | elapsed: 13.4min\n",
      "[Parallel(n_jobs=-1)]: Done 4042 tasks      | elapsed: 16.9min\n",
      "[Parallel(n_jobs=-1)]: Done 4992 tasks      | elapsed: 20.3min\n",
      "[Parallel(n_jobs=-1)]: Done 6042 tasks      | elapsed: 24.5min\n",
      "[Parallel(n_jobs=-1)]: Done 7192 tasks      | elapsed: 29.0min\n",
      "[Parallel(n_jobs=-1)]: Done 8442 tasks      | elapsed: 34.2min\n",
      "[Parallel(n_jobs=-1)]: Done 9792 tasks      | elapsed: 39.7min\n",
      "[Parallel(n_jobs=-1)]: Done 11242 tasks      | elapsed: 45.8min\n",
      "[Parallel(n_jobs=-1)]: Done 12000 out of 12000 | elapsed: 49.6min finished\n"
     ]
    },
    {
     "data": {
      "text/plain": [
       "GridSearchCV(cv=KFold(n_splits=5, random_state=100, shuffle=True),\n",
       "             estimator=RandomForestRegressor(), n_jobs=-1,\n",
       "             param_grid={'max_depth': [2, 3, 5, 8, 10, 12],\n",
       "                         'max_features': [3, 7, 10, 17],\n",
       "                         'max_samples': [50, 100, 200, 500, 1000],\n",
       "                         'min_samples_split': [2, 3, 4, 6, 8],\n",
       "                         'n_estimators': [50, 80, 100, 150]},\n",
       "             return_train_score=True, scoring='r2', verbose=1)"
      ]
     },
     "execution_count": 85,
     "metadata": {},
     "output_type": "execute_result"
    }
   ],
   "source": [
    "# Traing rf model\n",
    "cv_rf.fit(X_train,y_train)"
   ]
  },
  {
   "cell_type": "code",
   "execution_count": 86,
   "metadata": {},
   "outputs": [
    {
     "data": {
      "text/plain": [
       "0.8844471190910879"
      ]
     },
     "execution_count": 86,
     "metadata": {},
     "output_type": "execute_result"
    }
   ],
   "source": [
    "# CHecking Best Score\n",
    "cv_rf.best_score_"
   ]
  },
  {
   "cell_type": "code",
   "execution_count": 87,
   "metadata": {},
   "outputs": [],
   "source": [
    "# predictiing on holod out set\n",
    "y_test_pred=cv_rf.predict(X_test)"
   ]
  },
  {
   "cell_type": "code",
   "execution_count": 88,
   "metadata": {},
   "outputs": [
    {
     "data": {
      "text/plain": [
       "657.1887128804907"
      ]
     },
     "execution_count": 88,
     "metadata": {},
     "output_type": "execute_result"
    }
   ],
   "source": [
    "# CHecking RMSE of training dataset\n",
    "np.sqrt(mean_squared_error(y_train,cv_rf.predict(X_train)))"
   ]
  },
  {
   "cell_type": "code",
   "execution_count": 89,
   "metadata": {},
   "outputs": [
    {
     "data": {
      "text/plain": [
       "665.3627777573898"
      ]
     },
     "execution_count": 89,
     "metadata": {},
     "output_type": "execute_result"
    }
   ],
   "source": [
    "#checking rmse of hold out set\n",
    "np.sqrt(mean_squared_error(y_test,y_test_pred)) "
   ]
  },
  {
   "cell_type": "code",
   "execution_count": 90,
   "metadata": {},
   "outputs": [
    {
     "data": {
      "text/plain": [
       "0.889127328079963"
      ]
     },
     "execution_count": 90,
     "metadata": {},
     "output_type": "execute_result"
    }
   ],
   "source": [
    "# adjusted R2 score of hold out set\n",
    "r2_score(y_test,y_test_pred)"
   ]
  },
  {
   "cell_type": "code",
   "execution_count": 91,
   "metadata": {},
   "outputs": [],
   "source": [
    "# We can see that rf model is giving 88 r2 score in hold out set "
   ]
  },
  {
   "cell_type": "markdown",
   "metadata": {},
   "source": [
    "#### Visualising behaviour with respect to diffenrt parameter"
   ]
  },
  {
   "cell_type": "code",
   "execution_count": 92,
   "metadata": {},
   "outputs": [
    {
     "data": {
      "text/html": [
       "<div>\n",
       "<style scoped>\n",
       "    .dataframe tbody tr th:only-of-type {\n",
       "        vertical-align: middle;\n",
       "    }\n",
       "\n",
       "    .dataframe tbody tr th {\n",
       "        vertical-align: top;\n",
       "    }\n",
       "\n",
       "    .dataframe thead th {\n",
       "        text-align: right;\n",
       "    }\n",
       "</style>\n",
       "<table border=\"1\" class=\"dataframe\">\n",
       "  <thead>\n",
       "    <tr style=\"text-align: right;\">\n",
       "      <th></th>\n",
       "      <th>mean_fit_time</th>\n",
       "      <th>std_fit_time</th>\n",
       "      <th>mean_score_time</th>\n",
       "      <th>std_score_time</th>\n",
       "      <th>param_max_depth</th>\n",
       "      <th>param_max_features</th>\n",
       "      <th>param_max_samples</th>\n",
       "      <th>param_min_samples_split</th>\n",
       "      <th>param_n_estimators</th>\n",
       "      <th>params</th>\n",
       "      <th>split0_test_score</th>\n",
       "      <th>split1_test_score</th>\n",
       "      <th>split2_test_score</th>\n",
       "      <th>split3_test_score</th>\n",
       "      <th>split4_test_score</th>\n",
       "      <th>mean_test_score</th>\n",
       "      <th>std_test_score</th>\n",
       "      <th>rank_test_score</th>\n",
       "      <th>split0_train_score</th>\n",
       "      <th>split1_train_score</th>\n",
       "      <th>split2_train_score</th>\n",
       "      <th>split3_train_score</th>\n",
       "      <th>split4_train_score</th>\n",
       "      <th>mean_train_score</th>\n",
       "      <th>std_train_score</th>\n",
       "    </tr>\n",
       "  </thead>\n",
       "  <tbody>\n",
       "    <tr>\n",
       "      <th>0</th>\n",
       "      <td>0.215477</td>\n",
       "      <td>0.005275</td>\n",
       "      <td>0.032584</td>\n",
       "      <td>0.007627</td>\n",
       "      <td>2</td>\n",
       "      <td>3</td>\n",
       "      <td>50</td>\n",
       "      <td>2</td>\n",
       "      <td>50</td>\n",
       "      <td>{'max_depth': 2, 'max_features': 3, 'max_sampl...</td>\n",
       "      <td>0.317142</td>\n",
       "      <td>0.360017</td>\n",
       "      <td>0.376263</td>\n",
       "      <td>0.324031</td>\n",
       "      <td>0.446758</td>\n",
       "      <td>0.364842</td>\n",
       "      <td>0.046486</td>\n",
       "      <td>2394</td>\n",
       "      <td>0.318383</td>\n",
       "      <td>0.363785</td>\n",
       "      <td>0.374811</td>\n",
       "      <td>0.328247</td>\n",
       "      <td>0.444243</td>\n",
       "      <td>0.365894</td>\n",
       "      <td>0.044491</td>\n",
       "    </tr>\n",
       "    <tr>\n",
       "      <th>1</th>\n",
       "      <td>0.350596</td>\n",
       "      <td>0.010299</td>\n",
       "      <td>0.038179</td>\n",
       "      <td>0.001939</td>\n",
       "      <td>2</td>\n",
       "      <td>3</td>\n",
       "      <td>50</td>\n",
       "      <td>2</td>\n",
       "      <td>80</td>\n",
       "      <td>{'max_depth': 2, 'max_features': 3, 'max_sampl...</td>\n",
       "      <td>0.399229</td>\n",
       "      <td>0.366669</td>\n",
       "      <td>0.381824</td>\n",
       "      <td>0.318150</td>\n",
       "      <td>0.464454</td>\n",
       "      <td>0.386065</td>\n",
       "      <td>0.047592</td>\n",
       "      <td>2373</td>\n",
       "      <td>0.402249</td>\n",
       "      <td>0.369660</td>\n",
       "      <td>0.377993</td>\n",
       "      <td>0.324367</td>\n",
       "      <td>0.461315</td>\n",
       "      <td>0.387117</td>\n",
       "      <td>0.044855</td>\n",
       "    </tr>\n",
       "    <tr>\n",
       "      <th>2</th>\n",
       "      <td>0.428954</td>\n",
       "      <td>0.023880</td>\n",
       "      <td>0.049773</td>\n",
       "      <td>0.003248</td>\n",
       "      <td>2</td>\n",
       "      <td>3</td>\n",
       "      <td>50</td>\n",
       "      <td>2</td>\n",
       "      <td>100</td>\n",
       "      <td>{'max_depth': 2, 'max_features': 3, 'max_sampl...</td>\n",
       "      <td>0.378415</td>\n",
       "      <td>0.399086</td>\n",
       "      <td>0.383191</td>\n",
       "      <td>0.355509</td>\n",
       "      <td>0.320811</td>\n",
       "      <td>0.367402</td>\n",
       "      <td>0.027153</td>\n",
       "      <td>2392</td>\n",
       "      <td>0.381206</td>\n",
       "      <td>0.403409</td>\n",
       "      <td>0.378713</td>\n",
       "      <td>0.365202</td>\n",
       "      <td>0.318703</td>\n",
       "      <td>0.369447</td>\n",
       "      <td>0.028180</td>\n",
       "    </tr>\n",
       "    <tr>\n",
       "      <th>3</th>\n",
       "      <td>0.645428</td>\n",
       "      <td>0.022504</td>\n",
       "      <td>0.069360</td>\n",
       "      <td>0.005745</td>\n",
       "      <td>2</td>\n",
       "      <td>3</td>\n",
       "      <td>50</td>\n",
       "      <td>2</td>\n",
       "      <td>150</td>\n",
       "      <td>{'max_depth': 2, 'max_features': 3, 'max_sampl...</td>\n",
       "      <td>0.401946</td>\n",
       "      <td>0.398628</td>\n",
       "      <td>0.418318</td>\n",
       "      <td>0.373614</td>\n",
       "      <td>0.346993</td>\n",
       "      <td>0.387900</td>\n",
       "      <td>0.024960</td>\n",
       "      <td>2370</td>\n",
       "      <td>0.404570</td>\n",
       "      <td>0.401644</td>\n",
       "      <td>0.414624</td>\n",
       "      <td>0.378731</td>\n",
       "      <td>0.342001</td>\n",
       "      <td>0.388314</td>\n",
       "      <td>0.025965</td>\n",
       "    </tr>\n",
       "    <tr>\n",
       "      <th>4</th>\n",
       "      <td>0.240063</td>\n",
       "      <td>0.009405</td>\n",
       "      <td>0.028184</td>\n",
       "      <td>0.003969</td>\n",
       "      <td>2</td>\n",
       "      <td>3</td>\n",
       "      <td>50</td>\n",
       "      <td>3</td>\n",
       "      <td>50</td>\n",
       "      <td>{'max_depth': 2, 'max_features': 3, 'max_sampl...</td>\n",
       "      <td>0.381498</td>\n",
       "      <td>0.364082</td>\n",
       "      <td>0.415598</td>\n",
       "      <td>0.389528</td>\n",
       "      <td>0.375736</td>\n",
       "      <td>0.385288</td>\n",
       "      <td>0.017274</td>\n",
       "      <td>2374</td>\n",
       "      <td>0.383973</td>\n",
       "      <td>0.369456</td>\n",
       "      <td>0.412543</td>\n",
       "      <td>0.398218</td>\n",
       "      <td>0.371909</td>\n",
       "      <td>0.387220</td>\n",
       "      <td>0.016265</td>\n",
       "    </tr>\n",
       "  </tbody>\n",
       "</table>\n",
       "</div>"
      ],
      "text/plain": [
       "   mean_fit_time  std_fit_time  mean_score_time  std_score_time  \\\n",
       "0       0.215477      0.005275         0.032584        0.007627   \n",
       "1       0.350596      0.010299         0.038179        0.001939   \n",
       "2       0.428954      0.023880         0.049773        0.003248   \n",
       "3       0.645428      0.022504         0.069360        0.005745   \n",
       "4       0.240063      0.009405         0.028184        0.003969   \n",
       "\n",
       "  param_max_depth param_max_features param_max_samples  \\\n",
       "0               2                  3                50   \n",
       "1               2                  3                50   \n",
       "2               2                  3                50   \n",
       "3               2                  3                50   \n",
       "4               2                  3                50   \n",
       "\n",
       "  param_min_samples_split param_n_estimators  \\\n",
       "0                       2                 50   \n",
       "1                       2                 80   \n",
       "2                       2                100   \n",
       "3                       2                150   \n",
       "4                       3                 50   \n",
       "\n",
       "                                              params  split0_test_score  \\\n",
       "0  {'max_depth': 2, 'max_features': 3, 'max_sampl...           0.317142   \n",
       "1  {'max_depth': 2, 'max_features': 3, 'max_sampl...           0.399229   \n",
       "2  {'max_depth': 2, 'max_features': 3, 'max_sampl...           0.378415   \n",
       "3  {'max_depth': 2, 'max_features': 3, 'max_sampl...           0.401946   \n",
       "4  {'max_depth': 2, 'max_features': 3, 'max_sampl...           0.381498   \n",
       "\n",
       "   split1_test_score  split2_test_score  split3_test_score  split4_test_score  \\\n",
       "0           0.360017           0.376263           0.324031           0.446758   \n",
       "1           0.366669           0.381824           0.318150           0.464454   \n",
       "2           0.399086           0.383191           0.355509           0.320811   \n",
       "3           0.398628           0.418318           0.373614           0.346993   \n",
       "4           0.364082           0.415598           0.389528           0.375736   \n",
       "\n",
       "   mean_test_score  std_test_score  rank_test_score  split0_train_score  \\\n",
       "0         0.364842        0.046486             2394            0.318383   \n",
       "1         0.386065        0.047592             2373            0.402249   \n",
       "2         0.367402        0.027153             2392            0.381206   \n",
       "3         0.387900        0.024960             2370            0.404570   \n",
       "4         0.385288        0.017274             2374            0.383973   \n",
       "\n",
       "   split1_train_score  split2_train_score  split3_train_score  \\\n",
       "0            0.363785            0.374811            0.328247   \n",
       "1            0.369660            0.377993            0.324367   \n",
       "2            0.403409            0.378713            0.365202   \n",
       "3            0.401644            0.414624            0.378731   \n",
       "4            0.369456            0.412543            0.398218   \n",
       "\n",
       "   split4_train_score  mean_train_score  std_train_score  \n",
       "0            0.444243          0.365894         0.044491  \n",
       "1            0.461315          0.387117         0.044855  \n",
       "2            0.318703          0.369447         0.028180  \n",
       "3            0.342001          0.388314         0.025965  \n",
       "4            0.371909          0.387220         0.016265  "
      ]
     },
     "execution_count": 92,
     "metadata": {},
     "output_type": "execute_result"
    }
   ],
   "source": [
    "score_rf=pd.DataFrame(cv_rf.cv_results_)\n",
    "score_rf.head()"
   ]
  },
  {
   "cell_type": "code",
   "execution_count": 93,
   "metadata": {},
   "outputs": [
    {
     "data": {
      "image/png": "[encoded data removed]",
      "text/plain": [
       "<Figure size 1080x1080 with 5 Axes>"
      ]
     },
     "metadata": {},
     "output_type": "display_data"
    }
   ],
   "source": [
    "plt.figure(figsize=(15,15))\n",
    "plt.subplot(3,2,1)\n",
    "plt.plot(score_rf.groupby(score_rf[\"param_max_depth\"])[\"mean_test_score\"].mean(),label=\"Test\")\n",
    "plt.plot(score_rf.groupby(score_rf[\"param_max_depth\"])[\"mean_train_score\"].mean(),label=\"Train\")\n",
    "plt.title(\"Max depth\")\n",
    "plt.legend()\n",
    "\n",
    "plt.subplot(3,2,2)\n",
    "plt.plot(score_rf.groupby(score_rf[\"param_max_features\"])[\"mean_test_score\"].mean(),label=\"Test\")\n",
    "plt.plot(score_rf.groupby(score_rf[\"param_max_features\"])[\"mean_train_score\"].mean(),label=\"Train\")\n",
    "plt.title(\"Max Features\")\n",
    "plt.legend()\n",
    "\n",
    "\n",
    "plt.subplot(3,2,3)\n",
    "plt.plot(score_rf.groupby(score_rf[\"param_max_samples\"])[\"mean_test_score\"].mean(),label=\"Test\")\n",
    "plt.plot(score_rf.groupby(score_rf[\"param_max_samples\"])[\"mean_train_score\"].mean(),label=\"Train\")\n",
    "plt.title(\"Max Samples\")\n",
    "plt.legend()\n",
    "\n",
    "         \n",
    "         \n",
    "plt.subplot(3,2,4)\n",
    "plt.plot(score_rf.groupby(score_rf[\"param_min_samples_split\"])[\"mean_test_score\"].mean(),label=\"Test\")\n",
    "plt.plot(score_rf.groupby(score_rf[\"param_min_samples_split\"])[\"mean_train_score\"].mean(),label=\"Train\")\n",
    "plt.title(\"min samples split\")\n",
    "plt.legend()\n",
    "\n",
    "plt.subplot(3,2,5)\n",
    "plt.plot(score_rf.groupby(score_rf[\"param_n_estimators\"])[\"mean_test_score\"].mean(),label=\"Test\")\n",
    "plt.plot(score_rf.groupby(score_rf[\"param_n_estimators\"])[\"mean_train_score\"].mean(),label=\"Train\")\n",
    "plt.title(\" n estimators\")\n",
    "plt.legend()\n",
    "\n",
    "plt.show()"
   ]
  },
  {
   "cell_type": "markdown",
   "metadata": {},
   "source": [
    "We can see that as maximum depth, number of estimator maximum number of features increases r2 score also increses but after some limit, gap between test and train score also increases which means model start overfitting"
   ]
  },
  {
   "cell_type": "markdown",
   "metadata": {},
   "source": [
    "#  Training XGB regressor"
   ]
  },
  {
   "cell_type": "code",
   "execution_count": 94,
   "metadata": {},
   "outputs": [],
   "source": [
    "\n",
    "xgb=XGBRegressor()"
   ]
  },
  {
   "cell_type": "code",
   "execution_count": 95,
   "metadata": {},
   "outputs": [],
   "source": [
    "param_xgb={\n",
    "    \"max_depth\":[3,5,8,10],\n",
    "    \"n_estimators\":[50,100,200],\n",
    "    \"learning_rate\":[0.1,0.3,0.5,0.8]    \n",
    "}"
   ]
  },
  {
   "cell_type": "code",
   "execution_count": 96,
   "metadata": {},
   "outputs": [],
   "source": [
    "cv_xgb= GridSearchCV(estimator=xgb,param_grid=param_xgb,cv=folds,scoring=\"r2\",return_train_score=True ,refit=True,n_jobs=-1,verbose=5)"
   ]
  },
  {
   "cell_type": "code",
   "execution_count": null,
   "metadata": {
    "scrolled": true
   },
   "outputs": [
    {
     "name": "stdout",
     "output_type": "stream",
     "text": [
      "Fitting 5 folds for each of 48 candidates, totalling 240 fits\n"
     ]
    },
    {
     "name": "stderr",
     "output_type": "stream",
     "text": [
      "[Parallel(n_jobs=-1)]: Using backend LokyBackend with 4 concurrent workers.\n",
      "[Parallel(n_jobs=-1)]: Done  10 tasks      | elapsed:   22.5s\n",
      "[Parallel(n_jobs=-1)]: Done  64 tasks      | elapsed:  2.4min\n",
      "[Parallel(n_jobs=-1)]: Done 154 tasks      | elapsed:  5.1min\n"
     ]
    }
   ],
   "source": [
    "cv_xgb.fit(X_train,y_train)"
   ]
  },
  {
   "cell_type": "code",
   "execution_count": null,
   "metadata": {},
   "outputs": [],
   "source": [
    "cv_xgb.best_score_"
   ]
  },
  {
   "cell_type": "code",
   "execution_count": null,
   "metadata": {},
   "outputs": [],
   "source": [
    "#\n",
    "r2_score(y_test,cv_xgb.predict(X_test))"
   ]
  },
  {
   "cell_type": "code",
   "execution_count": null,
   "metadata": {},
   "outputs": [],
   "source": [
    "np.sqrt(mean_squared_error(y_train,cv_xgb.predict(X_train)))"
   ]
  },
  {
   "cell_type": "code",
   "execution_count": null,
   "metadata": {},
   "outputs": [],
   "source": [
    "np.sqrt(mean_squared_error(y_test,cv_xgb.predict(X_test)))"
   ]
  },
  {
   "cell_type": "markdown",
   "metadata": {},
   "source": [
    "# Behaviour Of Various Parameter "
   ]
  },
  {
   "cell_type": "code",
   "execution_count": null,
   "metadata": {},
   "outputs": [],
   "source": [
    "result_xgb=pd.DataFrame(cv_xgb.cv_results_)\n",
    "result_xgb.head()"
   ]
  },
  {
   "cell_type": "code",
   "execution_count": null,
   "metadata": {},
   "outputs": [],
   "source": [
    "plt.figure(figsize=(15,15))\n",
    "plt.subplot(2,2,1)\n",
    "plt.plot(result_xgb.groupby(result_xgb[\"param_max_depth\"])[\"mean_test_score\"].mean(),label=\"Test\")\n",
    "plt.plot(result_xgb.groupby(result_xgb[\"param_max_depth\"])[\"mean_train_score\"].mean(),label=\"Train\")\n",
    "plt.legend()\n",
    "plt.title(\"Max depth\")\n",
    "\n",
    "plt.subplot(2,2,2)\n",
    "plt.plot(result_xgb.groupby(result_xgb[\"param_learning_rate\"])[\"mean_test_score\"].mean(),label=\"Test\")\n",
    "plt.plot(result_xgb.groupby(result_xgb[\"param_learning_rate\"])[\"mean_train_score\"].mean(),label=\"Train\")\n",
    "plt.legend()\n",
    "plt.title(\"Learning Rate\")\n",
    "\n",
    "\n",
    "plt.subplot(2,2,3)\n",
    "plt.plot(result_xgb.groupby(result_xgb[\"param_n_estimators\"])[\"mean_test_score\"].mean(),label=\"Test\")\n",
    "plt.plot(result_xgb.groupby(result_xgb[\"param_n_estimators\"])[\"mean_train_score\"].mean(),label=\"Train\")\n",
    "plt.legend()\n",
    "plt.title(\"N_estimators\")\n",
    "plt.show()"
   ]
  },
  {
   "cell_type": "markdown",
   "metadata": {},
   "source": [
    "We can clearly see that train score keep increasing but test score start decreasing after as parameter increases which leads to overfit "
   ]
  },
  {
   "cell_type": "markdown",
   "metadata": {},
   "source": [
    "# Finalizing Model\n"
   ]
  },
  {
   "cell_type": "code",
   "execution_count": null,
   "metadata": {},
   "outputs": [],
   "source": [
    "score_rf[score_rf[\"rank_test_score\"]==1]"
   ]
  },
  {
   "cell_type": "code",
   "execution_count": null,
   "metadata": {},
   "outputs": [],
   "source": [
    "result_xgb[result_xgb[\"rank_test_score\"]==1]"
   ]
  },
  {
   "cell_type": "code",
   "execution_count": null,
   "metadata": {},
   "outputs": [],
   "source": [
    "result_l1[result_l1[\"rank_test_score\"]==1]"
   ]
  },
  {
   "cell_type": "code",
   "execution_count": null,
   "metadata": {},
   "outputs": [],
   "source": [
    "result_l2[result_l2[\"rank_test_score\"]==1]"
   ]
  },
  {
   "cell_type": "markdown",
   "metadata": {},
   "source": [
    "# Conclusion "
   ]
  },
  {
   "cell_type": "markdown",
   "metadata": {},
   "source": [
    "We have made total of 4 model random Forest, extreme gradient Boosting  L1 and L2 <br>\n",
    "We have Found that model With Xgb algorithm performed very well in holdout set <br>\n",
    "\n",
    "If We compare Standerd Deviation of test score we r getting lowest in xgb, 0.003426 whch means our model stable\n",
    "\n",
    "With the above discussion we can finalize **cv_xgb**"
   ]
  },
  {
   "cell_type": "code",
   "execution_count": null,
   "metadata": {},
   "outputs": [],
   "source": [
    "# Predicting on test data provided \n",
    "test.head()"
   ]
  },
  {
   "cell_type": "code",
   "execution_count": null,
   "metadata": {},
   "outputs": [],
   "source": [
    "test_=scaler.transform(test)"
   ]
  },
  {
   "cell_type": "code",
   "execution_count": null,
   "metadata": {},
   "outputs": [],
   "source": [
    "test_pred=cv_xgb.predict(test_)"
   ]
  },
  {
   "cell_type": "code",
   "execution_count": null,
   "metadata": {},
   "outputs": [],
   "source": [
    "test=test.reset_index()"
   ]
  },
  {
   "cell_type": "code",
   "execution_count": null,
   "metadata": {},
   "outputs": [],
   "source": [
    "final_df=pd.DataFrame()\n",
    "final_df[\"Index\"]=test[\"Unnamed: 0\"]\n",
    "final_df[\"Value\"]=test_pred"
   ]
  },
  {
   "cell_type": "code",
   "execution_count": null,
   "metadata": {},
   "outputs": [],
   "source": [
    "# Changing to Csv\n",
    "final_df.to_csv(\"Output.csv\")"
   ]
  },
  {
   "cell_type": "code",
   "execution_count": null,
   "metadata": {},
   "outputs": [],
   "source": []
  },
  {
   "cell_type": "code",
   "execution_count": null,
   "metadata": {},
   "outputs": [],
   "source": []
  }
 ],
 "metadata": {
  "kernelspec": {
   "display_name": "Python 3",
   "language": "python",
   "name": "python3"
  },
  "language_info": {
   "codemirror_mode": {
    "name": "ipython",
    "version": 3
   },
   "file_extension": ".py",
   "mimetype": "text/x-python",
   "name": "python",
   "nbconvert_exporter": "python",
   "pygments_lexer": "ipython3",
   "version": "3.7.6"
  }
 },
 "nbformat": 4,
 "nbformat_minor": 4
}
