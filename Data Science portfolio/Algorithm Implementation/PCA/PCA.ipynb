{
 "cells": [
  {
   "cell_type": "markdown",
   "metadata": {},
   "source": [
    "# Problem Statement :-\n",
    "\n",
    "Dataset contain (42000, 785) values where 784 different pixel values and One label columuns which tells about what digit it is (between 0-9)\n",
    "\n",
    "Our Aim is to find How Dimensionality reducton techniques help\n",
    "\n",
    "#### We will try to find out what was accuracy before dimensionlity reduction technique applied and after applying.\n",
    "#### Time taken in model learning before and after"
   ]
  },
  {
   "cell_type": "code",
   "execution_count": 1,
   "metadata": {
    "id": "grGcxL8VaIZv"
   },
   "outputs": [],
   "source": [
    "# importing various package\n",
    "import pandas as pd\n",
    "import matplotlib.pyplot as plt\n",
    "import numpy as np\n",
    "import seaborn as sns\n",
    "from sklearn.linear_model import LogisticRegression\n",
    "from sklearn.model_selection import train_test_split\n",
    "from sklearn.model_selection import cross_val_score\n",
    "from sklearn.metrics import accuracy_score,confusion_matrix,f1_score\n",
    "from sklearn.decomposition import IncrementalPCA\n",
    "sns.set()"
   ]
  },
  {
   "cell_type": "markdown",
   "metadata": {
    "id": "CCt2Im_DuhMF"
   },
   "source": [
    "**Steps Followed :-** <br>\n",
    "\n",
    ">Importing required libraries <br>\n",
    "Reading and understanding the data <br>\n",
    "Building Logistic regression model before PCA  <br>\n",
    "Time Taken and Model Evaluation<br>\n",
    "PCA <br>\n",
    "Building logistic regression model afteer PCa<br>\n",
    "Time Taken and Model Evaluation <br>\n",
    "Comparing model beofore pca and after pca\n",
    "\n",
    "\n",
    "\n"
   ]
  },
  {
   "cell_type": "code",
   "execution_count": 2,
   "metadata": {
    "id": "nyI3F7F6na6X"
   },
   "outputs": [],
   "source": [
    "df = pd.read_csv('digit_recognizer.csv')"
   ]
  },
  {
   "cell_type": "code",
   "execution_count": 3,
   "metadata": {
    "colab": {
     "base_uri": "https://localhost:8080/",
     "height": 253
    },
    "id": "IVn0nB3fpbAk",
    "outputId": "7232f278-f080-47f0-9587-1ff443e7cf63"
   },
   "outputs": [
    {
     "data": {
      "text/html": [
       "<div>\n",
       "<style scoped>\n",
       "    .dataframe tbody tr th:only-of-type {\n",
       "        vertical-align: middle;\n",
       "    }\n",
       "\n",
       "    .dataframe tbody tr th {\n",
       "        vertical-align: top;\n",
       "    }\n",
       "\n",
       "    .dataframe thead th {\n",
       "        text-align: right;\n",
       "    }\n",
       "</style>\n",
       "<table border=\"1\" class=\"dataframe\">\n",
       "  <thead>\n",
       "    <tr style=\"text-align: right;\">\n",
       "      <th></th>\n",
       "      <th>label</th>\n",
       "      <th>pixel0</th>\n",
       "      <th>pixel1</th>\n",
       "      <th>pixel2</th>\n",
       "      <th>pixel3</th>\n",
       "      <th>pixel4</th>\n",
       "      <th>pixel5</th>\n",
       "      <th>pixel6</th>\n",
       "      <th>pixel7</th>\n",
       "      <th>pixel8</th>\n",
       "      <th>...</th>\n",
       "      <th>pixel774</th>\n",
       "      <th>pixel775</th>\n",
       "      <th>pixel776</th>\n",
       "      <th>pixel777</th>\n",
       "      <th>pixel778</th>\n",
       "      <th>pixel779</th>\n",
       "      <th>pixel780</th>\n",
       "      <th>pixel781</th>\n",
       "      <th>pixel782</th>\n",
       "      <th>pixel783</th>\n",
       "    </tr>\n",
       "  </thead>\n",
       "  <tbody>\n",
       "    <tr>\n",
       "      <th>0</th>\n",
       "      <td>1</td>\n",
       "      <td>0</td>\n",
       "      <td>0</td>\n",
       "      <td>0</td>\n",
       "      <td>0</td>\n",
       "      <td>0</td>\n",
       "      <td>0</td>\n",
       "      <td>0</td>\n",
       "      <td>0</td>\n",
       "      <td>0</td>\n",
       "      <td>...</td>\n",
       "      <td>0</td>\n",
       "      <td>0</td>\n",
       "      <td>0</td>\n",
       "      <td>0</td>\n",
       "      <td>0</td>\n",
       "      <td>0</td>\n",
       "      <td>0</td>\n",
       "      <td>0</td>\n",
       "      <td>0</td>\n",
       "      <td>0</td>\n",
       "    </tr>\n",
       "    <tr>\n",
       "      <th>1</th>\n",
       "      <td>0</td>\n",
       "      <td>0</td>\n",
       "      <td>0</td>\n",
       "      <td>0</td>\n",
       "      <td>0</td>\n",
       "      <td>0</td>\n",
       "      <td>0</td>\n",
       "      <td>0</td>\n",
       "      <td>0</td>\n",
       "      <td>0</td>\n",
       "      <td>...</td>\n",
       "      <td>0</td>\n",
       "      <td>0</td>\n",
       "      <td>0</td>\n",
       "      <td>0</td>\n",
       "      <td>0</td>\n",
       "      <td>0</td>\n",
       "      <td>0</td>\n",
       "      <td>0</td>\n",
       "      <td>0</td>\n",
       "      <td>0</td>\n",
       "    </tr>\n",
       "    <tr>\n",
       "      <th>2</th>\n",
       "      <td>1</td>\n",
       "      <td>0</td>\n",
       "      <td>0</td>\n",
       "      <td>0</td>\n",
       "      <td>0</td>\n",
       "      <td>0</td>\n",
       "      <td>0</td>\n",
       "      <td>0</td>\n",
       "      <td>0</td>\n",
       "      <td>0</td>\n",
       "      <td>...</td>\n",
       "      <td>0</td>\n",
       "      <td>0</td>\n",
       "      <td>0</td>\n",
       "      <td>0</td>\n",
       "      <td>0</td>\n",
       "      <td>0</td>\n",
       "      <td>0</td>\n",
       "      <td>0</td>\n",
       "      <td>0</td>\n",
       "      <td>0</td>\n",
       "    </tr>\n",
       "    <tr>\n",
       "      <th>3</th>\n",
       "      <td>4</td>\n",
       "      <td>0</td>\n",
       "      <td>0</td>\n",
       "      <td>0</td>\n",
       "      <td>0</td>\n",
       "      <td>0</td>\n",
       "      <td>0</td>\n",
       "      <td>0</td>\n",
       "      <td>0</td>\n",
       "      <td>0</td>\n",
       "      <td>...</td>\n",
       "      <td>0</td>\n",
       "      <td>0</td>\n",
       "      <td>0</td>\n",
       "      <td>0</td>\n",
       "      <td>0</td>\n",
       "      <td>0</td>\n",
       "      <td>0</td>\n",
       "      <td>0</td>\n",
       "      <td>0</td>\n",
       "      <td>0</td>\n",
       "    </tr>\n",
       "    <tr>\n",
       "      <th>4</th>\n",
       "      <td>0</td>\n",
       "      <td>0</td>\n",
       "      <td>0</td>\n",
       "      <td>0</td>\n",
       "      <td>0</td>\n",
       "      <td>0</td>\n",
       "      <td>0</td>\n",
       "      <td>0</td>\n",
       "      <td>0</td>\n",
       "      <td>0</td>\n",
       "      <td>...</td>\n",
       "      <td>0</td>\n",
       "      <td>0</td>\n",
       "      <td>0</td>\n",
       "      <td>0</td>\n",
       "      <td>0</td>\n",
       "      <td>0</td>\n",
       "      <td>0</td>\n",
       "      <td>0</td>\n",
       "      <td>0</td>\n",
       "      <td>0</td>\n",
       "    </tr>\n",
       "  </tbody>\n",
       "</table>\n",
       "<p>5 rows × 785 columns</p>\n",
       "</div>"
      ],
      "text/plain": [
       "   label  pixel0  pixel1  pixel2  pixel3  pixel4  pixel5  pixel6  pixel7  \\\n",
       "0      1       0       0       0       0       0       0       0       0   \n",
       "1      0       0       0       0       0       0       0       0       0   \n",
       "2      1       0       0       0       0       0       0       0       0   \n",
       "3      4       0       0       0       0       0       0       0       0   \n",
       "4      0       0       0       0       0       0       0       0       0   \n",
       "\n",
       "   pixel8  ...  pixel774  pixel775  pixel776  pixel777  pixel778  pixel779  \\\n",
       "0       0  ...         0         0         0         0         0         0   \n",
       "1       0  ...         0         0         0         0         0         0   \n",
       "2       0  ...         0         0         0         0         0         0   \n",
       "3       0  ...         0         0         0         0         0         0   \n",
       "4       0  ...         0         0         0         0         0         0   \n",
       "\n",
       "   pixel780  pixel781  pixel782  pixel783  \n",
       "0         0         0         0         0  \n",
       "1         0         0         0         0  \n",
       "2         0         0         0         0  \n",
       "3         0         0         0         0  \n",
       "4         0         0         0         0  \n",
       "\n",
       "[5 rows x 785 columns]"
      ]
     },
     "execution_count": 3,
     "metadata": {},
     "output_type": "execute_result"
    }
   ],
   "source": [
    "df.head()"
   ]
  },
  {
   "cell_type": "code",
   "execution_count": 4,
   "metadata": {},
   "outputs": [
    {
     "data": {
      "text/plain": [
       "(42000, 785)"
      ]
     },
     "execution_count": 4,
     "metadata": {},
     "output_type": "execute_result"
    }
   ],
   "source": [
    "df.shape"
   ]
  },
  {
   "cell_type": "code",
   "execution_count": 5,
   "metadata": {
    "colab": {
     "base_uri": "https://localhost:8080/",
     "height": 346
    },
    "id": "zun2OXjIwGGz",
    "outputId": "4e21585f-b5cb-4d2e-8faa-b4940d1d906f"
   },
   "outputs": [
    {
     "data": {
      "text/html": [
       "<div>\n",
       "<style scoped>\n",
       "    .dataframe tbody tr th:only-of-type {\n",
       "        vertical-align: middle;\n",
       "    }\n",
       "\n",
       "    .dataframe tbody tr th {\n",
       "        vertical-align: top;\n",
       "    }\n",
       "\n",
       "    .dataframe thead th {\n",
       "        text-align: right;\n",
       "    }\n",
       "</style>\n",
       "<table border=\"1\" class=\"dataframe\">\n",
       "  <thead>\n",
       "    <tr style=\"text-align: right;\">\n",
       "      <th></th>\n",
       "      <th>label</th>\n",
       "      <th>pixel0</th>\n",
       "      <th>pixel1</th>\n",
       "      <th>pixel2</th>\n",
       "      <th>pixel3</th>\n",
       "      <th>pixel4</th>\n",
       "      <th>pixel5</th>\n",
       "      <th>pixel6</th>\n",
       "      <th>pixel7</th>\n",
       "      <th>pixel8</th>\n",
       "      <th>...</th>\n",
       "      <th>pixel774</th>\n",
       "      <th>pixel775</th>\n",
       "      <th>pixel776</th>\n",
       "      <th>pixel777</th>\n",
       "      <th>pixel778</th>\n",
       "      <th>pixel779</th>\n",
       "      <th>pixel780</th>\n",
       "      <th>pixel781</th>\n",
       "      <th>pixel782</th>\n",
       "      <th>pixel783</th>\n",
       "    </tr>\n",
       "  </thead>\n",
       "  <tbody>\n",
       "    <tr>\n",
       "      <th>count</th>\n",
       "      <td>42000.000000</td>\n",
       "      <td>42000.0</td>\n",
       "      <td>42000.0</td>\n",
       "      <td>42000.0</td>\n",
       "      <td>42000.0</td>\n",
       "      <td>42000.0</td>\n",
       "      <td>42000.0</td>\n",
       "      <td>42000.0</td>\n",
       "      <td>42000.0</td>\n",
       "      <td>42000.0</td>\n",
       "      <td>...</td>\n",
       "      <td>42000.000000</td>\n",
       "      <td>42000.000000</td>\n",
       "      <td>42000.000000</td>\n",
       "      <td>42000.00000</td>\n",
       "      <td>42000.000000</td>\n",
       "      <td>42000.000000</td>\n",
       "      <td>42000.0</td>\n",
       "      <td>42000.0</td>\n",
       "      <td>42000.0</td>\n",
       "      <td>42000.0</td>\n",
       "    </tr>\n",
       "    <tr>\n",
       "      <th>mean</th>\n",
       "      <td>4.456643</td>\n",
       "      <td>0.0</td>\n",
       "      <td>0.0</td>\n",
       "      <td>0.0</td>\n",
       "      <td>0.0</td>\n",
       "      <td>0.0</td>\n",
       "      <td>0.0</td>\n",
       "      <td>0.0</td>\n",
       "      <td>0.0</td>\n",
       "      <td>0.0</td>\n",
       "      <td>...</td>\n",
       "      <td>0.219286</td>\n",
       "      <td>0.117095</td>\n",
       "      <td>0.059024</td>\n",
       "      <td>0.02019</td>\n",
       "      <td>0.017238</td>\n",
       "      <td>0.002857</td>\n",
       "      <td>0.0</td>\n",
       "      <td>0.0</td>\n",
       "      <td>0.0</td>\n",
       "      <td>0.0</td>\n",
       "    </tr>\n",
       "    <tr>\n",
       "      <th>std</th>\n",
       "      <td>2.887730</td>\n",
       "      <td>0.0</td>\n",
       "      <td>0.0</td>\n",
       "      <td>0.0</td>\n",
       "      <td>0.0</td>\n",
       "      <td>0.0</td>\n",
       "      <td>0.0</td>\n",
       "      <td>0.0</td>\n",
       "      <td>0.0</td>\n",
       "      <td>0.0</td>\n",
       "      <td>...</td>\n",
       "      <td>6.312890</td>\n",
       "      <td>4.633819</td>\n",
       "      <td>3.274488</td>\n",
       "      <td>1.75987</td>\n",
       "      <td>1.894498</td>\n",
       "      <td>0.414264</td>\n",
       "      <td>0.0</td>\n",
       "      <td>0.0</td>\n",
       "      <td>0.0</td>\n",
       "      <td>0.0</td>\n",
       "    </tr>\n",
       "    <tr>\n",
       "      <th>min</th>\n",
       "      <td>0.000000</td>\n",
       "      <td>0.0</td>\n",
       "      <td>0.0</td>\n",
       "      <td>0.0</td>\n",
       "      <td>0.0</td>\n",
       "      <td>0.0</td>\n",
       "      <td>0.0</td>\n",
       "      <td>0.0</td>\n",
       "      <td>0.0</td>\n",
       "      <td>0.0</td>\n",
       "      <td>...</td>\n",
       "      <td>0.000000</td>\n",
       "      <td>0.000000</td>\n",
       "      <td>0.000000</td>\n",
       "      <td>0.00000</td>\n",
       "      <td>0.000000</td>\n",
       "      <td>0.000000</td>\n",
       "      <td>0.0</td>\n",
       "      <td>0.0</td>\n",
       "      <td>0.0</td>\n",
       "      <td>0.0</td>\n",
       "    </tr>\n",
       "    <tr>\n",
       "      <th>25%</th>\n",
       "      <td>2.000000</td>\n",
       "      <td>0.0</td>\n",
       "      <td>0.0</td>\n",
       "      <td>0.0</td>\n",
       "      <td>0.0</td>\n",
       "      <td>0.0</td>\n",
       "      <td>0.0</td>\n",
       "      <td>0.0</td>\n",
       "      <td>0.0</td>\n",
       "      <td>0.0</td>\n",
       "      <td>...</td>\n",
       "      <td>0.000000</td>\n",
       "      <td>0.000000</td>\n",
       "      <td>0.000000</td>\n",
       "      <td>0.00000</td>\n",
       "      <td>0.000000</td>\n",
       "      <td>0.000000</td>\n",
       "      <td>0.0</td>\n",
       "      <td>0.0</td>\n",
       "      <td>0.0</td>\n",
       "      <td>0.0</td>\n",
       "    </tr>\n",
       "    <tr>\n",
       "      <th>50%</th>\n",
       "      <td>4.000000</td>\n",
       "      <td>0.0</td>\n",
       "      <td>0.0</td>\n",
       "      <td>0.0</td>\n",
       "      <td>0.0</td>\n",
       "      <td>0.0</td>\n",
       "      <td>0.0</td>\n",
       "      <td>0.0</td>\n",
       "      <td>0.0</td>\n",
       "      <td>0.0</td>\n",
       "      <td>...</td>\n",
       "      <td>0.000000</td>\n",
       "      <td>0.000000</td>\n",
       "      <td>0.000000</td>\n",
       "      <td>0.00000</td>\n",
       "      <td>0.000000</td>\n",
       "      <td>0.000000</td>\n",
       "      <td>0.0</td>\n",
       "      <td>0.0</td>\n",
       "      <td>0.0</td>\n",
       "      <td>0.0</td>\n",
       "    </tr>\n",
       "    <tr>\n",
       "      <th>75%</th>\n",
       "      <td>7.000000</td>\n",
       "      <td>0.0</td>\n",
       "      <td>0.0</td>\n",
       "      <td>0.0</td>\n",
       "      <td>0.0</td>\n",
       "      <td>0.0</td>\n",
       "      <td>0.0</td>\n",
       "      <td>0.0</td>\n",
       "      <td>0.0</td>\n",
       "      <td>0.0</td>\n",
       "      <td>...</td>\n",
       "      <td>0.000000</td>\n",
       "      <td>0.000000</td>\n",
       "      <td>0.000000</td>\n",
       "      <td>0.00000</td>\n",
       "      <td>0.000000</td>\n",
       "      <td>0.000000</td>\n",
       "      <td>0.0</td>\n",
       "      <td>0.0</td>\n",
       "      <td>0.0</td>\n",
       "      <td>0.0</td>\n",
       "    </tr>\n",
       "    <tr>\n",
       "      <th>max</th>\n",
       "      <td>9.000000</td>\n",
       "      <td>0.0</td>\n",
       "      <td>0.0</td>\n",
       "      <td>0.0</td>\n",
       "      <td>0.0</td>\n",
       "      <td>0.0</td>\n",
       "      <td>0.0</td>\n",
       "      <td>0.0</td>\n",
       "      <td>0.0</td>\n",
       "      <td>0.0</td>\n",
       "      <td>...</td>\n",
       "      <td>254.000000</td>\n",
       "      <td>254.000000</td>\n",
       "      <td>253.000000</td>\n",
       "      <td>253.00000</td>\n",
       "      <td>254.000000</td>\n",
       "      <td>62.000000</td>\n",
       "      <td>0.0</td>\n",
       "      <td>0.0</td>\n",
       "      <td>0.0</td>\n",
       "      <td>0.0</td>\n",
       "    </tr>\n",
       "  </tbody>\n",
       "</table>\n",
       "<p>8 rows × 785 columns</p>\n",
       "</div>"
      ],
      "text/plain": [
       "              label   pixel0   pixel1   pixel2   pixel3   pixel4   pixel5  \\\n",
       "count  42000.000000  42000.0  42000.0  42000.0  42000.0  42000.0  42000.0   \n",
       "mean       4.456643      0.0      0.0      0.0      0.0      0.0      0.0   \n",
       "std        2.887730      0.0      0.0      0.0      0.0      0.0      0.0   \n",
       "min        0.000000      0.0      0.0      0.0      0.0      0.0      0.0   \n",
       "25%        2.000000      0.0      0.0      0.0      0.0      0.0      0.0   \n",
       "50%        4.000000      0.0      0.0      0.0      0.0      0.0      0.0   \n",
       "75%        7.000000      0.0      0.0      0.0      0.0      0.0      0.0   \n",
       "max        9.000000      0.0      0.0      0.0      0.0      0.0      0.0   \n",
       "\n",
       "        pixel6   pixel7   pixel8  ...      pixel774      pixel775  \\\n",
       "count  42000.0  42000.0  42000.0  ...  42000.000000  42000.000000   \n",
       "mean       0.0      0.0      0.0  ...      0.219286      0.117095   \n",
       "std        0.0      0.0      0.0  ...      6.312890      4.633819   \n",
       "min        0.0      0.0      0.0  ...      0.000000      0.000000   \n",
       "25%        0.0      0.0      0.0  ...      0.000000      0.000000   \n",
       "50%        0.0      0.0      0.0  ...      0.000000      0.000000   \n",
       "75%        0.0      0.0      0.0  ...      0.000000      0.000000   \n",
       "max        0.0      0.0      0.0  ...    254.000000    254.000000   \n",
       "\n",
       "           pixel776     pixel777      pixel778      pixel779  pixel780  \\\n",
       "count  42000.000000  42000.00000  42000.000000  42000.000000   42000.0   \n",
       "mean       0.059024      0.02019      0.017238      0.002857       0.0   \n",
       "std        3.274488      1.75987      1.894498      0.414264       0.0   \n",
       "min        0.000000      0.00000      0.000000      0.000000       0.0   \n",
       "25%        0.000000      0.00000      0.000000      0.000000       0.0   \n",
       "50%        0.000000      0.00000      0.000000      0.000000       0.0   \n",
       "75%        0.000000      0.00000      0.000000      0.000000       0.0   \n",
       "max      253.000000    253.00000    254.000000     62.000000       0.0   \n",
       "\n",
       "       pixel781  pixel782  pixel783  \n",
       "count   42000.0   42000.0   42000.0  \n",
       "mean        0.0       0.0       0.0  \n",
       "std         0.0       0.0       0.0  \n",
       "min         0.0       0.0       0.0  \n",
       "25%         0.0       0.0       0.0  \n",
       "50%         0.0       0.0       0.0  \n",
       "75%         0.0       0.0       0.0  \n",
       "max         0.0       0.0       0.0  \n",
       "\n",
       "[8 rows x 785 columns]"
      ]
     },
     "execution_count": 5,
     "metadata": {},
     "output_type": "execute_result"
    }
   ],
   "source": [
    "df.describe()"
   ]
  },
  {
   "cell_type": "markdown",
   "metadata": {
    "id": "3AGgqIAawVBu"
   },
   "source": [
    "If We see columns contain 0 and 1 values and datatype of columns is int64 which will take more memory, we can convert to uint8 uint can take values between 0 to 255\n",
    "it will help in saving some memory"
   ]
  },
  {
   "cell_type": "code",
   "execution_count": 6,
   "metadata": {
    "colab": {
     "base_uri": "https://localhost:8080/"
    },
    "id": "rXQIliCOrC25",
    "outputId": "f5b7e93b-28a4-45d2-bcb1-9629002ff4f6"
   },
   "outputs": [
    {
     "name": "stdout",
     "output_type": "stream",
     "text": [
      "<class 'pandas.core.frame.DataFrame'>\n",
      "RangeIndex: 42000 entries, 0 to 41999\n",
      "Columns: 785 entries, label to pixel783\n",
      "dtypes: int64(785)\n",
      "memory usage: 251.5 MB\n"
     ]
    }
   ],
   "source": [
    "df.info()"
   ]
  },
  {
   "cell_type": "code",
   "execution_count": 8,
   "metadata": {
    "id": "AulAM79sraRY"
   },
   "outputs": [],
   "source": [
    "df=df.astype(\"uint8\")\n"
   ]
  },
  {
   "cell_type": "code",
   "execution_count": 9,
   "metadata": {
    "colab": {
     "base_uri": "https://localhost:8080/"
    },
    "id": "TjKvGHh6uCYc",
    "outputId": "19b2e83a-ff54-4b92-a971-005c63095230"
   },
   "outputs": [
    {
     "name": "stdout",
     "output_type": "stream",
     "text": [
      "<class 'pandas.core.frame.DataFrame'>\n",
      "RangeIndex: 42000 entries, 0 to 41999\n",
      "Columns: 785 entries, label to pixel783\n",
      "dtypes: uint8(785)\n",
      "memory usage: 31.4 MB\n"
     ]
    }
   ],
   "source": [
    "df.info()"
   ]
  },
  {
   "cell_type": "markdown",
   "metadata": {
    "id": "WQBkdRquxbvs"
   },
   "source": [
    "We can see before changing datatype  memory usage was 251.5 MB but after changing data type it reduced to 31.4 mb"
   ]
  },
  {
   "cell_type": "code",
   "execution_count": 10,
   "metadata": {
    "colab": {
     "base_uri": "https://localhost:8080/",
     "height": 350
    },
    "id": "wkRltSNIuJNE",
    "outputId": "7e87dc96-2c16-4f1d-992f-5d5dc52a30c2"
   },
   "outputs": [
    {
     "name": "stderr",
     "output_type": "stream",
     "text": [
      "E:\\python\\lib\\site-packages\\seaborn\\_decorators.py:43: FutureWarning: Pass the following variable as a keyword arg: x. From version 0.12, the only valid positional argument will be `data`, and passing other arguments without an explicit keyword will result in an error or misinterpretation.\n",
      "  FutureWarning\n"
     ]
    },
    {
     "data": {
      "text/plain": [
       "<AxesSubplot:xlabel='label', ylabel='count'>"
      ]
     },
     "execution_count": 10,
     "metadata": {},
     "output_type": "execute_result"
    },
    {
     "data": {
      "image/png": "[encoded data removed]",
      "text/plain": [
       "<Figure size 432x288 with 1 Axes>"
      ]
     },
     "metadata": {},
     "output_type": "display_data"
    }
   ],
   "source": [
    "# checking count of different digit present  label columns \n",
    "sns.countplot(\"label\",data=df)"
   ]
  },
  {
   "cell_type": "markdown",
   "metadata": {
    "id": "fAgt8oa_yE4f"
   },
   "source": [
    "We have label between 0 and 9, all are almost equal distributed <br>\n",
    "We can say we don't have data imbalance problem"
   ]
  },
  {
   "cell_type": "code",
   "execution_count": 11,
   "metadata": {
    "id": "Q7AdBj-L4hZP"
   },
   "outputs": [],
   "source": [
    "# creaating X (predictor) and y (dependent) \n",
    "X=df.drop(\"label\",1)\n",
    "y=df[\"label\"]\n",
    "\n",
    "X_train,X_test,y_train,y_test=train_test_split(X,y,train_size=0.7,stratify=y,random_state=100)"
   ]
  },
  {
   "cell_type": "code",
   "execution_count": 12,
   "metadata": {
    "colab": {
     "base_uri": "https://localhost:8080/"
    },
    "id": "FZzciL4O5fTK",
    "outputId": "57883236-12a5-4e6d-ea4d-3d3f2bed8a80"
   },
   "outputs": [
    {
     "name": "stdout",
     "output_type": "stream",
     "text": [
      "(29399, 784)\n",
      "(29399,)\n",
      "(12601, 784)\n",
      "(12601,)\n"
     ]
    }
   ],
   "source": [
    "print(X_train.shape)\n",
    "print(y_train.shape)\n",
    "print(X_test.shape)\n",
    "print(y_test.shape)"
   ]
  },
  {
   "cell_type": "markdown",
   "metadata": {},
   "source": [
    "### Creating first model without using any Dimensionality reduction technique\n",
    "We will used 10 cross fold here and accuracy as evaluation matrix "
   ]
  },
  {
   "cell_type": "code",
   "execution_count": 13,
   "metadata": {
    "colab": {
     "base_uri": "https://localhost:8080/"
    },
    "id": "pxmT5Khc59ws",
    "outputId": "d73084df-d474-4e78-fbe1-8c75d4b0a890"
   },
   "outputs": [
    {
     "name": "stderr",
     "output_type": "stream",
     "text": [
      "E:\\python\\lib\\site-packages\\sklearn\\linear_model\\_sag.py:330: ConvergenceWarning: The max_iter was reached which means the coef_ did not converge\n",
      "  \"the coef_ did not converge\", ConvergenceWarning)\n",
      "E:\\python\\lib\\site-packages\\sklearn\\linear_model\\_sag.py:330: ConvergenceWarning: The max_iter was reached which means the coef_ did not converge\n",
      "  \"the coef_ did not converge\", ConvergenceWarning)\n",
      "E:\\python\\lib\\site-packages\\sklearn\\linear_model\\_sag.py:330: ConvergenceWarning: The max_iter was reached which means the coef_ did not converge\n",
      "  \"the coef_ did not converge\", ConvergenceWarning)\n",
      "E:\\python\\lib\\site-packages\\sklearn\\linear_model\\_sag.py:330: ConvergenceWarning: The max_iter was reached which means the coef_ did not converge\n",
      "  \"the coef_ did not converge\", ConvergenceWarning)\n",
      "E:\\python\\lib\\site-packages\\sklearn\\linear_model\\_sag.py:330: ConvergenceWarning: The max_iter was reached which means the coef_ did not converge\n",
      "  \"the coef_ did not converge\", ConvergenceWarning)\n",
      "E:\\python\\lib\\site-packages\\sklearn\\linear_model\\_sag.py:330: ConvergenceWarning: The max_iter was reached which means the coef_ did not converge\n",
      "  \"the coef_ did not converge\", ConvergenceWarning)\n",
      "E:\\python\\lib\\site-packages\\sklearn\\linear_model\\_sag.py:330: ConvergenceWarning: The max_iter was reached which means the coef_ did not converge\n",
      "  \"the coef_ did not converge\", ConvergenceWarning)\n",
      "E:\\python\\lib\\site-packages\\sklearn\\linear_model\\_sag.py:330: ConvergenceWarning: The max_iter was reached which means the coef_ did not converge\n",
      "  \"the coef_ did not converge\", ConvergenceWarning)\n",
      "E:\\python\\lib\\site-packages\\sklearn\\linear_model\\_sag.py:330: ConvergenceWarning: The max_iter was reached which means the coef_ did not converge\n",
      "  \"the coef_ did not converge\", ConvergenceWarning)\n"
     ]
    },
    {
     "name": "stdout",
     "output_type": "stream",
     "text": [
      "Wall time: 33min 41s\n"
     ]
    },
    {
     "name": "stderr",
     "output_type": "stream",
     "text": [
      "E:\\python\\lib\\site-packages\\sklearn\\linear_model\\_sag.py:330: ConvergenceWarning: The max_iter was reached which means the coef_ did not converge\n",
      "  \"the coef_ did not converge\", ConvergenceWarning)\n"
     ]
    }
   ],
   "source": [
    "\n",
    "%%time\n",
    "log_reg= LogisticRegression(multi_class='multinomial', solver='saga')\n",
    "scores = cross_val_score(log_reg, X_train,y_train, cv=10,scoring='accuracy')\n"
   ]
  },
  {
   "cell_type": "code",
   "execution_count": 14,
   "metadata": {
    "colab": {
     "base_uri": "https://localhost:8080/"
    },
    "id": "Am41_aOIIUrk",
    "outputId": "65637e09-5a2d-484d-e9e2-bf2bec851f4d"
   },
   "outputs": [
    {
     "name": "stdout",
     "output_type": "stream",
     "text": [
      "Accuracy for Logistic Regression:  0.913058122874873\n",
      "Accuracy for Logistic Regression:  0.9040816326530612\n",
      "Accuracy for Logistic Regression:  0.9224489795918367\n"
     ]
    }
   ],
   "source": [
    "print('Accuracy for Logistic Regression: ', scores.mean())\n",
    "print('Accuracy for Logistic Regression: ', scores.min())\n",
    "print('Accuracy for Logistic Regression: ', scores.max())"
   ]
  },
  {
   "cell_type": "markdown",
   "metadata": {},
   "source": [
    "### we got avg accuracy of .91 in logistic regression"
   ]
  },
  {
   "cell_type": "code",
   "execution_count": 15,
   "metadata": {
    "colab": {
     "base_uri": "https://localhost:8080/"
    },
    "id": "uXg30-qoIaot",
    "outputId": "cb6f2bcf-1e73-4f2b-9435-45c762ba7227"
   },
   "outputs": [
    {
     "name": "stderr",
     "output_type": "stream",
     "text": [
      "E:\\python\\lib\\site-packages\\sklearn\\linear_model\\_sag.py:330: ConvergenceWarning: The max_iter was reached which means the coef_ did not converge\n",
      "  \"the coef_ did not converge\", ConvergenceWarning)\n"
     ]
    },
    {
     "data": {
      "text/plain": [
       "LogisticRegression(multi_class='multinomial', solver='saga')"
      ]
     },
     "execution_count": 15,
     "metadata": {},
     "output_type": "execute_result"
    }
   ],
   "source": [
    "# Making final model for checking on hold out test\n",
    "lr1=LogisticRegression(multi_class='multinomial', solver='saga')\n",
    "lr1.fit(X_train,y_train)"
   ]
  },
  {
   "cell_type": "code",
   "execution_count": 16,
   "metadata": {
    "id": "wGuMrAvjKBKI"
   },
   "outputs": [],
   "source": [
    "y_test_predict=lr1.predict(X_test)\n"
   ]
  },
  {
   "cell_type": "code",
   "execution_count": 17,
   "metadata": {
    "colab": {
     "base_uri": "https://localhost:8080/"
    },
    "id": "wA96fn-HKr5U",
    "outputId": "ce319777-2b59-4dbd-d0aa-e158fb23592d"
   },
   "outputs": [
    {
     "name": "stdout",
     "output_type": "stream",
     "text": [
      "0.9108800888818348\n"
     ]
    }
   ],
   "source": [
    "\n",
    "print(accuracy_score(y_test,y_test_predict))"
   ]
  },
  {
   "cell_type": "markdown",
   "metadata": {
    "id": "qFY36aUbNmmh"
   },
   "source": [
    "### we got .91 accuracy IN test set"
   ]
  },
  {
   "cell_type": "markdown",
   "metadata": {},
   "source": [
    "# Applying Dimensionality reduction technique"
   ]
  },
  {
   "cell_type": "markdown",
   "metadata": {
    "id": "dupSDJ3xNqov"
   },
   "source": [
    "#### PCA "
   ]
  },
  {
   "cell_type": "code",
   "execution_count": 18,
   "metadata": {
    "id": "gGTll4PLLFzm"
   },
   "outputs": [],
   "source": [
    "from sklearn.decomposition import PCA"
   ]
  },
  {
   "cell_type": "code",
   "execution_count": 19,
   "metadata": {
    "colab": {
     "base_uri": "https://localhost:8080/"
    },
    "id": "11C3C-ryBxP5",
    "outputId": "b60dfd7c-3608-40af-b799-eccbed4d5842"
   },
   "outputs": [
    {
     "data": {
      "text/plain": [
       "array([[-8.45868908e+02, -2.76345132e+02, -2.43711910e+01, ...,\n",
       "         0.00000000e+00, -0.00000000e+00, -0.00000000e+00],\n",
       "       [-8.44655572e+02, -2.23173556e+02, -3.81298561e+01, ...,\n",
       "        -6.77664675e-13, -9.71354322e-14,  1.62376241e-13],\n",
       "       [-9.99009707e+01, -2.32923213e+02,  1.01025526e+03, ...,\n",
       "        -4.46779222e-14,  2.11409173e-15,  9.59542107e-14],\n",
       "       ...,\n",
       "       [ 2.34077713e+02, -2.81589092e+02,  6.37405780e+02, ...,\n",
       "         6.29684766e-16,  3.29489307e-17, -7.26922009e-16],\n",
       "       [ 2.81549248e+01,  1.02253652e+03, -2.25432595e+02, ...,\n",
       "        -4.04737247e-15,  3.91606420e-15, -2.60822131e-15],\n",
       "       [ 1.49918999e+03,  1.77256333e+01,  4.11092946e+02, ...,\n",
       "        -2.13207874e-16,  1.85828500e-15, -4.77466139e-17]])"
      ]
     },
     "execution_count": 19,
     "metadata": {},
     "output_type": "execute_result"
    }
   ],
   "source": [
    "pca=PCA(random_state=100)\n",
    "pca.fit_transform(X=X_train)"
   ]
  },
  {
   "cell_type": "code",
   "execution_count": 20,
   "metadata": {
    "colab": {
     "base_uri": "https://localhost:8080/"
    },
    "id": "mYALheLBJr8T",
    "outputId": "e34088e7-e45e-4fb8-c0b9-321bcc4e6ccd"
   },
   "outputs": [
    {
     "data": {
      "text/plain": [
       "array([9.71883383e-02, 7.18973682e-02, 6.16165348e-02, 5.37284385e-02,\n",
       "       4.91222560e-02, 4.29259595e-02, 3.26501896e-02, 2.89060943e-02,\n",
       "       2.76652803e-02, 2.35431658e-02, 2.10491264e-02, 2.04868296e-02,\n",
       "       1.70837952e-02, 1.70139662e-02, 1.57547638e-02, 1.48585618e-02,\n",
       "       1.32988722e-02, 1.28558968e-02, 1.19287936e-02, 1.15017237e-02,\n",
       "       1.06957882e-02, 1.01754332e-02, 9.59858906e-03, 9.07347862e-03,\n",
       "       8.84155206e-03, 8.40984109e-03, 8.20217545e-03, 7.66020276e-03,\n",
       "       7.37783026e-03, 6.89187557e-03, 6.58323950e-03, 6.38071542e-03,\n",
       "       6.02575296e-03, 5.85781361e-03, 5.60116783e-03, 5.39858402e-03,\n",
       "       5.10113326e-03, 4.88414865e-03, 4.79022451e-03, 4.71384231e-03,\n",
       "       4.52514294e-03, 4.44430276e-03, 4.18339130e-03, 3.98454543e-03,\n",
       "       3.86777584e-03, 3.72584439e-03, 3.62133515e-03, 3.48223912e-03,\n",
       "       3.35241937e-03, 3.20407997e-03, 3.15778900e-03, 3.09452340e-03,\n",
       "       2.94101256e-03, 2.86420422e-03, 2.83146607e-03, 2.72606526e-03,\n",
       "       2.64878482e-03, 2.56166310e-03, 2.54845143e-03, 2.44119371e-03,\n",
       "       2.40006627e-03, 2.37427993e-03, 2.28793590e-03, 2.20785650e-03,\n",
       "       2.15256322e-03, 2.06865442e-03, 2.03716346e-03, 1.96225353e-03,\n",
       "       1.92866550e-03, 1.87672611e-03, 1.86038557e-03, 1.82487400e-03,\n",
       "       1.76201308e-03, 1.73125279e-03, 1.67123766e-03, 1.63360630e-03,\n",
       "       1.60927241e-03, 1.53962515e-03, 1.46785655e-03, 1.42314112e-03,\n",
       "       1.41093201e-03, 1.40205356e-03, 1.38491611e-03, 1.35306670e-03,\n",
       "       1.31805262e-03, 1.29993545e-03, 1.29012524e-03, 1.24171777e-03,\n",
       "       1.22080761e-03, 1.19469410e-03, 1.15571703e-03, 1.13423392e-03,\n",
       "       1.11698876e-03, 1.11088326e-03, 1.07523951e-03, 1.06097114e-03,\n",
       "       1.04002978e-03, 1.03051652e-03, 1.01406423e-03, 9.89485694e-04,\n",
       "       9.78371115e-04, 9.43376531e-04, 9.34974768e-04, 9.19190089e-04,\n",
       "       9.13041410e-04, 8.88720659e-04, 8.59833173e-04, 8.45515687e-04,\n",
       "       8.37941355e-04, 8.10203321e-04, 7.91218481e-04, 7.82681331e-04,\n",
       "       7.77376163e-04, 7.72128142e-04, 7.52069010e-04, 7.48544279e-04,\n",
       "       7.33504816e-04, 7.24144664e-04, 7.13828969e-04, 7.01222694e-04,\n",
       "       6.94836426e-04, 6.83732080e-04, 6.78515985e-04, 6.69216151e-04,\n",
       "       6.57131238e-04, 6.42897296e-04, 6.34547119e-04, 6.24045398e-04,\n",
       "       6.14450039e-04, 6.05833626e-04, 6.02480882e-04, 5.89594045e-04,\n",
       "       5.86042916e-04, 5.84404589e-04, 5.70721261e-04, 5.62943092e-04,\n",
       "       5.60799491e-04, 5.50734740e-04, 5.33019579e-04, 5.27642780e-04,\n",
       "       5.20882524e-04, 5.11123968e-04, 5.02422168e-04, 4.98751380e-04,\n",
       "       4.97114819e-04, 4.92444487e-04, 4.82237346e-04, 4.76649671e-04,\n",
       "       4.75006304e-04, 4.68135303e-04, 4.63539249e-04, 4.60186636e-04,\n",
       "       4.53957528e-04, 4.53413326e-04, 4.48654204e-04, 4.45325395e-04,\n",
       "       4.39612354e-04, 4.23185187e-04, 4.20099294e-04, 4.13737101e-04,\n",
       "       4.10707707e-04, 4.08196914e-04, 3.99653663e-04, 3.94745769e-04,\n",
       "       3.91938229e-04, 3.87845158e-04, 3.83243380e-04, 3.79182333e-04,\n",
       "       3.76496081e-04, 3.74270046e-04, 3.63279216e-04, 3.62278893e-04,\n",
       "       3.58856663e-04, 3.55319330e-04, 3.53198660e-04, 3.49943760e-04,\n",
       "       3.47187647e-04, 3.44472943e-04, 3.41461339e-04, 3.38224396e-04,\n",
       "       3.35294796e-04, 3.28339735e-04, 3.24656102e-04, 3.24251078e-04,\n",
       "       3.22711030e-04, 3.19879524e-04, 3.18786826e-04, 3.14966894e-04,\n",
       "       3.12852019e-04, 3.10470211e-04, 3.07809010e-04, 3.02018416e-04,\n",
       "       3.00489187e-04, 2.97297053e-04, 2.95519172e-04, 2.93490747e-04,\n",
       "       2.91145841e-04, 2.90019299e-04, 2.85206192e-04, 2.84674397e-04,\n",
       "       2.80340165e-04, 2.76451212e-04, 2.74184441e-04, 2.70757294e-04,\n",
       "       2.67445263e-04, 2.64977933e-04, 2.62547866e-04, 2.61453826e-04,\n",
       "       2.60290597e-04, 2.58959010e-04, 2.56817086e-04, 2.55441094e-04,\n",
       "       2.53842226e-04, 2.53489136e-04, 2.51758884e-04, 2.49405550e-04,\n",
       "       2.45740835e-04, 2.44671280e-04, 2.44105171e-04, 2.41983836e-04,\n",
       "       2.41024815e-04, 2.39871802e-04, 2.37930911e-04, 2.34640319e-04,\n",
       "       2.31104661e-04, 2.30304514e-04, 2.28039518e-04, 2.26896214e-04,\n",
       "       2.25709963e-04, 2.23491727e-04, 2.20673388e-04, 2.18946509e-04,\n",
       "       2.17143616e-04, 2.15723246e-04, 2.14734835e-04, 2.12926532e-04,\n",
       "       2.09867659e-04, 2.08222483e-04, 2.07786647e-04, 2.05897273e-04,\n",
       "       2.04061280e-04, 2.03310343e-04, 2.02343359e-04, 1.98845358e-04,\n",
       "       1.98071304e-04, 1.96839877e-04, 1.95368445e-04, 1.93812553e-04,\n",
       "       1.92953889e-04, 1.91993614e-04, 1.89340107e-04, 1.88858191e-04,\n",
       "       1.86244681e-04, 1.85590895e-04, 1.84253479e-04, 1.83656052e-04,\n",
       "       1.81692020e-04, 1.81585846e-04, 1.80094329e-04, 1.79411343e-04,\n",
       "       1.75824804e-04, 1.75197021e-04, 1.74412020e-04, 1.73158018e-04,\n",
       "       1.71834570e-04, 1.70835415e-04, 1.69328431e-04, 1.68490593e-04,\n",
       "       1.68133361e-04, 1.67824383e-04, 1.65549728e-04, 1.64208666e-04,\n",
       "       1.63844912e-04, 1.62042809e-04, 1.60378227e-04, 1.59531484e-04,\n",
       "       1.58838273e-04, 1.57403473e-04, 1.56812587e-04, 1.56276526e-04,\n",
       "       1.55424777e-04, 1.54402340e-04, 1.53137544e-04, 1.52103575e-04,\n",
       "       1.51209607e-04, 1.50535804e-04, 1.49005804e-04, 1.48749555e-04,\n",
       "       1.46349018e-04, 1.45077429e-04, 1.43758989e-04, 1.43346424e-04,\n",
       "       1.42246893e-04, 1.41897902e-04, 1.40902576e-04, 1.40411191e-04,\n",
       "       1.38104798e-04, 1.37133375e-04, 1.36007642e-04, 1.35399926e-04,\n",
       "       1.34885410e-04, 1.33562542e-04, 1.32998744e-04, 1.31378126e-04,\n",
       "       1.30161666e-04, 1.28943964e-04, 1.28044902e-04, 1.27497407e-04,\n",
       "       1.26949859e-04, 1.25931170e-04, 1.24788490e-04, 1.24391199e-04,\n",
       "       1.23830549e-04, 1.22356389e-04, 1.21910849e-04, 1.21286880e-04,\n",
       "       1.20437449e-04, 1.19421831e-04, 1.17747576e-04, 1.17461981e-04,\n",
       "       1.16487983e-04, 1.15427680e-04, 1.14862936e-04, 1.13796806e-04,\n",
       "       1.13250671e-04, 1.12325279e-04, 1.11441556e-04, 1.10384758e-04,\n",
       "       1.09922072e-04, 1.09639746e-04, 1.08437660e-04, 1.07906079e-04,\n",
       "       1.07567549e-04, 1.06665199e-04, 1.06204632e-04, 1.05517405e-04,\n",
       "       1.04419657e-04, 1.03343876e-04, 1.02442097e-04, 1.01926536e-04,\n",
       "       1.00528286e-04, 1.00126773e-04, 9.95563772e-05, 9.88211710e-05,\n",
       "       9.75945109e-05, 9.65050787e-05, 9.62339146e-05, 9.54738036e-05,\n",
       "       9.46659714e-05, 9.39554693e-05, 9.31836489e-05, 9.27489721e-05,\n",
       "       9.15409344e-05, 9.07452336e-05, 9.04437547e-05, 8.96153338e-05,\n",
       "       8.91062967e-05, 8.79502333e-05, 8.75751624e-05, 8.71604032e-05,\n",
       "       8.67359286e-05, 8.57547815e-05, 8.47621830e-05, 8.45039268e-05,\n",
       "       8.41788968e-05, 8.27087427e-05, 8.20247537e-05, 8.14420572e-05,\n",
       "       8.12829889e-05, 8.05814799e-05, 7.91525763e-05, 7.85469426e-05,\n",
       "       7.81280209e-05, 7.73055536e-05, 7.66247700e-05, 7.59281955e-05,\n",
       "       7.56127618e-05, 7.50745748e-05, 7.39387092e-05, 7.30910774e-05,\n",
       "       7.26719539e-05, 7.17240629e-05, 7.10261143e-05, 7.09624309e-05,\n",
       "       7.01740594e-05, 6.92167482e-05, 6.88810348e-05, 6.83504370e-05,\n",
       "       6.68277003e-05, 6.64543113e-05, 6.60331685e-05, 6.51605096e-05,\n",
       "       6.41322728e-05, 6.33656400e-05, 6.25533649e-05, 6.22879820e-05,\n",
       "       6.09882129e-05, 6.03565199e-05, 5.96170134e-05, 5.90578581e-05,\n",
       "       5.82770209e-05, 5.77542599e-05, 5.72966612e-05, 5.63137765e-05,\n",
       "       5.57843672e-05, 5.54945381e-05, 5.47876969e-05, 5.45467559e-05,\n",
       "       5.36461050e-05, 5.28761373e-05, 5.26723687e-05, 5.20068944e-05,\n",
       "       5.14940042e-05, 5.09585684e-05, 5.04000137e-05, 4.99126468e-05,\n",
       "       4.92441623e-05, 4.87409016e-05, 4.85318727e-05, 4.75228161e-05,\n",
       "       4.69333900e-05, 4.60763137e-05, 4.59433026e-05, 4.54755954e-05,\n",
       "       4.50803418e-05, 4.41668795e-05, 4.28470517e-05, 4.23566037e-05,\n",
       "       4.21158637e-05, 4.19512263e-05, 4.16178247e-05, 4.08358466e-05,\n",
       "       4.01432673e-05, 4.00291572e-05, 3.97476789e-05, 3.84737561e-05,\n",
       "       3.80020909e-05, 3.72351382e-05, 3.71684649e-05, 3.64568898e-05,\n",
       "       3.60267315e-05, 3.56063934e-05, 3.52186712e-05, 3.46800603e-05,\n",
       "       3.45585388e-05, 3.38511434e-05, 3.36333167e-05, 3.32571310e-05,\n",
       "       3.28527538e-05, 3.22096765e-05, 3.19394220e-05, 3.10768598e-05,\n",
       "       3.07000865e-05, 3.04446348e-05, 2.98246516e-05, 2.96362360e-05,\n",
       "       2.89654293e-05, 2.87329194e-05, 2.84688595e-05, 2.80222748e-05,\n",
       "       2.78486038e-05, 2.74503451e-05, 2.66642898e-05, 2.61497188e-05,\n",
       "       2.54364369e-05, 2.50787622e-05, 2.49331998e-05, 2.46965475e-05,\n",
       "       2.42554832e-05, 2.40468277e-05, 2.36654370e-05, 2.35406771e-05,\n",
       "       2.33662037e-05, 2.30646008e-05, 2.25310045e-05, 2.21933477e-05,\n",
       "       2.18360006e-05, 2.14637874e-05, 2.11732279e-05, 2.08585455e-05,\n",
       "       2.06797379e-05, 2.04259945e-05, 2.01858750e-05, 1.97947247e-05,\n",
       "       1.97134290e-05, 1.92515137e-05, 1.88707218e-05, 1.87274061e-05,\n",
       "       1.86839935e-05, 1.85046074e-05, 1.78759472e-05, 1.73868646e-05,\n",
       "       1.71432855e-05, 1.70104205e-05, 1.67230568e-05, 1.61669818e-05,\n",
       "       1.57942341e-05, 1.56435980e-05, 1.53473381e-05, 1.51792168e-05,\n",
       "       1.50500228e-05, 1.47944234e-05, 1.46697852e-05, 1.43446937e-05,\n",
       "       1.40296456e-05, 1.37584171e-05, 1.36601579e-05, 1.34173030e-05,\n",
       "       1.32849212e-05, 1.29099152e-05, 1.26679808e-05, 1.25806455e-05,\n",
       "       1.23601761e-05, 1.21031699e-05, 1.19885973e-05, 1.18030352e-05,\n",
       "       1.17402082e-05, 1.14513835e-05, 1.13612119e-05, 1.12649921e-05,\n",
       "       1.10290665e-05, 1.07078246e-05, 1.06407719e-05, 1.05900727e-05,\n",
       "       1.02230358e-05, 9.98101079e-06, 9.63706214e-06, 9.50150778e-06,\n",
       "       9.36992691e-06, 9.20387018e-06, 9.14348353e-06, 9.02809358e-06,\n",
       "       8.67484939e-06, 8.50017209e-06, 8.10378312e-06, 7.90525977e-06,\n",
       "       7.84952803e-06, 7.77086052e-06, 7.65012710e-06, 7.58487495e-06,\n",
       "       7.33778032e-06, 7.20271853e-06, 7.14294261e-06, 7.10378646e-06,\n",
       "       6.86343330e-06, 6.72233323e-06, 6.68347732e-06, 6.59347457e-06,\n",
       "       6.18576728e-06, 6.16005049e-06, 5.91968892e-06, 5.77938909e-06,\n",
       "       5.69129323e-06, 5.54752193e-06, 5.32918219e-06, 5.21642094e-06,\n",
       "       5.20086857e-06, 5.14995478e-06, 5.10638687e-06, 5.06733927e-06,\n",
       "       4.83849687e-06, 4.78204918e-06, 4.63865277e-06, 4.47851191e-06,\n",
       "       4.43619260e-06, 4.37508234e-06, 4.32791460e-06, 4.05062830e-06,\n",
       "       4.00415359e-06, 3.91490227e-06, 3.89176526e-06, 3.87741742e-06,\n",
       "       3.82522879e-06, 3.50121070e-06, 3.39685702e-06, 3.26924373e-06,\n",
       "       3.16908976e-06, 3.08413220e-06, 3.06455511e-06, 3.02071902e-06,\n",
       "       2.98018386e-06, 2.89027718e-06, 2.83073161e-06, 2.79171197e-06,\n",
       "       2.78111069e-06, 2.62663713e-06, 2.59066084e-06, 2.56797666e-06,\n",
       "       2.41238826e-06, 2.39591717e-06, 2.36506688e-06, 2.33216022e-06,\n",
       "       2.12341681e-06, 2.02685862e-06, 2.02578927e-06, 1.86070191e-06,\n",
       "       1.85195488e-06, 1.81332842e-06, 1.80115297e-06, 1.72332122e-06,\n",
       "       1.67551391e-06, 1.63918374e-06, 1.60456112e-06, 1.54882493e-06,\n",
       "       1.54249568e-06, 1.53907100e-06, 1.51320830e-06, 1.49781946e-06,\n",
       "       1.28770602e-06, 1.28484483e-06, 1.24736914e-06, 1.24199182e-06,\n",
       "       1.23260775e-06, 1.22728627e-06, 1.20991469e-06, 1.20070598e-06,\n",
       "       1.11530096e-06, 9.91918518e-07, 9.85496232e-07, 9.59636155e-07,\n",
       "       9.28674392e-07, 9.05864067e-07, 8.88516667e-07, 8.83929635e-07,\n",
       "       8.56616215e-07, 8.15125577e-07, 8.01699212e-07, 7.74190945e-07,\n",
       "       7.57233939e-07, 7.34629453e-07, 7.10048201e-07, 6.68130170e-07,\n",
       "       6.41950112e-07, 5.88146675e-07, 5.48672252e-07, 5.43115271e-07,\n",
       "       5.35421720e-07, 5.11996938e-07, 4.96499543e-07, 4.87788450e-07,\n",
       "       4.29393149e-07, 4.16942035e-07, 3.55908966e-07, 3.52869186e-07,\n",
       "       3.41811369e-07, 3.16149828e-07, 3.15015374e-07, 2.99965952e-07,\n",
       "       2.67952960e-07, 2.65973456e-07, 2.60237132e-07, 2.34464224e-07,\n",
       "       2.22443734e-07, 2.08398195e-07, 1.89707329e-07, 1.86385307e-07,\n",
       "       1.75832659e-07, 1.52816925e-07, 1.41968620e-07, 1.35040251e-07,\n",
       "       1.28979842e-07, 1.16377008e-07, 1.15513686e-07, 1.08745503e-07,\n",
       "       1.04992618e-07, 1.01689387e-07, 8.53241722e-08, 7.68711155e-08,\n",
       "       7.20776628e-08, 6.56587527e-08, 6.53498135e-08, 6.36847714e-08,\n",
       "       6.06848092e-08, 3.97396371e-08, 3.62826437e-08, 3.31448984e-08,\n",
       "       3.02882250e-08, 2.79208759e-08, 2.76446524e-08, 2.75413853e-08,\n",
       "       2.16901065e-08, 2.13870335e-08, 1.90715109e-08, 1.48968005e-08,\n",
       "       1.38852943e-08, 1.00465057e-08, 8.00873845e-09, 3.71308369e-09,\n",
       "       3.30565645e-09, 2.90305686e-09, 2.79834097e-09, 5.17882876e-10,\n",
       "       1.62914221e-10, 1.48710870e-10, 1.12082451e-11, 1.91739914e-32,\n",
       "       4.46879520e-33, 3.41770636e-33, 2.87247658e-33, 2.06161259e-33,\n",
       "       1.88044318e-33, 1.30026882e-33, 1.00877966e-33, 6.56268713e-34,\n",
       "       5.94096839e-34, 5.56901985e-34, 5.56901985e-34, 5.56901985e-34,\n",
       "       5.56901985e-34, 5.56901985e-34, 5.56901985e-34, 5.56901985e-34,\n",
       "       5.56901985e-34, 5.56901985e-34, 5.56901985e-34, 5.56901985e-34,\n",
       "       5.56901985e-34, 5.56901985e-34, 5.56901985e-34, 5.56901985e-34,\n",
       "       5.56901985e-34, 5.56901985e-34, 5.56901985e-34, 5.56901985e-34,\n",
       "       5.56901985e-34, 5.56901985e-34, 5.56901985e-34, 5.56901985e-34,\n",
       "       5.56901985e-34, 5.56901985e-34, 5.56901985e-34, 5.56901985e-34,\n",
       "       5.56901985e-34, 5.56901985e-34, 5.56901985e-34, 5.56901985e-34,\n",
       "       5.56901985e-34, 5.56901985e-34, 5.56901985e-34, 5.56901985e-34,\n",
       "       5.56901985e-34, 5.56901985e-34, 5.56901985e-34, 5.56901985e-34,\n",
       "       5.56901985e-34, 5.56901985e-34, 5.56901985e-34, 5.56901985e-34,\n",
       "       5.56901985e-34, 5.56901985e-34, 5.56901985e-34, 5.56901985e-34,\n",
       "       5.56901985e-34, 5.56901985e-34, 5.56901985e-34, 5.56901985e-34,\n",
       "       5.56901985e-34, 5.56901985e-34, 5.56901985e-34, 5.56901985e-34,\n",
       "       5.56901985e-34, 5.56901985e-34, 5.56901985e-34, 5.56901985e-34,\n",
       "       5.56901985e-34, 5.56901985e-34, 5.56901985e-34, 5.56901985e-34,\n",
       "       5.56901985e-34, 5.56901985e-34, 5.56901985e-34, 5.56901985e-34,\n",
       "       5.56901985e-34, 5.56901985e-34, 5.56901985e-34, 5.56901985e-34,\n",
       "       5.56901985e-34, 5.56901985e-34, 5.56901985e-34, 5.56901985e-34,\n",
       "       5.53685288e-34, 2.09006203e-34, 1.01204590e-34, 2.30971635e-35])"
      ]
     },
     "execution_count": 20,
     "metadata": {},
     "output_type": "execute_result"
    }
   ],
   "source": [
    "pca.explained_variance_ratio_"
   ]
  },
  {
   "cell_type": "code",
   "execution_count": 21,
   "metadata": {
    "id": "EN71RLuGJNs4"
   },
   "outputs": [],
   "source": [
    "var_cumu = np.cumsum(pca.explained_variance_ratio_)"
   ]
  },
  {
   "cell_type": "code",
   "execution_count": 22,
   "metadata": {
    "colab": {
     "base_uri": "https://localhost:8080/",
     "height": 485
    },
    "id": "3FUwOhfLJoMs",
    "outputId": "992739d6-0630-451c-8ee7-f0fdc4a35bab"
   },
   "outputs": [
    {
     "data": {
      "image/png": "[encoded data removed]",
      "text/plain": [
       "<Figure size 864x576 with 1 Axes>"
      ]
     },
     "metadata": {},
     "output_type": "display_data"
    }
   ],
   "source": [
    "fig = plt.figure(figsize=[12,8])\n",
    "plt.vlines(x=100, ymax=1, ymin=0, colors=\"r\", linestyles=\"--\")\n",
    "plt.hlines(y=0.95, xmax=785, xmin=0, colors=\"g\", linestyles=\"--\")\n",
    "plt.plot(var_cumu)\n",
    "plt.ylabel(\"Cumulative variance explained\")\n",
    "plt.show()"
   ]
  },
  {
   "cell_type": "markdown",
   "metadata": {
    "id": "aSfCCPjeQ_7d"
   },
   "source": [
    "**We can achieve 90+ variance with only about 120 columns**"
   ]
  },
  {
   "cell_type": "code",
   "execution_count": 23,
   "metadata": {
    "colab": {
     "base_uri": "https://localhost:8080/"
    },
    "id": "u6KBeTSsQ-R5",
    "outputId": "e8e28cc1-0503-4e3d-ba43-8490ddebc920"
   },
   "outputs": [
    {
     "data": {
      "text/plain": [
       "array([[-845.86890836, -276.34513212,  -24.37119061, ...,  -90.4896623 ,\n",
       "          -7.63236036,   56.15194147],\n",
       "       [-844.65557238, -223.17355584,  -38.12985612, ...,   27.06869542,\n",
       "          61.15238641,   -3.73550699],\n",
       "       [ -99.90097073, -232.92321383, 1010.25525564, ...,   16.84329907,\n",
       "         -29.67562869,   11.56637762],\n",
       "       ...,\n",
       "       [ 234.077713  , -281.58909174,  637.40577898, ...,    5.14962214,\n",
       "         -71.04480442,  -21.55758248],\n",
       "       [  28.15492481, 1022.53651936, -225.43259513, ...,   58.55514271,\n",
       "         -16.54584668,  -10.48296737],\n",
       "       [1499.18998869,   17.72563326,  411.09294504, ...,   34.71762817,\n",
       "          32.74969326,  -22.30938335]])"
      ]
     },
     "execution_count": 23,
     "metadata": {},
     "output_type": "execute_result"
    }
   ],
   "source": [
    "pca=PCA(n_components=120,random_state=100)\n",
    "pca.fit_transform(X=X_train)"
   ]
  },
  {
   "cell_type": "code",
   "execution_count": 24,
   "metadata": {
    "colab": {
     "base_uri": "https://localhost:8080/"
    },
    "id": "YsnC9xJcPhSw",
    "outputId": "0ddfa43b-e2ed-4c9c-d332-17119892b2f7"
   },
   "outputs": [
    {
     "data": {
      "text/plain": [
       "(29399, 120)"
      ]
     },
     "execution_count": 24,
     "metadata": {},
     "output_type": "execute_result"
    }
   ],
   "source": [
    "\n",
    "\n",
    "pca_final = IncrementalPCA(n_components=120)\n",
    "\n",
    "df_train_pca = pca_final.fit_transform(X_train)\n",
    "\n",
    "df_train_pca.shape"
   ]
  },
  {
   "cell_type": "code",
   "execution_count": 25,
   "metadata": {
    "id": "jVlvn-qJUH0A"
   },
   "outputs": [],
   "source": [
    "df_test_pca=pca_final.transform(X_test)"
   ]
  },
  {
   "cell_type": "code",
   "execution_count": 26,
   "metadata": {
    "colab": {
     "base_uri": "https://localhost:8080/"
    },
    "id": "BghxIHNeW3Ui",
    "outputId": "93a222b2-3ca4-47d9-e076-2c4d6437d4fc"
   },
   "outputs": [
    {
     "data": {
      "text/plain": [
       "(12601, 120)"
      ]
     },
     "execution_count": 26,
     "metadata": {},
     "output_type": "execute_result"
    }
   ],
   "source": [
    "df_test_pca.shape"
   ]
  },
  {
   "cell_type": "code",
   "execution_count": 27,
   "metadata": {
    "colab": {
     "base_uri": "https://localhost:8080/"
    },
    "id": "Gk8VLM7vScmv",
    "outputId": "837c56e1-66cf-4d06-ade9-2460b8bd55b8"
   },
   "outputs": [
    {
     "name": "stderr",
     "output_type": "stream",
     "text": [
      "E:\\python\\lib\\site-packages\\sklearn\\linear_model\\_sag.py:330: ConvergenceWarning: The max_iter was reached which means the coef_ did not converge\n",
      "  \"the coef_ did not converge\", ConvergenceWarning)\n",
      "E:\\python\\lib\\site-packages\\sklearn\\linear_model\\_sag.py:330: ConvergenceWarning: The max_iter was reached which means the coef_ did not converge\n",
      "  \"the coef_ did not converge\", ConvergenceWarning)\n",
      "E:\\python\\lib\\site-packages\\sklearn\\linear_model\\_sag.py:330: ConvergenceWarning: The max_iter was reached which means the coef_ did not converge\n",
      "  \"the coef_ did not converge\", ConvergenceWarning)\n",
      "E:\\python\\lib\\site-packages\\sklearn\\linear_model\\_sag.py:330: ConvergenceWarning: The max_iter was reached which means the coef_ did not converge\n",
      "  \"the coef_ did not converge\", ConvergenceWarning)\n",
      "E:\\python\\lib\\site-packages\\sklearn\\linear_model\\_sag.py:330: ConvergenceWarning: The max_iter was reached which means the coef_ did not converge\n",
      "  \"the coef_ did not converge\", ConvergenceWarning)\n",
      "E:\\python\\lib\\site-packages\\sklearn\\linear_model\\_sag.py:330: ConvergenceWarning: The max_iter was reached which means the coef_ did not converge\n",
      "  \"the coef_ did not converge\", ConvergenceWarning)\n",
      "E:\\python\\lib\\site-packages\\sklearn\\linear_model\\_sag.py:330: ConvergenceWarning: The max_iter was reached which means the coef_ did not converge\n",
      "  \"the coef_ did not converge\", ConvergenceWarning)\n",
      "E:\\python\\lib\\site-packages\\sklearn\\linear_model\\_sag.py:330: ConvergenceWarning: The max_iter was reached which means the coef_ did not converge\n",
      "  \"the coef_ did not converge\", ConvergenceWarning)\n",
      "E:\\python\\lib\\site-packages\\sklearn\\linear_model\\_sag.py:330: ConvergenceWarning: The max_iter was reached which means the coef_ did not converge\n",
      "  \"the coef_ did not converge\", ConvergenceWarning)\n"
     ]
    },
    {
     "name": "stdout",
     "output_type": "stream",
     "text": [
      "Wall time: 6min 26s\n"
     ]
    },
    {
     "name": "stderr",
     "output_type": "stream",
     "text": [
      "E:\\python\\lib\\site-packages\\sklearn\\linear_model\\_sag.py:330: ConvergenceWarning: The max_iter was reached which means the coef_ did not converge\n",
      "  \"the coef_ did not converge\", ConvergenceWarning)\n"
     ]
    }
   ],
   "source": [
    "%%time \n",
    "\n",
    "# model build with 120 columns\n",
    "\n",
    "log_reg_pca= LogisticRegression(multi_class='multinomial', solver='saga')\n",
    "scores = cross_val_score(log_reg_pca, df_train_pca,y_train, cv=10,scoring='accuracy')"
   ]
  },
  {
   "cell_type": "code",
   "execution_count": 28,
   "metadata": {
    "colab": {
     "base_uri": "https://localhost:8080/"
    },
    "id": "4G6kOx-RS3CW",
    "outputId": "2401a8a9-91be-485e-c3dc-5874296c7ad3"
   },
   "outputs": [
    {
     "name": "stdout",
     "output_type": "stream",
     "text": [
      "Accuracy for Logistic Regression:  0.9126837880439689\n",
      "Accuracy for Logistic Regression:  0.9023809523809524\n",
      "Accuracy for Logistic Regression:  0.926530612244898\n"
     ]
    }
   ],
   "source": [
    "print('Accuracy for Logistic Regression: ', scores.mean())\n",
    "print('Accuracy for Logistic Regression: ', scores.min())\n",
    "print('Accuracy for Logistic Regression: ', scores.max())"
   ]
  },
  {
   "cell_type": "code",
   "execution_count": 29,
   "metadata": {
    "colab": {
     "base_uri": "https://localhost:8080/"
    },
    "id": "suqq5SO2VnRe",
    "outputId": "8cf87c41-9ce1-4640-f066-7d11b0acb364"
   },
   "outputs": [
    {
     "name": "stderr",
     "output_type": "stream",
     "text": [
      "E:\\python\\lib\\site-packages\\sklearn\\linear_model\\_sag.py:330: ConvergenceWarning: The max_iter was reached which means the coef_ did not converge\n",
      "  \"the coef_ did not converge\", ConvergenceWarning)\n"
     ]
    },
    {
     "data": {
      "text/plain": [
       "LogisticRegression(multi_class='multinomial', solver='saga')"
      ]
     },
     "execution_count": 29,
     "metadata": {},
     "output_type": "execute_result"
    }
   ],
   "source": [
    "lr_2_pca=LogisticRegression(multi_class='multinomial', solver='saga')\n",
    "lr_2_pca.fit(df_train_pca,y_train)"
   ]
  },
  {
   "cell_type": "code",
   "execution_count": 30,
   "metadata": {
    "id": "YbKWgQVSWM9i"
   },
   "outputs": [],
   "source": [
    "y_test_pred_pca=lr_2_pca.predict(df_test_pca)\n"
   ]
  },
  {
   "cell_type": "code",
   "execution_count": 31,
   "metadata": {
    "colab": {
     "base_uri": "https://localhost:8080/"
    },
    "id": "rSrVwI7lWkn7",
    "outputId": "ea2d1258-82d2-44a3-bafe-54f0d7cd512d"
   },
   "outputs": [
    {
     "data": {
      "text/plain": [
       "0.9105626537576382"
      ]
     },
     "execution_count": 31,
     "metadata": {},
     "output_type": "execute_result"
    }
   ],
   "source": [
    "accuracy_score(y_test,y_test_pred_pca)"
   ]
  },
  {
   "cell_type": "markdown",
   "metadata": {
    "id": "y9RcN1q0XlVo"
   },
   "source": [
    "## Conclusion:-\n"
   ]
  },
  {
   "cell_type": "markdown",
   "metadata": {
    "id": "nfAHA40eYPh5"
   },
   "source": [
    "We can see that before applying PCA Our model took **33** min to train with **91 %** accuracy in test dataset <br>\n",
    "While after applying PCA We came to know that 90 % variance  can be achieved by only 120 features. <br>\n",
    "and after building logisitic regression multiclass model we can still acheive **91 %** accuracy and model took only **6 min** to train.\n",
    "<br>\n",
    "\n",
    "\n",
    "So in short we can say that we reduce **84.7%** features without loosing much accuracy in logisitic regression <br>\n",
    "and also time taken to train model  decrease to **82.4%** which is Quite good <br>"
   ]
  },
  {
   "cell_type": "markdown",
   "metadata": {
    "id": "lMacVB57YcML"
   },
   "source": [
    "**Improves the performance of the algorithms <br>\n",
    "Training time reduces. <br>\n",
    "Reduces overfitting of the model. <br>"
   ]
  }
 ],
 "metadata": {
  "colab": {
   "name": "Mnist.ipynb",
   "provenance": []
  },
  "kernelspec": {
   "display_name": "Python 3",
   "language": "python",
   "name": "python3"
  },
  "language_info": {
   "codemirror_mode": {
    "name": "ipython",
    "version": 3
   },
   "file_extension": ".py",
   "mimetype": "text/x-python",
   "name": "python",
   "nbconvert_exporter": "python",
   "pygments_lexer": "ipython3",
   "version": "3.7.6"
  }
 },
 "nbformat": 4,
 "nbformat_minor": 1
}
