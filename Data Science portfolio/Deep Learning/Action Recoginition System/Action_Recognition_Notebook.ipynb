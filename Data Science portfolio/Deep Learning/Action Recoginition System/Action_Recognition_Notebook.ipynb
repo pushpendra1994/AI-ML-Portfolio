{
  "nbformat": 4,
  "nbformat_minor": 0,
  "metadata": {
    "accelerator": "GPU",
    "colab": {
      "name": "Gesture_Recognition_Case_Study_Arvind_.ipynb",
      "provenance": [],
      "collapsed_sections": [],
      "toc_visible": true
    },
    "kernelspec": {
      "display_name": "Python 3",
      "language": "python",
      "name": "python3"
    },
    "language_info": {
      "codemirror_mode": {
        "name": "ipython",
        "version": 3
      },
      "file_extension": ".py",
      "mimetype": "text/x-python",
      "name": "python",
      "nbconvert_exporter": "python",
      "pygments_lexer": "ipython3",
      "version": "3.6.8"
    }
  },
  "cells": [
    {
      "cell_type": "markdown",
      "metadata": {
        "id": "ZuvOm4dUVa-i"
      },
      "source": [
        "## Deep Learning Course Project - Gesture Recognition\n",
        "\n",
        "### Problem Statement\n",
        "Imagine you are working as a data scientist at a home electronics company which manufactures state of the art smart televisions. You want to develop a cool feature in the smart-TV that can recognise five different gestures performed by the user which will help users control the TV without using a remote.\n",
        "\n",
        "The gestures are continuously monitored by the webcam mounted on the TV. Each gesture corresponds to a specific command:\n",
        " \n",
        "| Gesture | Corresponding Action |\n",
        "| --- | --- | \n",
        "| Thumbs Up | Increase the volume. |\n",
        "| Thumbs Down | Decrease the volume. |\n",
        "| Left Swipe | 'Jump' backwards 10 seconds. |\n",
        "| Right Swipe | 'Jump' forward 10 seconds. |\n",
        "| Stop | Pause the movie. |\n",
        "\n",
        "Each video is a sequence of 30 frames (or images).\n",
        "\n",
        "### Objectives:\n",
        "1. **Generator**:  The generator should be able to take a batch of videos as input without any error. Steps like cropping, resizing and normalization should be performed successfully.\n",
        "\n",
        "2. **Model**: Develop a model that is able to train without any errors which will be judged on the total number of parameters (as the inference(prediction) time should be less) and the accuracy achieved.\n",
        "\n",
        "3. **Write up**: This should contain the detailed procedure followed in choosing the final model. The write up should start with the reason for choosing the base model, then highlight the reasons and metrics taken into consideration to modify and experiment to arrive at the final model. "
      ]
    },
    {
      "cell_type": "code",
      "metadata": {
        "id": "yxigxxi2Va-u"
      },
      "source": [
        "# Supress warnings\n",
        "import warnings\n",
        "warnings.filterwarnings('ignore')"
      ],
      "execution_count": null,
      "outputs": []
    },
    {
      "cell_type": "code",
      "metadata": {
        "id": "iyOOPTQwSWqL"
      },
      "source": [
        "# %tensorflow_version 2.x\n",
        "# import tensorflow as tf\n",
        "# device_name = tf.test.gpu_device_name()\n",
        "# if device_name != '/device:GPU:0':\n",
        "#   raise SystemError('GPU device not found')\n",
        "# print('Found GPU at: {}'.format(device_name))"
      ],
      "execution_count": null,
      "outputs": []
    },
    {
      "cell_type": "code",
      "metadata": {
        "colab": {
          "base_uri": "https://localhost:8080/"
        },
        "id": "xUTJtAwkDHC5",
        "outputId": "3308b3ad-bce6-4c85-d73e-8934ba55f4ae"
      },
      "source": [
        "## Checking the GPU configuration\n",
        "\n",
        "!nvidia-smi"
      ],
      "execution_count": null,
      "outputs": [
        {
          "output_type": "stream",
          "text": [
            "Mon Feb  8 12:44:57 2021       \n",
            "+-----------------------------------------------------------------------------+\n",
            "| NVIDIA-SMI 390.30                 Driver Version: 390.30                    |\n",
            "|-------------------------------+----------------------+----------------------+\n",
            "| GPU  Name        Persistence-M| Bus-Id        Disp.A | Volatile Uncorr. ECC |\n",
            "| Fan  Temp  Perf  Pwr:Usage/Cap|         Memory-Usage | GPU-Util  Compute M. |\n",
            "|===============================+======================+======================|\n",
            "|   0  Tesla K80           Off  | 00000000:00:04.0 Off |                    0 |\n",
            "| N/A   43C    P0    70W / 149W |      0MiB / 11441MiB |     95%      Default |\n",
            "+-------------------------------+----------------------+----------------------+\n",
            "                                                                               \n",
            "+-----------------------------------------------------------------------------+\n",
            "| Processes:                                                       GPU Memory |\n",
            "|  GPU       PID   Type   Process name                             Usage      |\n",
            "|=============================================================================|\n",
            "|  No running processes found                                                 |\n",
            "+-----------------------------------------------------------------------------+\n"
          ],
          "name": "stdout"
        }
      ]
    },
    {
      "cell_type": "markdown",
      "metadata": {
        "id": "SgeXOHe5aKPT"
      },
      "source": [
        "# Gesture Recognition\n",
        "In this group project, you are going to build a 3D Conv model that will be able to predict the 5 gestures correctly. Please import the following libraries to get started."
      ]
    },
    {
      "cell_type": "code",
      "metadata": {
        "id": "JGgEiY4NaKPf"
      },
      "source": [
        "import numpy as np\n",
        "import os\n",
        "from scipy.misc import imread, imresize\n",
        "import datetime\n",
        "import cv2"
      ],
      "execution_count": null,
      "outputs": []
    },
    {
      "cell_type": "markdown",
      "metadata": {
        "id": "yWw3yErnaKPh"
      },
      "source": [
        "We set the random seed so that the results don't vary drastically."
      ]
    },
    {
      "cell_type": "code",
      "metadata": {
        "id": "RyFyg1E_aKPh",
        "outputId": "c2100c07-066e-4913-ac01-4c8317377a0d"
      },
      "source": [
        "np.random.seed(30)\n",
        "import random as rn\n",
        "rn.seed(30)\n",
        "from keras import backend as K\n",
        "import tensorflow as tf\n",
        "tf.set_random_seed(30) # not working\n",
        "# tf.random.set_seed(30)"
      ],
      "execution_count": null,
      "outputs": [
        {
          "output_type": "stream",
          "text": [
            "Using TensorFlow backend.\n"
          ],
          "name": "stderr"
        }
      ]
    },
    {
      "cell_type": "markdown",
      "metadata": {
        "id": "BN0mbMrbaKPi"
      },
      "source": [
        "In this block, you read the folder names for training and validation. You also set the `batch_size` here. Note that you set the batch size in such a way that you are able to use the GPU in full capacity. You keep increasing the batch size until the machine throws an error."
      ]
    },
    {
      "cell_type": "code",
      "metadata": {
        "id": "jb6lRSWmTAc5"
      },
      "source": [
        "train_doc = np.random.permutation(open('./Project_data/train.csv').readlines())\n",
        "val_doc = np.random.permutation(open('./Project_data/val.csv').readlines())\n",
        "batch_size = 20     #experiment with the batch size"
      ],
      "execution_count": null,
      "outputs": []
    },
    {
      "cell_type": "markdown",
      "metadata": {
        "id": "zFpAJMRPaKPj"
      },
      "source": [
        "## Generator\n",
        "This is one of the most important part of the code. The overall structure of the generator has been given. In the generator, you are going to preprocess the images as you have images of 2 different dimensions as well as create a batch of video frames. You have to experiment with `img_idx`, `y`,`z` and normalization such that you get high accuracy."
      ]
    },
    {
      "cell_type": "code",
      "metadata": {
        "id": "IHQaE4-JVa-2"
      },
      "source": [
        "SHOW_DEBUG_STEP=False"
      ],
      "execution_count": null,
      "outputs": []
    },
    {
      "cell_type": "code",
      "metadata": {
        "id": "_solV-GIaKPk"
      },
      "source": [
        "def generator(source_path, folder_list, batch_size,mode):\n",
        "    print( 'Source path = ', source_path, '; batch size =', batch_size)\n",
        "    img_idx = [ 0,  2,  3,  5,  7,  9, 10, 12, 14, 15, 17, 19, 20, 22, 24, 26, 27, 29]   #create a list of image numbers you want to use for a particular video\n",
        "    #################\n",
        "    x=len(img_idx)\n",
        "    y=120\n",
        "    z=120\n",
        "    ################\n",
        "    while True:\n",
        "        t = np.random.permutation(folder_list)\n",
        "        num_batches = len(t)//batch_size              # calculate the number of batches\n",
        "        remaining_seq=len(t)%batch_size\n",
        "       \n",
        "        for batch in range(num_batches): # we iterate over the number of batches\n",
        "            if SHOW_DEBUG_STEP:\n",
        "                print(\"batch number \",str(batch))\n",
        "            batch_data = np.zeros((batch_size,x,y,z,3)) # x is the number of images you use for each video, (y,z) is the final size of the input images and 3 is the number of channels RGB\n",
        "            batch_labels = np.zeros((batch_size,5)) # batch_labels is the one hot representation of the output\n",
        "            if mode=='train':\n",
        "                batch_data_aug = np.zeros((batch_size,x,y,z,3))\n",
        "                if SHOW_DEBUG_STEP:\n",
        "                        print(\"imge data aug container created \")\n",
        "                \n",
        "                \n",
        "          \n",
        "            for folder in range(batch_size): # iterate over the batch_size\n",
        "                imgs = os.listdir(source_path+'/'+ t[folder + (batch*batch_size)].split(';')[0]) # read all the images in the folder\n",
        "                for idx,item in enumerate(img_idx): #  Iterate iver the frames/images of a folder to read them in\n",
        "                    image = imread(source_path+'/'+ t[folder + (batch*batch_size)].strip().split(';')[0]+'/'+imgs[item]).astype(np.float32)\n",
        "                    image_resized=imresize(image,(y,z,3))\n",
        "            \n",
        "                #normalizing the images\n",
        "                    batch_data[folder,idx,:,:,0] = (image_resized[:,:,0])/255\n",
        "                    batch_data[folder,idx,:,:,1] = (image_resized[:,:,1])/255\n",
        "                    batch_data[folder,idx,:,:,2] = (image_resized[:,:,2])/255\n",
        "            \n",
        "                    if mode=='train':\n",
        "                        shifted = cv2.warpAffine(image, \n",
        "                                             np.float32([[1, 0, np.random.randint(-30,30)],[0, 1, np.random.randint(-30,30)]]), \n",
        "                                            (image.shape[1], image.shape[0]))\n",
        "                    \n",
        "                        gray = cv2.cvtColor(shifted,cv2.COLOR_BGR2GRAY)\n",
        "\n",
        "                        x0, y0 = np.argwhere(gray > 0).min(axis=0)\n",
        "                        x1, y1 = np.argwhere(gray > 0).max(axis=0) \n",
        "                    # cropping the images to have the targeted gestures and remove the noise from the images.\n",
        "                        cropped=shifted[x0:x1,y0:y1,:]\n",
        "                    \n",
        "                        image_resized=imresize(cropped,(y,z,3))\n",
        "                   \n",
        "            \n",
        "                        batch_data_aug[folder,idx,:,:,0] = (image_resized[:,:,0])/255\n",
        "                        batch_data_aug[folder,idx,:,:,1] = (image_resized[:,:,1])/255\n",
        "                        batch_data_aug[folder,idx,:,:,2] = (image_resized[:,:,2])/255\n",
        "                        if SHOW_DEBUG_STEP:\n",
        "                            print(\"cropping and resizing done!!\")\n",
        "                        \n",
        "                \n",
        "#                 if mode=='train':\n",
        "#                     batch_labels[folder, int(t[folder + (batch*batch_size)].strip().split(';')[2])] = 1\n",
        "                    \n",
        "            \n",
        "                batch_labels[folder, int(t[folder + (batch*batch_size)].strip().split(';')[2])] = 1 \n",
        "            \n",
        "            if mode=='train':\n",
        "                batch_data=np.concatenate([batch_data,batch_data_aug])\n",
        "                batch_labels=np.concatenate([batch_labels,batch_labels])\n",
        "                if SHOW_DEBUG_STEP:\n",
        "                    print(\"Aug leabel and imgss added  \")\n",
        "                    \n",
        "\n",
        "                \n",
        "            if SHOW_DEBUG_STEP:\n",
        "                print(\"batch data \"+str(batch_data.shape)+\" \"+str(batch_labels.shape))\n",
        "            yield batch_data, batch_labels #you yield the batch_data and the batch_labels, remember what does yield do\n",
        "\n",
        "\n",
        "            \n",
        "        # write the code for the remaining data points which are left after full batches\n",
        "        if remaining_seq != 0:\n",
        "            if SHOW_DEBUG_STEP:\n",
        "                print(\"sequence \")\n",
        "            batch_data = np.zeros((remaining_seq,x,y,z,3))\n",
        "            batch_labels = np.zeros((remaining_seq,5))\n",
        "            if mode=='train':\n",
        "                batch_data_aug = np.zeros((remaining_seq,x,y,z,3))\n",
        "          \n",
        "            for folder in range(remaining_seq):\n",
        "                imgs = os.listdir(source_path+'/'+ t[folder + (num_batches*batch_size)].split(';')[0])\n",
        "                for idx,item in enumerate(img_idx):\n",
        "                    image = imread(source_path+'/'+ t[folder + (num_batches*batch_size)].strip().split(';')[0]+'/'+imgs[item]).astype(np.float32)\n",
        "                    image_resized=imresize(image,(y,z,3))\n",
        "            \n",
        "                #normalizing the images\n",
        "                    batch_data[folder,idx,:,:,0] = (image_resized[:,:,0])/255\n",
        "                    batch_data[folder,idx,:,:,1] = (image_resized[:,:,1])/255\n",
        "                    batch_data[folder,idx,:,:,2] = (image_resized[:,:,2])/255\n",
        "            \n",
        "                    if mode=='train':\n",
        "                        shifted = cv2.warpAffine(image, \n",
        "                                             np.float32([[1, 0, np.random.randint(-30,30)],[0, 1, np.random.randint(-30,30)]]), \n",
        "                                            (image.shape[1], image.shape[0]))\n",
        "                    \n",
        "                        gray = cv2.cvtColor(shifted,cv2.COLOR_BGR2GRAY)\n",
        "\n",
        "                        x0, y0 = np.argwhere(gray > 0).min(axis=0)\n",
        "                        x1, y1 = np.argwhere(gray > 0).max(axis=0) \n",
        "                    # cropping the images to have the targeted gestures and remove the noise from the images.\n",
        "                        cropped=shifted[x0:x1,y0:y1,:]\n",
        "                    \n",
        "                        image_resized=imresize(cropped,(y,z,3))\n",
        "                   \n",
        "            \n",
        "                        batch_data_aug[folder,idx,:,:,0] = (image_resized[:,:,0])/255\n",
        "                        batch_data_aug[folder,idx,:,:,1] = (image_resized[:,:,1])/255\n",
        "                        batch_data_aug[folder,idx,:,:,2] = (image_resized[:,:,2])/255\n",
        "                \n",
        "            \n",
        "                batch_labels[folder, int(t[folder + (batch*batch_size)].strip().split(';')[2])] = 1 \n",
        "            if mode=='train':\n",
        "                batch_data=np.concatenate([batch_data,batch_data_aug])\n",
        "                batch_labels=np.concatenate([batch_labels,batch_labels])\n",
        "                    \n",
        "\n",
        "                \n",
        "            if SHOW_DEBUG_STEP:\n",
        "                print(\"batch data \"+str(batch_data.shape)+\" \"+str(batch_labels.shape))               \n",
        "            yield batch_data, batch_labels\n",
        "\n",
        "\n"
      ],
      "execution_count": null,
      "outputs": []
    },
    {
      "cell_type": "markdown",
      "metadata": {
        "id": "9ySwv89NaKPl"
      },
      "source": [
        "Note here that a video is represented above in the generator as (number of images, height, width, number of channels). Take this into consideration while creating the model architecture."
      ]
    },
    {
      "cell_type": "code",
      "metadata": {
        "colab": {
          "base_uri": "https://localhost:8080/"
        },
        "id": "2ZbQvhunaKPm",
        "outputId": "d3198400-60f7-48a0-a8bd-ee809a2d37bf"
      },
      "source": [
        "curr_dt_time = datetime.datetime.now()\n",
        "train_path = './Project_data/train'\n",
        "val_path = './Project_data/val'\n",
        "num_train_sequences = len(train_doc)\n",
        "print('# training sequences =', num_train_sequences)\n",
        "num_val_sequences = len(val_doc)\n",
        "print('# validation sequences =', num_val_sequences)\n",
        "num_epochs =  35 # choose the number of epochs\n",
        "print ('# epochs =', num_epochs)"
      ],
      "execution_count": null,
      "outputs": [
        {
          "output_type": "stream",
          "text": [
            "# training sequences = 663\n",
            "# validation sequences = 100\n",
            "# epochs = 35\n"
          ],
          "name": "stdout"
        }
      ]
    },
    {
      "cell_type": "markdown",
      "metadata": {
        "id": "XUcZFQjxaKPm"
      },
      "source": [
        "## Model\n",
        "Here you make the model using different functionalities that Keras provides. Remember to use `Conv3D` and `MaxPooling3D` and not `Conv2D` and `Maxpooling2D` for a 3D convolution model. You would want to use `TimeDistributed` while building a Conv2D + RNN model. Also remember that the last layer is the softmax. Design the network in such a way that the model is able to give good accuracy on the least number of parameters so that it can fit in the memory of the webcam."
      ]
    },
    {
      "cell_type": "code",
      "metadata": {
        "id": "9lLj-8mLaKPn"
      },
      "source": [
        "from keras.models import Sequential, Model\n",
        "from keras.layers import Dense, GRU, Flatten, TimeDistributed, Flatten, BatchNormalization, Activation,Dropout,LSTM\n",
        "from keras.layers.convolutional import Conv3D, MaxPooling3D,MaxPooling2D,Conv2D\n",
        "from keras.callbacks import ModelCheckpoint, ReduceLROnPlateau,EarlyStopping\n",
        "from keras import optimizers\n",
        "from keras.applications import MobileNetV2"
      ],
      "execution_count": null,
      "outputs": []
    },
    {
      "cell_type": "markdown",
      "metadata": {
        "id": "uaYsYWjTVa_G"
      },
      "source": [
        "## CNN - LSTM Model"
      ]
    },
    {
      "cell_type": "code",
      "metadata": {
        "id": "s2xKxKf7Va_G"
      },
      "source": [
        "model = Sequential()\n",
        "model.add(TimeDistributed(Conv2D(18, (3, 3) , padding='same', activation='relu'),\n",
        "                                  input_shape=(18,120,120,3)))\n",
        "model.add(TimeDistributed(BatchNormalization()))\n",
        "model.add(TimeDistributed(MaxPooling2D((2, 2))))\n",
        "        \n",
        "model.add(TimeDistributed(Conv2D(32, (3, 3) , padding='same', activation='relu')))\n",
        "model.add(TimeDistributed(BatchNormalization()))\n",
        "model.add(TimeDistributed(MaxPooling2D((2, 2))))\n",
        "        \n",
        "model.add(TimeDistributed(Conv2D(64, (3, 3) , padding='same', activation='relu')))\n",
        "model.add(TimeDistributed(BatchNormalization()))\n",
        "model.add(TimeDistributed(MaxPooling2D((2, 2))))\n",
        "        \n",
        "model.add(TimeDistributed(Conv2D(128, (3, 3) , padding='same', activation='relu')))\n",
        "model.add(TimeDistributed(BatchNormalization()))\n",
        "model.add(TimeDistributed(MaxPooling2D((2, 2))))\n",
        "        \n",
        "model.add(TimeDistributed(Conv2D(256, (3, 3) , padding='same', activation='relu')))\n",
        "model.add(TimeDistributed(BatchNormalization()))\n",
        "model.add(TimeDistributed(MaxPooling2D((2, 2))))\n",
        "        \n",
        "\n",
        "model.add(TimeDistributed(Flatten()))\n",
        "\n",
        "\n",
        "model.add(LSTM(128))\n",
        "model.add(Dropout(0.4))\n",
        "        \n",
        "model.add(Dense(128,activation='relu'))\n",
        "model.add(Dropout(0.4))\n",
        "model.add(Dense(5, activation='softmax'))"
      ],
      "execution_count": null,
      "outputs": []
    },
    {
      "cell_type": "markdown",
      "metadata": {
        "id": "7-7CiLesaKPo"
      },
      "source": [
        "Now that you have written the model, the next step is to `compile` the model. When you print the `summary` of the model, you'll see the total number of parameters you have to train."
      ]
    },
    {
      "cell_type": "code",
      "metadata": {
        "colab": {
          "base_uri": "https://localhost:8080/"
        },
        "id": "zUen9p7daKPo",
        "scrolled": false,
        "outputId": "44ff1e68-2171-4712-eaaa-c1b28aa2362a"
      },
      "source": [
        "optimiser  = optimizers.Adam() #write your optimizer\n",
        "model.compile(optimizer=optimiser, loss='categorical_crossentropy', metrics=['categorical_accuracy'])\n",
        "print (model.summary())"
      ],
      "execution_count": null,
      "outputs": [
        {
          "output_type": "stream",
          "text": [
            "_________________________________________________________________\n",
            "Layer (type)                 Output Shape              Param #   \n",
            "=================================================================\n",
            "time_distributed_17 (TimeDis (None, 18, 120, 120, 18)  504       \n",
            "_________________________________________________________________\n",
            "time_distributed_18 (TimeDis (None, 18, 120, 120, 18)  72        \n",
            "_________________________________________________________________\n",
            "time_distributed_19 (TimeDis (None, 18, 60, 60, 18)    0         \n",
            "_________________________________________________________________\n",
            "time_distributed_20 (TimeDis (None, 18, 60, 60, 32)    5216      \n",
            "_________________________________________________________________\n",
            "time_distributed_21 (TimeDis (None, 18, 60, 60, 32)    128       \n",
            "_________________________________________________________________\n",
            "time_distributed_22 (TimeDis (None, 18, 30, 30, 32)    0         \n",
            "_________________________________________________________________\n",
            "time_distributed_23 (TimeDis (None, 18, 30, 30, 64)    18496     \n",
            "_________________________________________________________________\n",
            "time_distributed_24 (TimeDis (None, 18, 30, 30, 64)    256       \n",
            "_________________________________________________________________\n",
            "time_distributed_25 (TimeDis (None, 18, 15, 15, 64)    0         \n",
            "_________________________________________________________________\n",
            "time_distributed_26 (TimeDis (None, 18, 15, 15, 128)   73856     \n",
            "_________________________________________________________________\n",
            "time_distributed_27 (TimeDis (None, 18, 15, 15, 128)   512       \n",
            "_________________________________________________________________\n",
            "time_distributed_28 (TimeDis (None, 18, 7, 7, 128)     0         \n",
            "_________________________________________________________________\n",
            "time_distributed_29 (TimeDis (None, 18, 7, 7, 256)     295168    \n",
            "_________________________________________________________________\n",
            "time_distributed_30 (TimeDis (None, 18, 7, 7, 256)     1024      \n",
            "_________________________________________________________________\n",
            "time_distributed_31 (TimeDis (None, 18, 3, 3, 256)     0         \n",
            "_________________________________________________________________\n",
            "time_distributed_32 (TimeDis (None, 18, 2304)          0         \n",
            "_________________________________________________________________\n",
            "lstm_2 (LSTM)                (None, 128)               1245696   \n",
            "_________________________________________________________________\n",
            "dropout_3 (Dropout)          (None, 128)               0         \n",
            "_________________________________________________________________\n",
            "dense_3 (Dense)              (None, 128)               16512     \n",
            "_________________________________________________________________\n",
            "dropout_4 (Dropout)          (None, 128)               0         \n",
            "_________________________________________________________________\n",
            "dense_4 (Dense)              (None, 5)                 645       \n",
            "=================================================================\n",
            "Total params: 1,658,085\n",
            "Trainable params: 1,657,089\n",
            "Non-trainable params: 996\n",
            "_________________________________________________________________\n",
            "None\n"
          ],
          "name": "stdout"
        }
      ]
    },
    {
      "cell_type": "markdown",
      "metadata": {
        "id": "8MbEnosfaKPp"
      },
      "source": [
        "Let us create the `train_generator` and the `val_generator` which will be used in `.fit_generator`."
      ]
    },
    {
      "cell_type": "code",
      "metadata": {
        "id": "IuGJyCT7aKPp"
      },
      "source": [
        "train_generator = generator(train_path, train_doc, batch_size,mode='train')\n",
        "val_generator = generator(val_path, val_doc, batch_size,mode='val')"
      ],
      "execution_count": null,
      "outputs": []
    },
    {
      "cell_type": "code",
      "metadata": {
        "id": "DooT9yf5aKPq"
      },
      "source": [
        "model_name = 'model_init' + '_' + str(curr_dt_time).replace(' ','').replace(':','_') + '/'\n",
        "    \n",
        "if not os.path.exists(model_name):\n",
        "    os.mkdir(model_name)\n",
        "        \n",
        "filepath = model_name + 'model-{epoch:05d}-{loss:.5f}-{categorical_accuracy:.5f}-{val_loss:.5f}-{val_categorical_accuracy:.5f}.h5'\n",
        "\n",
        "checkpoint = ModelCheckpoint(filepath, monitor='val_loss', verbose=1, save_best_only=True, save_weights_only=False, mode='auto', period=1)\n",
        "\n",
        "LR = ReduceLROnPlateau(monitor='val_loss', factor=0.2, verbose=1, patience=4)\n",
        "        \n",
        "ES = EarlyStopping( monitor=\"val_loss\", min_delta=0,patience=10,verbose=1)\n",
        "\n",
        "callbacks_list = [checkpoint, LR,ES]"
      ],
      "execution_count": null,
      "outputs": []
    },
    {
      "cell_type": "markdown",
      "metadata": {
        "id": "KuUMuLkzaKPr"
      },
      "source": [
        "The `steps_per_epoch` and `validation_steps` are used by `fit_generator` to decide the number of next() calls it need to make."
      ]
    },
    {
      "cell_type": "code",
      "metadata": {
        "id": "F-3ta0FMaKPs"
      },
      "source": [
        "if (num_train_sequences%batch_size) == 0:\n",
        "    steps_per_epoch = int(num_train_sequences/batch_size)\n",
        "else:\n",
        "    steps_per_epoch = (num_train_sequences//batch_size) + 1\n",
        "\n",
        "if (num_val_sequences%batch_size) == 0:\n",
        "    validation_steps = int(num_val_sequences/batch_size)\n",
        "else:\n",
        "    validation_steps = (num_val_sequences//batch_size) + 1"
      ],
      "execution_count": null,
      "outputs": []
    },
    {
      "cell_type": "markdown",
      "metadata": {
        "id": "KsOyDeMWVa_J"
      },
      "source": [
        "#### Code for Plotting the Loss and accuracy "
      ]
    },
    {
      "cell_type": "code",
      "metadata": {
        "id": "i1sH_zNSVa_J"
      },
      "source": [
        "def plot(history):\n",
        "    fig, axes = plt.subplots(nrows=1, ncols=2, figsize=(15,4))\n",
        "    axes[0].plot(history.history['loss'])   \n",
        "    axes[0].plot(history.history['val_loss'])\n",
        "    axes[0].legend(['loss','val_loss'])\n",
        "\n",
        "    axes[1].plot(history.history['categorical_accuracy'])   \n",
        "    axes[1].plot(history.history['val_categorical_accuracy'])\n",
        "    axes[1].legend(['categorical_accuracy','val_categorical_accuracy'])"
      ],
      "execution_count": null,
      "outputs": []
    },
    {
      "cell_type": "markdown",
      "metadata": {
        "id": "yuCYpEWQaKPt"
      },
      "source": [
        "Let us now fit the model. This will start training the model and with the help of the checkpoints, you'll be able to save the model at the end of each epoch."
      ]
    },
    {
      "cell_type": "code",
      "metadata": {
        "colab": {
          "base_uri": "https://localhost:8080/"
        },
        "id": "ffBdgJzoaKPt",
        "scrolled": false,
        "outputId": "0dc9d173-6bba-484b-fb13-0df58d511eb0"
      },
      "source": [
        "history=model.fit_generator(train_generator, steps_per_epoch=steps_per_epoch, epochs=num_epochs, verbose=1, \n",
        "                    callbacks=callbacks_list, validation_data=val_generator, \n",
        "                    validation_steps=validation_steps, class_weight=None, workers=1)"
      ],
      "execution_count": null,
      "outputs": [
        {
          "output_type": "stream",
          "text": [
            "Source path =  ./Project_data/val ; batch size = 20\n",
            "Source path =  ./Project_data/train ; batch size = 20\n",
            "Epoch 1/35\n",
            "34/34 [==============================] - 243s 7s/step - loss: 1.5421 - categorical_accuracy: 0.3046 - val_loss: 1.4360 - val_categorical_accuracy: 0.3500\n",
            "\n",
            "Epoch 00001: val_loss improved from inf to 1.43599, saving model to model_init_2021-02-0812_46_24.056165/model-00001-1.52876-0.31222-1.43599-0.35000.h5\n",
            "Epoch 2/35\n",
            "34/34 [==============================] - 94s 3s/step - loss: 1.3160 - categorical_accuracy: 0.4334 - val_loss: 1.1834 - val_categorical_accuracy: 0.5000\n",
            "\n",
            "Epoch 00002: val_loss improved from 1.43599 to 1.18344, saving model to model_init_2021-02-0812_46_24.056165/model-00002-1.30359-0.43590-1.18344-0.50000.h5\n",
            "Epoch 3/35\n",
            "34/34 [==============================] - 93s 3s/step - loss: 1.2430 - categorical_accuracy: 0.4731 - val_loss: 1.0618 - val_categorical_accuracy: 0.5200\n",
            "\n",
            "Epoch 00003: val_loss improved from 1.18344 to 1.06176, saving model to model_init_2021-02-0812_46_24.056165/model-00003-1.20603-0.48492-1.06176-0.52000.h5\n",
            "Epoch 4/35\n",
            "34/34 [==============================] - 95s 3s/step - loss: 1.1139 - categorical_accuracy: 0.5563 - val_loss: 1.7320 - val_categorical_accuracy: 0.3100\n",
            "\n",
            "Epoch 00004: val_loss did not improve from 1.06176\n",
            "Epoch 5/35\n",
            "34/34 [==============================] - 91s 3s/step - loss: 0.9940 - categorical_accuracy: 0.5968 - val_loss: 1.0567 - val_categorical_accuracy: 0.5500\n",
            "\n",
            "Epoch 00005: val_loss improved from 1.06176 to 1.05674, saving model to model_init_2021-02-0812_46_24.056165/model-00005-0.98629-0.59502-1.05674-0.55000.h5\n",
            "Epoch 6/35\n",
            "34/34 [==============================] - 91s 3s/step - loss: 1.0221 - categorical_accuracy: 0.5887 - val_loss: 0.8471 - val_categorical_accuracy: 0.6300\n",
            "\n",
            "Epoch 00006: val_loss improved from 1.05674 to 0.84706, saving model to model_init_2021-02-0812_46_24.056165/model-00006-0.97975-0.60332-0.84706-0.63000.h5\n",
            "Epoch 7/35\n",
            "34/34 [==============================] - 94s 3s/step - loss: 0.8894 - categorical_accuracy: 0.6527 - val_loss: 1.8457 - val_categorical_accuracy: 0.3600\n",
            "\n",
            "Epoch 00007: val_loss did not improve from 0.84706\n",
            "Epoch 8/35\n",
            "34/34 [==============================] - 98s 3s/step - loss: 0.8243 - categorical_accuracy: 0.6906 - val_loss: 0.7481 - val_categorical_accuracy: 0.6500\n",
            "\n",
            "Epoch 00008: val_loss improved from 0.84706 to 0.74810, saving model to model_init_2021-02-0812_46_24.056165/model-00008-0.76702-0.70362-0.74810-0.65000.h5\n",
            "Epoch 9/35\n",
            "34/34 [==============================] - 96s 3s/step - loss: 0.7448 - categorical_accuracy: 0.7090 - val_loss: 1.2326 - val_categorical_accuracy: 0.5400\n",
            "\n",
            "Epoch 00009: val_loss did not improve from 0.74810\n",
            "Epoch 10/35\n",
            "34/34 [==============================] - 96s 3s/step - loss: 0.7971 - categorical_accuracy: 0.7255 - val_loss: 0.9534 - val_categorical_accuracy: 0.6000\n",
            "\n",
            "Epoch 00010: val_loss did not improve from 0.74810\n",
            "Epoch 11/35\n",
            "34/34 [==============================] - 95s 3s/step - loss: 0.7641 - categorical_accuracy: 0.7259 - val_loss: 0.8123 - val_categorical_accuracy: 0.7000\n",
            "\n",
            "Epoch 00011: val_loss did not improve from 0.74810\n",
            "Epoch 12/35\n",
            "34/34 [==============================] - 99s 3s/step - loss: 0.7933 - categorical_accuracy: 0.7182 - val_loss: 0.8512 - val_categorical_accuracy: 0.6500\n",
            "\n",
            "Epoch 00012: val_loss did not improve from 0.74810\n",
            "\n",
            "Epoch 00012: ReduceLROnPlateau reducing learning rate to 0.00020000000949949026.\n",
            "Epoch 13/35\n",
            "34/34 [==============================] - 95s 3s/step - loss: 0.6265 - categorical_accuracy: 0.7649 - val_loss: 0.7737 - val_categorical_accuracy: 0.7000\n",
            "\n",
            "Epoch 00013: val_loss did not improve from 0.74810\n",
            "Epoch 14/35\n",
            "34/34 [==============================] - 94s 3s/step - loss: 0.5435 - categorical_accuracy: 0.8013 - val_loss: 0.8174 - val_categorical_accuracy: 0.6500\n",
            "\n",
            "Epoch 00014: val_loss did not improve from 0.74810\n",
            "Epoch 15/35\n",
            "34/34 [==============================] - 96s 3s/step - loss: 0.5863 - categorical_accuracy: 0.8160 - val_loss: 0.7743 - val_categorical_accuracy: 0.6600\n",
            "\n",
            "Epoch 00015: val_loss did not improve from 0.74810\n",
            "Epoch 16/35\n",
            "34/34 [==============================] - 94s 3s/step - loss: 0.5153 - categorical_accuracy: 0.8308 - val_loss: 0.6532 - val_categorical_accuracy: 0.7500\n",
            "\n",
            "Epoch 00016: val_loss improved from 0.74810 to 0.65318, saving model to model_init_2021-02-0812_46_24.056165/model-00016-0.41280-0.85143-0.65318-0.75000.h5\n",
            "Epoch 17/35\n",
            "34/34 [==============================] - 93s 3s/step - loss: 0.4688 - categorical_accuracy: 0.8333 - val_loss: 0.6338 - val_categorical_accuracy: 0.7600\n",
            "\n",
            "Epoch 00017: val_loss improved from 0.65318 to 0.63375, saving model to model_init_2021-02-0812_46_24.056165/model-00017-0.40708-0.84992-0.63375-0.76000.h5\n",
            "Epoch 18/35\n",
            "34/34 [==============================] - 92s 3s/step - loss: 0.5550 - categorical_accuracy: 0.8359 - val_loss: 0.8575 - val_categorical_accuracy: 0.6700\n",
            "\n",
            "Epoch 00018: val_loss did not improve from 0.63375\n",
            "Epoch 19/35\n",
            "34/34 [==============================] - 91s 3s/step - loss: 0.4348 - categorical_accuracy: 0.8565 - val_loss: 0.6015 - val_categorical_accuracy: 0.7500\n",
            "\n",
            "Epoch 00019: val_loss improved from 0.63375 to 0.60149, saving model to model_init_2021-02-0812_46_24.056165/model-00019-0.36193-0.86953-0.60149-0.75000.h5\n",
            "Epoch 20/35\n",
            "34/34 [==============================] - 92s 3s/step - loss: 0.4368 - categorical_accuracy: 0.8731 - val_loss: 0.5852 - val_categorical_accuracy: 0.8100\n",
            "\n",
            "Epoch 00020: val_loss improved from 0.60149 to 0.58519, saving model to model_init_2021-02-0812_46_24.056165/model-00020-0.35441-0.89065-0.58519-0.81000.h5\n",
            "Epoch 21/35\n",
            "34/34 [==============================] - 96s 3s/step - loss: 0.4243 - categorical_accuracy: 0.8738 - val_loss: 0.6096 - val_categorical_accuracy: 0.7700\n",
            "\n",
            "Epoch 00021: val_loss did not improve from 0.58519\n",
            "Epoch 22/35\n",
            "34/34 [==============================] - 96s 3s/step - loss: 0.3455 - categorical_accuracy: 0.8786 - val_loss: 0.7090 - val_categorical_accuracy: 0.7000\n",
            "\n",
            "Epoch 00022: val_loss did not improve from 0.58519\n",
            "Epoch 23/35\n",
            "34/34 [==============================] - 93s 3s/step - loss: 0.3540 - categorical_accuracy: 0.8801 - val_loss: 0.9915 - val_categorical_accuracy: 0.6600\n",
            "\n",
            "Epoch 00023: val_loss did not improve from 0.58519\n",
            "Epoch 24/35\n",
            "34/34 [==============================] - 93s 3s/step - loss: 0.4020 - categorical_accuracy: 0.8896 - val_loss: 0.5439 - val_categorical_accuracy: 0.7900\n",
            "\n",
            "Epoch 00024: val_loss improved from 0.58519 to 0.54395, saving model to model_init_2021-02-0812_46_24.056165/model-00024-0.30477-0.90347-0.54395-0.79000.h5\n",
            "Epoch 25/35\n",
            "34/34 [==============================] - 94s 3s/step - loss: 0.3615 - categorical_accuracy: 0.9058 - val_loss: 0.6198 - val_categorical_accuracy: 0.7600\n",
            "\n",
            "Epoch 00025: val_loss did not improve from 0.54395\n",
            "Epoch 26/35\n",
            "34/34 [==============================] - 94s 3s/step - loss: 0.4008 - categorical_accuracy: 0.8882 - val_loss: 0.4945 - val_categorical_accuracy: 0.7800\n",
            "\n",
            "Epoch 00026: val_loss improved from 0.54395 to 0.49450, saving model to model_init_2021-02-0812_46_24.056165/model-00026-0.30145-0.90196-0.49450-0.78000.h5\n",
            "Epoch 27/35\n",
            "34/34 [==============================] - 94s 3s/step - loss: 0.3514 - categorical_accuracy: 0.9014 - val_loss: 0.5845 - val_categorical_accuracy: 0.7600\n",
            "\n",
            "Epoch 00027: val_loss did not improve from 0.49450\n",
            "Epoch 28/35\n",
            "34/34 [==============================] - 97s 3s/step - loss: 0.2835 - categorical_accuracy: 0.9062 - val_loss: 0.5573 - val_categorical_accuracy: 0.8000\n",
            "\n",
            "Epoch 00028: val_loss did not improve from 0.49450\n",
            "Epoch 29/35\n",
            "34/34 [==============================] - 96s 3s/step - loss: 0.3676 - categorical_accuracy: 0.9065 - val_loss: 0.6677 - val_categorical_accuracy: 0.7400\n",
            "\n",
            "Epoch 00029: val_loss did not improve from 0.49450\n",
            "Epoch 30/35\n",
            "34/34 [==============================] - 93s 3s/step - loss: 0.3665 - categorical_accuracy: 0.9132 - val_loss: 0.6834 - val_categorical_accuracy: 0.7800\n",
            "\n",
            "Epoch 00030: val_loss did not improve from 0.49450\n",
            "\n",
            "Epoch 00030: ReduceLROnPlateau reducing learning rate to 4.0000001899898055e-05.\n",
            "Epoch 31/35\n",
            "34/34 [==============================] - 94s 3s/step - loss: 0.4054 - categorical_accuracy: 0.9014 - val_loss: 0.5400 - val_categorical_accuracy: 0.8100\n"
          ],
          "name": "stdout"
        },
        {
          "output_type": "stream",
          "text": [
            "\n",
            "Epoch 00031: val_loss did not improve from 0.49450\n",
            "Epoch 32/35\n",
            "34/34 [==============================] - 94s 3s/step - loss: 0.3633 - categorical_accuracy: 0.9051 - val_loss: 0.4773 - val_categorical_accuracy: 0.8200\n",
            "\n",
            "Epoch 00032: val_loss improved from 0.49450 to 0.47730, saving model to model_init_2021-02-0812_46_24.056165/model-00032-0.23995-0.92760-0.47730-0.82000.h5\n",
            "Epoch 33/35\n",
            "34/34 [==============================] - 93s 3s/step - loss: 0.2680 - categorical_accuracy: 0.9202 - val_loss: 0.4995 - val_categorical_accuracy: 0.7900\n",
            "\n",
            "Epoch 00033: val_loss did not improve from 0.47730\n",
            "Epoch 34/35\n",
            "34/34 [==============================] - 93s 3s/step - loss: 0.3089 - categorical_accuracy: 0.9191 - val_loss: 0.5218 - val_categorical_accuracy: 0.7900\n",
            "\n",
            "Epoch 00034: val_loss did not improve from 0.47730\n",
            "Epoch 35/35\n",
            "34/34 [==============================] - 96s 3s/step - loss: 0.2773 - categorical_accuracy: 0.9117 - val_loss: 0.5249 - val_categorical_accuracy: 0.8000\n",
            "\n",
            "Epoch 00035: val_loss did not improve from 0.47730\n"
          ],
          "name": "stdout"
        }
      ]
    },
    {
      "cell_type": "code",
      "metadata": {
        "id": "q8g8LkgTVa_K",
        "outputId": "51ae6f2a-7ebd-4798-8551-eee651bb4f43"
      },
      "source": [
        "plot(history)"
      ],
      "execution_count": null,
      "outputs": [
        {
          "output_type": "display_data",
          "data": {
            "image/png": "[encoded data removed]",
            "text/plain": [
              "<Figure size 1080x288 with 2 Axes>"
            ]
          },
          "metadata": {
            "tags": []
          }
        }
      ]
    },
    {
      "cell_type": "markdown",
      "metadata": {
        "id": "XDUoo4zKVa_L"
      },
      "source": [
        "#### For ``CNN - LSTM`` model we get a best training 90% and validation accuracy 82%"
      ]
    },
    {
      "cell_type": "markdown",
      "metadata": {
        "id": "4Tbg_cDVVa_L"
      },
      "source": [
        "![final%20model.jpg](attachment:final%20model.jpg)"
      ]
    },
    {
      "cell_type": "code",
      "metadata": {
        "id": "llbiYOibVa_L"
      },
      "source": [
        ""
      ],
      "execution_count": null,
      "outputs": []
    },
    {
      "cell_type": "code",
      "metadata": {
        "id": "bTq-C0hnVa_L"
      },
      "source": [
        ""
      ],
      "execution_count": null,
      "outputs": []
    },
    {
      "cell_type": "code",
      "metadata": {
        "id": "aCp2LpjdVa_M"
      },
      "source": [
        ""
      ],
      "execution_count": null,
      "outputs": []
    }
  ]
}